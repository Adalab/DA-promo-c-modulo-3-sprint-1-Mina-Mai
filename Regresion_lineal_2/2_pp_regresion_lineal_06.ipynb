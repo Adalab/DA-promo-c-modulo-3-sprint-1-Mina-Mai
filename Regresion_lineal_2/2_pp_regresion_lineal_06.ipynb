{
 "cells": [
  {
   "attachments": {},
   "cell_type": "markdown",
   "metadata": {},
   "source": [
    "## Pair Programming - Regresión lineal 6\n",
    "\n",
    "### Estandarización\n",
    "\n",
    "---"
   ]
  },
  {
   "cell_type": "code",
   "execution_count": 1,
   "metadata": {},
   "outputs": [],
   "source": [
    "# Tratamiento de datos\n",
    "import pandas as pd\n",
    "import numpy as np\n",
    "\n",
    "# Estandarización\n",
    "from sklearn.preprocessing import StandardScaler\n",
    "\n",
    "# Configuración warnings\n",
    "import warnings\n",
    "warnings.filterwarnings('ignore')"
   ]
  },
  {
   "attachments": {},
   "cell_type": "markdown",
   "metadata": {},
   "source": [
    "### 1. Abrimos nuestro df."
   ]
  },
  {
   "cell_type": "code",
   "execution_count": 2,
   "metadata": {},
   "outputs": [
    {
     "data": {
      "text/html": [
       "<div>\n",
       "<style scoped>\n",
       "    .dataframe tbody tr th:only-of-type {\n",
       "        vertical-align: middle;\n",
       "    }\n",
       "\n",
       "    .dataframe tbody tr th {\n",
       "        vertical-align: top;\n",
       "    }\n",
       "\n",
       "    .dataframe thead th {\n",
       "        text-align: right;\n",
       "    }\n",
       "</style>\n",
       "<table border=\"1\" class=\"dataframe\">\n",
       "  <thead>\n",
       "    <tr style=\"text-align: right;\">\n",
       "      <th></th>\n",
       "      <th>season</th>\n",
       "      <th>weekday</th>\n",
       "      <th>cat_time</th>\n",
       "      <th>holiday_cat</th>\n",
       "      <th>temp_c</th>\n",
       "      <th>snow_1h</th>\n",
       "      <th>traffic_volume</th>\n",
       "      <th>traffic_box</th>\n",
       "    </tr>\n",
       "  </thead>\n",
       "  <tbody>\n",
       "    <tr>\n",
       "      <th>0</th>\n",
       "      <td>Autumn</td>\n",
       "      <td>martes</td>\n",
       "      <td>morning</td>\n",
       "      <td>no</td>\n",
       "      <td>15.13</td>\n",
       "      <td>0.0</td>\n",
       "      <td>5546</td>\n",
       "      <td>544.504895</td>\n",
       "    </tr>\n",
       "    <tr>\n",
       "      <th>1</th>\n",
       "      <td>Autumn</td>\n",
       "      <td>martes</td>\n",
       "      <td>morning</td>\n",
       "      <td>no</td>\n",
       "      <td>16.21</td>\n",
       "      <td>0.0</td>\n",
       "      <td>4517</td>\n",
       "      <td>472.646491</td>\n",
       "    </tr>\n",
       "  </tbody>\n",
       "</table>\n",
       "</div>"
      ],
      "text/plain": [
       "   season weekday cat_time holiday_cat  temp_c  snow_1h  traffic_volume  \\\n",
       "0  Autumn  martes  morning          no   15.13      0.0            5546   \n",
       "1  Autumn  martes  morning          no   16.21      0.0            4517   \n",
       "\n",
       "   traffic_box  \n",
       "0   544.504895  \n",
       "1   472.646491  "
      ]
     },
     "execution_count": 2,
     "metadata": {},
     "output_type": "execute_result"
    }
   ],
   "source": [
    "df = pd.read_csv(\"../archivos/metro_B.csv\", index_col=0)\n",
    "df.head(2)"
   ]
  },
  {
   "attachments": {},
   "cell_type": "markdown",
   "metadata": {},
   "source": [
    "### 2. Aplicamos el método de estandarización."
   ]
  },
  {
   "attachments": {},
   "cell_type": "markdown",
   "metadata": {},
   "source": [
    "Primero separamos las columnas que queremos estandarizar"
   ]
  },
  {
   "cell_type": "code",
   "execution_count": 3,
   "metadata": {},
   "outputs": [],
   "source": [
    "estandarizadas = df[[\"temp_c\", \"snow_1h\"]]"
   ]
  },
  {
   "cell_type": "code",
   "execution_count": 4,
   "metadata": {},
   "outputs": [
    {
     "data": {
      "text/html": [
       "<div>\n",
       "<style scoped>\n",
       "    .dataframe tbody tr th:only-of-type {\n",
       "        vertical-align: middle;\n",
       "    }\n",
       "\n",
       "    .dataframe tbody tr th {\n",
       "        vertical-align: top;\n",
       "    }\n",
       "\n",
       "    .dataframe thead th {\n",
       "        text-align: right;\n",
       "    }\n",
       "</style>\n",
       "<table border=\"1\" class=\"dataframe\">\n",
       "  <thead>\n",
       "    <tr style=\"text-align: right;\">\n",
       "      <th></th>\n",
       "      <th>temp_c</th>\n",
       "      <th>snow_1h</th>\n",
       "    </tr>\n",
       "  </thead>\n",
       "  <tbody>\n",
       "    <tr>\n",
       "      <th>0</th>\n",
       "      <td>15.13</td>\n",
       "      <td>0.0</td>\n",
       "    </tr>\n",
       "    <tr>\n",
       "      <th>1</th>\n",
       "      <td>16.21</td>\n",
       "      <td>0.0</td>\n",
       "    </tr>\n",
       "  </tbody>\n",
       "</table>\n",
       "</div>"
      ],
      "text/plain": [
       "   temp_c  snow_1h\n",
       "0   15.13      0.0\n",
       "1   16.21      0.0"
      ]
     },
     "execution_count": 4,
     "metadata": {},
     "output_type": "execute_result"
    }
   ],
   "source": [
    "estandarizadas.head(2)"
   ]
  },
  {
   "attachments": {},
   "cell_type": "markdown",
   "metadata": {},
   "source": [
    "Inicializamos el método."
   ]
  },
  {
   "cell_type": "code",
   "execution_count": 5,
   "metadata": {},
   "outputs": [],
   "source": [
    "scaler = StandardScaler()"
   ]
  },
  {
   "cell_type": "code",
   "execution_count": 7,
   "metadata": {},
   "outputs": [
    {
     "data": {
      "text/html": [
       "<style>#sk-container-id-2 {color: black;background-color: white;}#sk-container-id-2 pre{padding: 0;}#sk-container-id-2 div.sk-toggleable {background-color: white;}#sk-container-id-2 label.sk-toggleable__label {cursor: pointer;display: block;width: 100%;margin-bottom: 0;padding: 0.3em;box-sizing: border-box;text-align: center;}#sk-container-id-2 label.sk-toggleable__label-arrow:before {content: \"▸\";float: left;margin-right: 0.25em;color: #696969;}#sk-container-id-2 label.sk-toggleable__label-arrow:hover:before {color: black;}#sk-container-id-2 div.sk-estimator:hover label.sk-toggleable__label-arrow:before {color: black;}#sk-container-id-2 div.sk-toggleable__content {max-height: 0;max-width: 0;overflow: hidden;text-align: left;background-color: #f0f8ff;}#sk-container-id-2 div.sk-toggleable__content pre {margin: 0.2em;color: black;border-radius: 0.25em;background-color: #f0f8ff;}#sk-container-id-2 input.sk-toggleable__control:checked~div.sk-toggleable__content {max-height: 200px;max-width: 100%;overflow: auto;}#sk-container-id-2 input.sk-toggleable__control:checked~label.sk-toggleable__label-arrow:before {content: \"▾\";}#sk-container-id-2 div.sk-estimator input.sk-toggleable__control:checked~label.sk-toggleable__label {background-color: #d4ebff;}#sk-container-id-2 div.sk-label input.sk-toggleable__control:checked~label.sk-toggleable__label {background-color: #d4ebff;}#sk-container-id-2 input.sk-hidden--visually {border: 0;clip: rect(1px 1px 1px 1px);clip: rect(1px, 1px, 1px, 1px);height: 1px;margin: -1px;overflow: hidden;padding: 0;position: absolute;width: 1px;}#sk-container-id-2 div.sk-estimator {font-family: monospace;background-color: #f0f8ff;border: 1px dotted black;border-radius: 0.25em;box-sizing: border-box;margin-bottom: 0.5em;}#sk-container-id-2 div.sk-estimator:hover {background-color: #d4ebff;}#sk-container-id-2 div.sk-parallel-item::after {content: \"\";width: 100%;border-bottom: 1px solid gray;flex-grow: 1;}#sk-container-id-2 div.sk-label:hover label.sk-toggleable__label {background-color: #d4ebff;}#sk-container-id-2 div.sk-serial::before {content: \"\";position: absolute;border-left: 1px solid gray;box-sizing: border-box;top: 0;bottom: 0;left: 50%;z-index: 0;}#sk-container-id-2 div.sk-serial {display: flex;flex-direction: column;align-items: center;background-color: white;padding-right: 0.2em;padding-left: 0.2em;position: relative;}#sk-container-id-2 div.sk-item {position: relative;z-index: 1;}#sk-container-id-2 div.sk-parallel {display: flex;align-items: stretch;justify-content: center;background-color: white;position: relative;}#sk-container-id-2 div.sk-item::before, #sk-container-id-2 div.sk-parallel-item::before {content: \"\";position: absolute;border-left: 1px solid gray;box-sizing: border-box;top: 0;bottom: 0;left: 50%;z-index: -1;}#sk-container-id-2 div.sk-parallel-item {display: flex;flex-direction: column;z-index: 1;position: relative;background-color: white;}#sk-container-id-2 div.sk-parallel-item:first-child::after {align-self: flex-end;width: 50%;}#sk-container-id-2 div.sk-parallel-item:last-child::after {align-self: flex-start;width: 50%;}#sk-container-id-2 div.sk-parallel-item:only-child::after {width: 0;}#sk-container-id-2 div.sk-dashed-wrapped {border: 1px dashed gray;margin: 0 0.4em 0.5em 0.4em;box-sizing: border-box;padding-bottom: 0.4em;background-color: white;}#sk-container-id-2 div.sk-label label {font-family: monospace;font-weight: bold;display: inline-block;line-height: 1.2em;}#sk-container-id-2 div.sk-label-container {text-align: center;}#sk-container-id-2 div.sk-container {/* jupyter's `normalize.less` sets `[hidden] { display: none; }` but bootstrap.min.css set `[hidden] { display: none !important; }` so we also need the `!important` here to be able to override the default hidden behavior on the sphinx rendered scikit-learn.org. See: https://github.com/scikit-learn/scikit-learn/issues/21755 */display: inline-block !important;position: relative;}#sk-container-id-2 div.sk-text-repr-fallback {display: none;}</style><div id=\"sk-container-id-2\" class=\"sk-top-container\"><div class=\"sk-text-repr-fallback\"><pre>StandardScaler()</pre><b>In a Jupyter environment, please rerun this cell to show the HTML representation or trust the notebook. <br />On GitHub, the HTML representation is unable to render, please try loading this page with nbviewer.org.</b></div><div class=\"sk-container\" hidden><div class=\"sk-item\"><div class=\"sk-estimator sk-toggleable\"><input class=\"sk-toggleable__control sk-hidden--visually\" id=\"sk-estimator-id-2\" type=\"checkbox\" checked><label for=\"sk-estimator-id-2\" class=\"sk-toggleable__label sk-toggleable__label-arrow\">StandardScaler</label><div class=\"sk-toggleable__content\"><pre>StandardScaler()</pre></div></div></div></div></div>"
      ],
      "text/plain": [
       "StandardScaler()"
      ]
     },
     "execution_count": 7,
     "metadata": {},
     "output_type": "execute_result"
    }
   ],
   "source": [
    "scaler.fit(estandarizadas)"
   ]
  },
  {
   "cell_type": "code",
   "execution_count": 8,
   "metadata": {},
   "outputs": [],
   "source": [
    "transformacion = scaler.transform(estandarizadas)"
   ]
  },
  {
   "attachments": {},
   "cell_type": "markdown",
   "metadata": {},
   "source": [
    "Convertimos los resultados a df."
   ]
  },
  {
   "cell_type": "code",
   "execution_count": 9,
   "metadata": {},
   "outputs": [],
   "source": [
    "df_transformacion = pd.DataFrame(transformacion, columns= estandarizadas.columns).reset_index()"
   ]
  },
  {
   "cell_type": "code",
   "execution_count": 10,
   "metadata": {},
   "outputs": [
    {
     "data": {
      "text/html": [
       "<div>\n",
       "<style scoped>\n",
       "    .dataframe tbody tr th:only-of-type {\n",
       "        vertical-align: middle;\n",
       "    }\n",
       "\n",
       "    .dataframe tbody tr th {\n",
       "        vertical-align: top;\n",
       "    }\n",
       "\n",
       "    .dataframe thead th {\n",
       "        text-align: right;\n",
       "    }\n",
       "</style>\n",
       "<table border=\"1\" class=\"dataframe\">\n",
       "  <thead>\n",
       "    <tr style=\"text-align: right;\">\n",
       "      <th></th>\n",
       "      <th>index</th>\n",
       "      <th>temp_c</th>\n",
       "      <th>snow_1h</th>\n",
       "    </tr>\n",
       "  </thead>\n",
       "  <tbody>\n",
       "    <tr>\n",
       "      <th>0</th>\n",
       "      <td>0</td>\n",
       "      <td>0.552310</td>\n",
       "      <td>-0.027233</td>\n",
       "    </tr>\n",
       "    <tr>\n",
       "      <th>1</th>\n",
       "      <td>1</td>\n",
       "      <td>0.637259</td>\n",
       "      <td>-0.027233</td>\n",
       "    </tr>\n",
       "  </tbody>\n",
       "</table>\n",
       "</div>"
      ],
      "text/plain": [
       "   index    temp_c   snow_1h\n",
       "0      0  0.552310 -0.027233\n",
       "1      1  0.637259 -0.027233"
      ]
     },
     "execution_count": 10,
     "metadata": {},
     "output_type": "execute_result"
    }
   ],
   "source": [
    "df_transformacion.head(2)"
   ]
  },
  {
   "cell_type": "code",
   "execution_count": 13,
   "metadata": {},
   "outputs": [
    {
     "data": {
      "text/html": [
       "<div>\n",
       "<style scoped>\n",
       "    .dataframe tbody tr th:only-of-type {\n",
       "        vertical-align: middle;\n",
       "    }\n",
       "\n",
       "    .dataframe tbody tr th {\n",
       "        vertical-align: top;\n",
       "    }\n",
       "\n",
       "    .dataframe thead th {\n",
       "        text-align: right;\n",
       "    }\n",
       "</style>\n",
       "<table border=\"1\" class=\"dataframe\">\n",
       "  <thead>\n",
       "    <tr style=\"text-align: right;\">\n",
       "      <th></th>\n",
       "      <th>index</th>\n",
       "      <th>season</th>\n",
       "      <th>cat_time</th>\n",
       "      <th>weekday</th>\n",
       "      <th>holiday_cat</th>\n",
       "      <th>traffic_volume</th>\n",
       "      <th>traffic_box</th>\n",
       "    </tr>\n",
       "  </thead>\n",
       "  <tbody>\n",
       "    <tr>\n",
       "      <th>0</th>\n",
       "      <td>0</td>\n",
       "      <td>Autumn</td>\n",
       "      <td>morning</td>\n",
       "      <td>martes</td>\n",
       "      <td>no</td>\n",
       "      <td>5546</td>\n",
       "      <td>544.504895</td>\n",
       "    </tr>\n",
       "    <tr>\n",
       "      <th>1</th>\n",
       "      <td>1</td>\n",
       "      <td>Autumn</td>\n",
       "      <td>morning</td>\n",
       "      <td>martes</td>\n",
       "      <td>no</td>\n",
       "      <td>4517</td>\n",
       "      <td>472.646491</td>\n",
       "    </tr>\n",
       "  </tbody>\n",
       "</table>\n",
       "</div>"
      ],
      "text/plain": [
       "   index  season cat_time weekday holiday_cat  traffic_volume  traffic_box\n",
       "0      0  Autumn  morning  martes          no            5546   544.504895\n",
       "1      1  Autumn  morning  martes          no            4517   472.646491"
      ]
     },
     "execution_count": 13,
     "metadata": {},
     "output_type": "execute_result"
    }
   ],
   "source": [
    "df_mini= df[[\"season\", \"cat_time\", \"weekday\", \"holiday_cat\", \"traffic_volume\", \"traffic_box\",]].reset_index()\n",
    "df_mini.head(2)"
   ]
  },
  {
   "cell_type": "code",
   "execution_count": 14,
   "metadata": {},
   "outputs": [],
   "source": [
    "df_total =df_mini.merge(df_transformacion, on=\"index\")"
   ]
  },
  {
   "cell_type": "code",
   "execution_count": 15,
   "metadata": {},
   "outputs": [
    {
     "data": {
      "text/html": [
       "<div>\n",
       "<style scoped>\n",
       "    .dataframe tbody tr th:only-of-type {\n",
       "        vertical-align: middle;\n",
       "    }\n",
       "\n",
       "    .dataframe tbody tr th {\n",
       "        vertical-align: top;\n",
       "    }\n",
       "\n",
       "    .dataframe thead th {\n",
       "        text-align: right;\n",
       "    }\n",
       "</style>\n",
       "<table border=\"1\" class=\"dataframe\">\n",
       "  <thead>\n",
       "    <tr style=\"text-align: right;\">\n",
       "      <th></th>\n",
       "      <th>index</th>\n",
       "      <th>season</th>\n",
       "      <th>cat_time</th>\n",
       "      <th>weekday</th>\n",
       "      <th>holiday_cat</th>\n",
       "      <th>traffic_volume</th>\n",
       "      <th>traffic_box</th>\n",
       "      <th>temp_c</th>\n",
       "      <th>snow_1h</th>\n",
       "    </tr>\n",
       "  </thead>\n",
       "  <tbody>\n",
       "    <tr>\n",
       "      <th>0</th>\n",
       "      <td>0</td>\n",
       "      <td>Autumn</td>\n",
       "      <td>morning</td>\n",
       "      <td>martes</td>\n",
       "      <td>no</td>\n",
       "      <td>5546</td>\n",
       "      <td>544.504895</td>\n",
       "      <td>0.552310</td>\n",
       "      <td>-0.027233</td>\n",
       "    </tr>\n",
       "    <tr>\n",
       "      <th>1</th>\n",
       "      <td>1</td>\n",
       "      <td>Autumn</td>\n",
       "      <td>morning</td>\n",
       "      <td>martes</td>\n",
       "      <td>no</td>\n",
       "      <td>4517</td>\n",
       "      <td>472.646491</td>\n",
       "      <td>0.637259</td>\n",
       "      <td>-0.027233</td>\n",
       "    </tr>\n",
       "    <tr>\n",
       "      <th>2</th>\n",
       "      <td>2</td>\n",
       "      <td>Autumn</td>\n",
       "      <td>morning</td>\n",
       "      <td>martes</td>\n",
       "      <td>no</td>\n",
       "      <td>4768</td>\n",
       "      <td>490.608780</td>\n",
       "      <td>0.654563</td>\n",
       "      <td>-0.027233</td>\n",
       "    </tr>\n",
       "    <tr>\n",
       "      <th>3</th>\n",
       "      <td>3</td>\n",
       "      <td>Autumn</td>\n",
       "      <td>morning</td>\n",
       "      <td>martes</td>\n",
       "      <td>no</td>\n",
       "      <td>5027</td>\n",
       "      <td>508.836531</td>\n",
       "      <td>0.697824</td>\n",
       "      <td>-0.027233</td>\n",
       "    </tr>\n",
       "    <tr>\n",
       "      <th>4</th>\n",
       "      <td>4</td>\n",
       "      <td>Autumn</td>\n",
       "      <td>morning</td>\n",
       "      <td>martes</td>\n",
       "      <td>no</td>\n",
       "      <td>4919</td>\n",
       "      <td>501.272305</td>\n",
       "      <td>0.777266</td>\n",
       "      <td>-0.027233</td>\n",
       "    </tr>\n",
       "    <tr>\n",
       "      <th>...</th>\n",
       "      <td>...</td>\n",
       "      <td>...</td>\n",
       "      <td>...</td>\n",
       "      <td>...</td>\n",
       "      <td>...</td>\n",
       "      <td>...</td>\n",
       "      <td>...</td>\n",
       "      <td>...</td>\n",
       "      <td>...</td>\n",
       "    </tr>\n",
       "    <tr>\n",
       "      <th>48165</th>\n",
       "      <td>48182</td>\n",
       "      <td>Autumn</td>\n",
       "      <td>night</td>\n",
       "      <td>domingo</td>\n",
       "      <td>no</td>\n",
       "      <td>336</td>\n",
       "      <td>77.952519</td>\n",
       "      <td>0.172402</td>\n",
       "      <td>-0.027233</td>\n",
       "    </tr>\n",
       "    <tr>\n",
       "      <th>48166</th>\n",
       "      <td>48183</td>\n",
       "      <td>Autumn</td>\n",
       "      <td>night</td>\n",
       "      <td>domingo</td>\n",
       "      <td>no</td>\n",
       "      <td>445</td>\n",
       "      <td>94.876354</td>\n",
       "      <td>0.118129</td>\n",
       "      <td>-0.027233</td>\n",
       "    </tr>\n",
       "    <tr>\n",
       "      <th>48167</th>\n",
       "      <td>48184</td>\n",
       "      <td>Autumn</td>\n",
       "      <td>morning</td>\n",
       "      <td>domingo</td>\n",
       "      <td>no</td>\n",
       "      <td>803</td>\n",
       "      <td>143.104869</td>\n",
       "      <td>0.115770</td>\n",
       "      <td>-0.027233</td>\n",
       "    </tr>\n",
       "    <tr>\n",
       "      <th>48168</th>\n",
       "      <td>48185</td>\n",
       "      <td>Autumn</td>\n",
       "      <td>morning</td>\n",
       "      <td>domingo</td>\n",
       "      <td>no</td>\n",
       "      <td>1176</td>\n",
       "      <td>186.469800</td>\n",
       "      <td>0.065430</td>\n",
       "      <td>-0.027233</td>\n",
       "    </tr>\n",
       "    <tr>\n",
       "      <th>48169</th>\n",
       "      <td>48186</td>\n",
       "      <td>Autumn</td>\n",
       "      <td>morning</td>\n",
       "      <td>domingo</td>\n",
       "      <td>no</td>\n",
       "      <td>2003</td>\n",
       "      <td>269.575003</td>\n",
       "      <td>0.067790</td>\n",
       "      <td>-0.027233</td>\n",
       "    </tr>\n",
       "  </tbody>\n",
       "</table>\n",
       "<p>48170 rows × 9 columns</p>\n",
       "</div>"
      ],
      "text/plain": [
       "       index  season cat_time  weekday holiday_cat  traffic_volume  \\\n",
       "0          0  Autumn  morning   martes          no            5546   \n",
       "1          1  Autumn  morning   martes          no            4517   \n",
       "2          2  Autumn  morning   martes          no            4768   \n",
       "3          3  Autumn  morning   martes          no            5027   \n",
       "4          4  Autumn  morning   martes          no            4919   \n",
       "...      ...     ...      ...      ...         ...             ...   \n",
       "48165  48182  Autumn    night  domingo          no             336   \n",
       "48166  48183  Autumn    night  domingo          no             445   \n",
       "48167  48184  Autumn  morning  domingo          no             803   \n",
       "48168  48185  Autumn  morning  domingo          no            1176   \n",
       "48169  48186  Autumn  morning  domingo          no            2003   \n",
       "\n",
       "       traffic_box    temp_c   snow_1h  \n",
       "0       544.504895  0.552310 -0.027233  \n",
       "1       472.646491  0.637259 -0.027233  \n",
       "2       490.608780  0.654563 -0.027233  \n",
       "3       508.836531  0.697824 -0.027233  \n",
       "4       501.272305  0.777266 -0.027233  \n",
       "...            ...       ...       ...  \n",
       "48165    77.952519  0.172402 -0.027233  \n",
       "48166    94.876354  0.118129 -0.027233  \n",
       "48167   143.104869  0.115770 -0.027233  \n",
       "48168   186.469800  0.065430 -0.027233  \n",
       "48169   269.575003  0.067790 -0.027233  \n",
       "\n",
       "[48170 rows x 9 columns]"
      ]
     },
     "execution_count": 15,
     "metadata": {},
     "output_type": "execute_result"
    }
   ],
   "source": [
    "df_total"
   ]
  },
  {
   "attachments": {},
   "cell_type": "markdown",
   "metadata": {},
   "source": [
    "### 3. Guardarmos en un csv"
   ]
  },
  {
   "cell_type": "code",
   "execution_count": 17,
   "metadata": {},
   "outputs": [],
   "source": [
    "df_total.to_csv('../archivos/metro_C.csv')"
   ]
  }
 ],
 "metadata": {
  "kernelspec": {
   "display_name": "base",
   "language": "python",
   "name": "python3"
  },
  "language_info": {
   "codemirror_mode": {
    "name": "ipython",
    "version": 3
   },
   "file_extension": ".py",
   "mimetype": "text/x-python",
   "name": "python",
   "nbconvert_exporter": "python",
   "pygments_lexer": "ipython3",
   "version": "3.9.7"
  },
  "orig_nbformat": 4,
  "vscode": {
   "interpreter": {
    "hash": "b3191f930eabfdf0eb39086a24df618ea48425015dbb471465fb2c793fed20fd"
   }
  }
 },
 "nbformat": 4,
 "nbformat_minor": 2
}
