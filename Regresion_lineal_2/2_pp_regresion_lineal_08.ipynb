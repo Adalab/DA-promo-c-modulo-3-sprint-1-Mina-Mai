{
 "cells": [
  {
   "attachments": {},
   "cell_type": "markdown",
   "metadata": {},
   "source": [
    "## Pair Programming - Regresión lineal 8\n",
    "\n",
    "### Encoding\n",
    "\n",
    "---"
   ]
  },
  {
   "cell_type": "code",
   "execution_count": 2,
   "metadata": {},
   "outputs": [],
   "source": [
    "# Tratamiento de datos\n",
    "import pandas as pd\n",
    "import numpy as np\n",
    "import datetime\n",
    "from datetime import date, datetime\n",
    "\n",
    "# Codificación de las variables numéricas\n",
    "from sklearn.preprocessing import LabelEncoder \n",
    "from sklearn.preprocessing import OneHotEncoder \n",
    "\n",
    "# Configuración warnings\n",
    "import warnings\n",
    "warnings.filterwarnings('ignore')"
   ]
  },
  {
   "attachments": {},
   "cell_type": "markdown",
   "metadata": {},
   "source": [
    "### 1. Codificamos el archivo ESTANDARIZADO"
   ]
  },
  {
   "cell_type": "code",
   "execution_count": 3,
   "metadata": {},
   "outputs": [],
   "source": [
    "df_estandarizado = pd.read_csv('../archivos/metro_C.csv', index_col=0)"
   ]
  },
  {
   "cell_type": "code",
   "execution_count": 4,
   "metadata": {},
   "outputs": [
    {
     "data": {
      "text/html": [
       "<div>\n",
       "<style scoped>\n",
       "    .dataframe tbody tr th:only-of-type {\n",
       "        vertical-align: middle;\n",
       "    }\n",
       "\n",
       "    .dataframe tbody tr th {\n",
       "        vertical-align: top;\n",
       "    }\n",
       "\n",
       "    .dataframe thead th {\n",
       "        text-align: right;\n",
       "    }\n",
       "</style>\n",
       "<table border=\"1\" class=\"dataframe\">\n",
       "  <thead>\n",
       "    <tr style=\"text-align: right;\">\n",
       "      <th></th>\n",
       "      <th>index</th>\n",
       "      <th>season</th>\n",
       "      <th>cat_time</th>\n",
       "      <th>weekday</th>\n",
       "      <th>holiday_cat</th>\n",
       "      <th>traffic_volume</th>\n",
       "      <th>traffic_box</th>\n",
       "      <th>temp_c</th>\n",
       "      <th>snow_1h</th>\n",
       "    </tr>\n",
       "  </thead>\n",
       "  <tbody>\n",
       "    <tr>\n",
       "      <th>0</th>\n",
       "      <td>0</td>\n",
       "      <td>Autumn</td>\n",
       "      <td>morning</td>\n",
       "      <td>martes</td>\n",
       "      <td>no</td>\n",
       "      <td>5546</td>\n",
       "      <td>544.504895</td>\n",
       "      <td>0.552310</td>\n",
       "      <td>-0.027233</td>\n",
       "    </tr>\n",
       "    <tr>\n",
       "      <th>1</th>\n",
       "      <td>1</td>\n",
       "      <td>Autumn</td>\n",
       "      <td>morning</td>\n",
       "      <td>martes</td>\n",
       "      <td>no</td>\n",
       "      <td>4517</td>\n",
       "      <td>472.646491</td>\n",
       "      <td>0.637259</td>\n",
       "      <td>-0.027233</td>\n",
       "    </tr>\n",
       "  </tbody>\n",
       "</table>\n",
       "</div>"
      ],
      "text/plain": [
       "   index  season cat_time weekday holiday_cat  traffic_volume  traffic_box  \\\n",
       "0      0  Autumn  morning  martes          no            5546   544.504895   \n",
       "1      1  Autumn  morning  martes          no            4517   472.646491   \n",
       "\n",
       "     temp_c   snow_1h  \n",
       "0  0.552310 -0.027233  \n",
       "1  0.637259 -0.027233  "
      ]
     },
     "execution_count": 4,
     "metadata": {},
     "output_type": "execute_result"
    }
   ],
   "source": [
    "df_estandarizado.head(2)"
   ]
  },
  {
   "cell_type": "code",
   "execution_count": 5,
   "metadata": {},
   "outputs": [
    {
     "data": {
      "text/plain": [
       "array(['no', 'si'], dtype=object)"
      ]
     },
     "execution_count": 5,
     "metadata": {},
     "output_type": "execute_result"
    }
   ],
   "source": [
    "df_estandarizado.holiday_cat.unique()"
   ]
  },
  {
   "cell_type": "code",
   "execution_count": 6,
   "metadata": {},
   "outputs": [],
   "source": [
    "mapa_estaciones = {'Autumn':3, 'Winter':1, 'spring':2, 'Summer':4 }\n",
    "\n",
    "mapa_cat_time = {'morning':4, 'midday':3, 'evening':2, 'night':1}\n",
    "\n",
    "mapa_weekday = {'tuesday':2, 'wednesday':2, 'thursday':2, 'friday':2, 'saturday':1, 'sunday':1, 'monday':2}\n",
    "\n",
    "mapa_holiday = {\"no\":2 , \"si\":1}"
   ]
  },
  {
   "cell_type": "code",
   "execution_count": 7,
   "metadata": {},
   "outputs": [],
   "source": [
    "df_estandarizado[\"season\"]= df_estandarizado[\"season\"].map(mapa_estaciones)\n",
    "df_estandarizado[\"cat_time\"]= df_estandarizado[\"cat_time\"].map(mapa_cat_time)\n",
    "df_estandarizado[\"weekday\"]= df_estandarizado[\"weekday\"].map(mapa_weekday)\n",
    "df_estandarizado[\"holiday_cat\"]= df_estandarizado[\"holiday_cat\"].map(mapa_holiday)"
   ]
  },
  {
   "cell_type": "code",
   "execution_count": 8,
   "metadata": {},
   "outputs": [
    {
     "data": {
      "text/html": [
       "<div>\n",
       "<style scoped>\n",
       "    .dataframe tbody tr th:only-of-type {\n",
       "        vertical-align: middle;\n",
       "    }\n",
       "\n",
       "    .dataframe tbody tr th {\n",
       "        vertical-align: top;\n",
       "    }\n",
       "\n",
       "    .dataframe thead th {\n",
       "        text-align: right;\n",
       "    }\n",
       "</style>\n",
       "<table border=\"1\" class=\"dataframe\">\n",
       "  <thead>\n",
       "    <tr style=\"text-align: right;\">\n",
       "      <th></th>\n",
       "      <th>index</th>\n",
       "      <th>season</th>\n",
       "      <th>cat_time</th>\n",
       "      <th>weekday</th>\n",
       "      <th>holiday_cat</th>\n",
       "      <th>traffic_volume</th>\n",
       "      <th>traffic_box</th>\n",
       "      <th>temp_c</th>\n",
       "      <th>snow_1h</th>\n",
       "    </tr>\n",
       "  </thead>\n",
       "  <tbody>\n",
       "    <tr>\n",
       "      <th>0</th>\n",
       "      <td>0</td>\n",
       "      <td>3</td>\n",
       "      <td>4</td>\n",
       "      <td>NaN</td>\n",
       "      <td>2</td>\n",
       "      <td>5546</td>\n",
       "      <td>544.504895</td>\n",
       "      <td>0.552310</td>\n",
       "      <td>-0.027233</td>\n",
       "    </tr>\n",
       "    <tr>\n",
       "      <th>1</th>\n",
       "      <td>1</td>\n",
       "      <td>3</td>\n",
       "      <td>4</td>\n",
       "      <td>NaN</td>\n",
       "      <td>2</td>\n",
       "      <td>4517</td>\n",
       "      <td>472.646491</td>\n",
       "      <td>0.637259</td>\n",
       "      <td>-0.027233</td>\n",
       "    </tr>\n",
       "    <tr>\n",
       "      <th>2</th>\n",
       "      <td>2</td>\n",
       "      <td>3</td>\n",
       "      <td>4</td>\n",
       "      <td>NaN</td>\n",
       "      <td>2</td>\n",
       "      <td>4768</td>\n",
       "      <td>490.608780</td>\n",
       "      <td>0.654563</td>\n",
       "      <td>-0.027233</td>\n",
       "    </tr>\n",
       "    <tr>\n",
       "      <th>3</th>\n",
       "      <td>3</td>\n",
       "      <td>3</td>\n",
       "      <td>4</td>\n",
       "      <td>NaN</td>\n",
       "      <td>2</td>\n",
       "      <td>5027</td>\n",
       "      <td>508.836531</td>\n",
       "      <td>0.697824</td>\n",
       "      <td>-0.027233</td>\n",
       "    </tr>\n",
       "    <tr>\n",
       "      <th>4</th>\n",
       "      <td>4</td>\n",
       "      <td>3</td>\n",
       "      <td>4</td>\n",
       "      <td>NaN</td>\n",
       "      <td>2</td>\n",
       "      <td>4919</td>\n",
       "      <td>501.272305</td>\n",
       "      <td>0.777266</td>\n",
       "      <td>-0.027233</td>\n",
       "    </tr>\n",
       "  </tbody>\n",
       "</table>\n",
       "</div>"
      ],
      "text/plain": [
       "   index  season  cat_time  weekday  holiday_cat  traffic_volume  traffic_box  \\\n",
       "0      0       3         4      NaN            2            5546   544.504895   \n",
       "1      1       3         4      NaN            2            4517   472.646491   \n",
       "2      2       3         4      NaN            2            4768   490.608780   \n",
       "3      3       3         4      NaN            2            5027   508.836531   \n",
       "4      4       3         4      NaN            2            4919   501.272305   \n",
       "\n",
       "     temp_c   snow_1h  \n",
       "0  0.552310 -0.027233  \n",
       "1  0.637259 -0.027233  \n",
       "2  0.654563 -0.027233  \n",
       "3  0.697824 -0.027233  \n",
       "4  0.777266 -0.027233  "
      ]
     },
     "execution_count": 8,
     "metadata": {},
     "output_type": "execute_result"
    }
   ],
   "source": [
    "df_estandarizado.head()"
   ]
  },
  {
   "cell_type": "code",
   "execution_count": 9,
   "metadata": {},
   "outputs": [],
   "source": [
    "df_estandarizado.to_csv('../archivos/metro_D_stan_enco.csv')"
   ]
  },
  {
   "attachments": {},
   "cell_type": "markdown",
   "metadata": {},
   "source": [
    "2. Codificamos el df sin estandarizar"
   ]
  },
  {
   "attachments": {},
   "cell_type": "markdown",
   "metadata": {},
   "source": [
    "Vamos a probar hacer el modelo de Decision Tree con los datos estandarizados ya codificados, pero nos dejamos esta parte preparada para poder empezar la codificación de los datos sin estandarizar y así hacer otra prueba más."
   ]
  },
  {
   "cell_type": "code",
   "execution_count": 10,
   "metadata": {},
   "outputs": [],
   "source": [
    "df_sin_estandarizar = pd.read_csv('../archivos/metro_A.csv', index_col=0)"
   ]
  },
  {
   "cell_type": "code",
   "execution_count": 11,
   "metadata": {},
   "outputs": [
    {
     "data": {
      "text/html": [
       "<div>\n",
       "<style scoped>\n",
       "    .dataframe tbody tr th:only-of-type {\n",
       "        vertical-align: middle;\n",
       "    }\n",
       "\n",
       "    .dataframe tbody tr th {\n",
       "        vertical-align: top;\n",
       "    }\n",
       "\n",
       "    .dataframe thead th {\n",
       "        text-align: right;\n",
       "    }\n",
       "</style>\n",
       "<table border=\"1\" class=\"dataframe\">\n",
       "  <thead>\n",
       "    <tr style=\"text-align: right;\">\n",
       "      <th></th>\n",
       "      <th>season</th>\n",
       "      <th>weekday</th>\n",
       "      <th>cat_time</th>\n",
       "      <th>holiday_cat</th>\n",
       "      <th>temp_c</th>\n",
       "      <th>snow_1h</th>\n",
       "      <th>traffic_volume</th>\n",
       "    </tr>\n",
       "  </thead>\n",
       "  <tbody>\n",
       "    <tr>\n",
       "      <th>0</th>\n",
       "      <td>Autumn</td>\n",
       "      <td>tuesday</td>\n",
       "      <td>morning</td>\n",
       "      <td>no</td>\n",
       "      <td>15.13</td>\n",
       "      <td>0.0</td>\n",
       "      <td>5545</td>\n",
       "    </tr>\n",
       "    <tr>\n",
       "      <th>1</th>\n",
       "      <td>Autumn</td>\n",
       "      <td>tuesday</td>\n",
       "      <td>morning</td>\n",
       "      <td>no</td>\n",
       "      <td>16.21</td>\n",
       "      <td>0.0</td>\n",
       "      <td>4516</td>\n",
       "    </tr>\n",
       "  </tbody>\n",
       "</table>\n",
       "</div>"
      ],
      "text/plain": [
       "   season  weekday cat_time holiday_cat  temp_c  snow_1h  traffic_volume\n",
       "0  Autumn  tuesday  morning          no   15.13      0.0            5545\n",
       "1  Autumn  tuesday  morning          no   16.21      0.0            4516"
      ]
     },
     "execution_count": 11,
     "metadata": {},
     "output_type": "execute_result"
    }
   ],
   "source": [
    "df_sin_estandarizar.head(2)"
   ]
  },
  {
   "cell_type": "code",
   "execution_count": 12,
   "metadata": {},
   "outputs": [],
   "source": [
    "#df_sin_estandarizar.to_csv('../archivos/metro_D.csv')"
   ]
  }
 ],
 "metadata": {
  "kernelspec": {
   "display_name": "base",
   "language": "python",
   "name": "python3"
  },
  "language_info": {
   "codemirror_mode": {
    "name": "ipython",
    "version": 3
   },
   "file_extension": ".py",
   "mimetype": "text/x-python",
   "name": "python",
   "nbconvert_exporter": "python",
   "pygments_lexer": "ipython3",
   "version": "3.9.7 (default, Sep 16 2021, 13:09:58) \n[GCC 7.5.0]"
  },
  "orig_nbformat": 4,
  "vscode": {
   "interpreter": {
    "hash": "b3191f930eabfdf0eb39086a24df618ea48425015dbb471465fb2c793fed20fd"
   }
  }
 },
 "nbformat": 4,
 "nbformat_minor": 2
}
