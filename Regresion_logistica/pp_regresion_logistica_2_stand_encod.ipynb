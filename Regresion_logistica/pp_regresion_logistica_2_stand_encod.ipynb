{
 "cells": [
  {
   "attachments": {},
   "cell_type": "markdown",
   "metadata": {},
   "source": [
    "## Pair Programming - Regresión logística 2\n",
    "\n",
    "### Procesado - Estandarización y Encoding\n",
    "\n",
    "---"
   ]
  },
  {
   "cell_type": "code",
   "execution_count": 1,
   "metadata": {},
   "outputs": [],
   "source": [
    "# Tratamiento de datos\n",
    "import numpy as np\n",
    "import pandas as pd\n",
    "\n",
    "# Gráficas\n",
    "import matplotlib.pyplot as plt\n",
    "import seaborn as sns\n",
    "\n",
    "# Estandarización variables numéricas y Codificación variables categóricas\n",
    "from sklearn.preprocessing import StandardScaler\n",
    "\n",
    "# Para separar los datos en train y test\n",
    "from sklearn.model_selection import train_test_split\n",
    "\n",
    "#  Configuración de warnings\n",
    "import warnings\n",
    "warnings.filterwarnings(\"ignore\")"
   ]
  },
  {
   "cell_type": "code",
   "execution_count": 7,
   "metadata": {},
   "outputs": [
    {
     "data": {
      "text/html": [
       "<div>\n",
       "<style scoped>\n",
       "    .dataframe tbody tr th:only-of-type {\n",
       "        vertical-align: middle;\n",
       "    }\n",
       "\n",
       "    .dataframe tbody tr th {\n",
       "        vertical-align: top;\n",
       "    }\n",
       "\n",
       "    .dataframe thead th {\n",
       "        text-align: right;\n",
       "    }\n",
       "</style>\n",
       "<table border=\"1\" class=\"dataframe\">\n",
       "  <thead>\n",
       "    <tr style=\"text-align: right;\">\n",
       "      <th></th>\n",
       "      <th>index</th>\n",
       "      <th>agency</th>\n",
       "      <th>agency_type</th>\n",
       "      <th>distribution_channel</th>\n",
       "      <th>product_name</th>\n",
       "      <th>claim</th>\n",
       "      <th>duration</th>\n",
       "      <th>destination</th>\n",
       "      <th>net_sales</th>\n",
       "      <th>commision_(in_value)</th>\n",
       "      <th>gender</th>\n",
       "      <th>age</th>\n",
       "      <th>continent</th>\n",
       "      <th>cat_age</th>\n",
       "      <th>cat_duration</th>\n",
       "    </tr>\n",
       "  </thead>\n",
       "  <tbody>\n",
       "    <tr>\n",
       "      <th>0</th>\n",
       "      <td>0</td>\n",
       "      <td>CBH</td>\n",
       "      <td>Travel Agency</td>\n",
       "      <td>Offline</td>\n",
       "      <td>Comprehensive Plan</td>\n",
       "      <td>No</td>\n",
       "      <td>186</td>\n",
       "      <td>MALAYSIA</td>\n",
       "      <td>-29.0</td>\n",
       "      <td>9.57</td>\n",
       "      <td>F</td>\n",
       "      <td>81</td>\n",
       "      <td>Asia</td>\n",
       "      <td>retired</td>\n",
       "      <td>year</td>\n",
       "    </tr>\n",
       "    <tr>\n",
       "      <th>1</th>\n",
       "      <td>1</td>\n",
       "      <td>CBH</td>\n",
       "      <td>Travel Agency</td>\n",
       "      <td>Offline</td>\n",
       "      <td>Comprehensive Plan</td>\n",
       "      <td>No</td>\n",
       "      <td>186</td>\n",
       "      <td>MALAYSIA</td>\n",
       "      <td>-29.0</td>\n",
       "      <td>9.57</td>\n",
       "      <td>F</td>\n",
       "      <td>71</td>\n",
       "      <td>Asia</td>\n",
       "      <td>retired</td>\n",
       "      <td>year</td>\n",
       "    </tr>\n",
       "    <tr>\n",
       "      <th>2</th>\n",
       "      <td>2</td>\n",
       "      <td>CWT</td>\n",
       "      <td>Travel Agency</td>\n",
       "      <td>Online</td>\n",
       "      <td>Rental Vehicle Excess Insurance</td>\n",
       "      <td>No</td>\n",
       "      <td>65</td>\n",
       "      <td>AUSTRALIA</td>\n",
       "      <td>-49.5</td>\n",
       "      <td>29.70</td>\n",
       "      <td>PNS</td>\n",
       "      <td>32</td>\n",
       "      <td>Oceania</td>\n",
       "      <td>adult youth</td>\n",
       "      <td>three months</td>\n",
       "    </tr>\n",
       "    <tr>\n",
       "      <th>3</th>\n",
       "      <td>3</td>\n",
       "      <td>CWT</td>\n",
       "      <td>Travel Agency</td>\n",
       "      <td>Online</td>\n",
       "      <td>Rental Vehicle Excess Insurance</td>\n",
       "      <td>No</td>\n",
       "      <td>60</td>\n",
       "      <td>AUSTRALIA</td>\n",
       "      <td>-39.6</td>\n",
       "      <td>23.76</td>\n",
       "      <td>PNS</td>\n",
       "      <td>32</td>\n",
       "      <td>Oceania</td>\n",
       "      <td>adult youth</td>\n",
       "      <td>three months</td>\n",
       "    </tr>\n",
       "    <tr>\n",
       "      <th>4</th>\n",
       "      <td>4</td>\n",
       "      <td>CWT</td>\n",
       "      <td>Travel Agency</td>\n",
       "      <td>Online</td>\n",
       "      <td>Rental Vehicle Excess Insurance</td>\n",
       "      <td>No</td>\n",
       "      <td>79</td>\n",
       "      <td>ITALY</td>\n",
       "      <td>-19.8</td>\n",
       "      <td>11.88</td>\n",
       "      <td>PNS</td>\n",
       "      <td>41</td>\n",
       "      <td>Europe</td>\n",
       "      <td>adult</td>\n",
       "      <td>three months</td>\n",
       "    </tr>\n",
       "  </tbody>\n",
       "</table>\n",
       "</div>"
      ],
      "text/plain": [
       "   index agency    agency_type distribution_channel  \\\n",
       "0      0    CBH  Travel Agency              Offline   \n",
       "1      1    CBH  Travel Agency              Offline   \n",
       "2      2    CWT  Travel Agency               Online   \n",
       "3      3    CWT  Travel Agency               Online   \n",
       "4      4    CWT  Travel Agency               Online   \n",
       "\n",
       "                      product_name claim  duration destination  net_sales  \\\n",
       "0               Comprehensive Plan    No       186    MALAYSIA      -29.0   \n",
       "1               Comprehensive Plan    No       186    MALAYSIA      -29.0   \n",
       "2  Rental Vehicle Excess Insurance    No        65   AUSTRALIA      -49.5   \n",
       "3  Rental Vehicle Excess Insurance    No        60   AUSTRALIA      -39.6   \n",
       "4  Rental Vehicle Excess Insurance    No        79       ITALY      -19.8   \n",
       "\n",
       "   commision_(in_value) gender  age continent      cat_age  cat_duration  \n",
       "0                  9.57      F   81      Asia      retired          year  \n",
       "1                  9.57      F   71      Asia      retired          year  \n",
       "2                 29.70    PNS   32   Oceania  adult youth  three months  \n",
       "3                 23.76    PNS   32   Oceania  adult youth  three months  \n",
       "4                 11.88    PNS   41    Europe        adult  three months  "
      ]
     },
     "execution_count": 7,
     "metadata": {},
     "output_type": "execute_result"
    }
   ],
   "source": [
    "df = pd.read_csv('../archivos/travel_1.csv', index_col=0).reset_index()\n",
    "df.head()"
   ]
  },
  {
   "cell_type": "code",
   "execution_count": 3,
   "metadata": {},
   "outputs": [],
   "source": [
    "# Borramos las columnas que no están categorizadas\n",
    "df.drop([\"destination\", \"age\", \"duration\"], axis=1, inplace=True)"
   ]
  },
  {
   "attachments": {},
   "cell_type": "markdown",
   "metadata": {},
   "source": [
    "**Objetivos:**\n",
    "\n",
    "### 1. Estandarizar las variables numéricas de vuestro set de datos."
   ]
  },
  {
   "cell_type": "code",
   "execution_count": 4,
   "metadata": {},
   "outputs": [],
   "source": [
    "#Iniciamos el método \n",
    "scaler = StandardScaler()"
   ]
  },
  {
   "cell_type": "code",
   "execution_count": 5,
   "metadata": {},
   "outputs": [
    {
     "data": {
      "text/html": [
       "<div>\n",
       "<style scoped>\n",
       "    .dataframe tbody tr th:only-of-type {\n",
       "        vertical-align: middle;\n",
       "    }\n",
       "\n",
       "    .dataframe tbody tr th {\n",
       "        vertical-align: top;\n",
       "    }\n",
       "\n",
       "    .dataframe thead th {\n",
       "        text-align: right;\n",
       "    }\n",
       "</style>\n",
       "<table border=\"1\" class=\"dataframe\">\n",
       "  <thead>\n",
       "    <tr style=\"text-align: right;\">\n",
       "      <th></th>\n",
       "      <th>net_sales</th>\n",
       "      <th>commision_(in_value)</th>\n",
       "    </tr>\n",
       "  </thead>\n",
       "  <tbody>\n",
       "    <tr>\n",
       "      <th>0</th>\n",
       "      <td>-29.0</td>\n",
       "      <td>9.57</td>\n",
       "    </tr>\n",
       "    <tr>\n",
       "      <th>1</th>\n",
       "      <td>-29.0</td>\n",
       "      <td>9.57</td>\n",
       "    </tr>\n",
       "    <tr>\n",
       "      <th>2</th>\n",
       "      <td>-49.5</td>\n",
       "      <td>29.70</td>\n",
       "    </tr>\n",
       "    <tr>\n",
       "      <th>3</th>\n",
       "      <td>-39.6</td>\n",
       "      <td>23.76</td>\n",
       "    </tr>\n",
       "    <tr>\n",
       "      <th>4</th>\n",
       "      <td>-19.8</td>\n",
       "      <td>11.88</td>\n",
       "    </tr>\n",
       "  </tbody>\n",
       "</table>\n",
       "</div>"
      ],
      "text/plain": [
       "   net_sales  commision_(in_value)\n",
       "0      -29.0                  9.57\n",
       "1      -29.0                  9.57\n",
       "2      -49.5                 29.70\n",
       "3      -39.6                 23.76\n",
       "4      -19.8                 11.88"
      ]
     },
     "execution_count": 5,
     "metadata": {},
     "output_type": "execute_result"
    }
   ],
   "source": [
    "#Seleccionamos las columnas numéricas que queremos estandarizar\n",
    "numericas = df.select_dtypes(include = np.number)\n",
    "numericas.head()"
   ]
  },
  {
   "cell_type": "code",
   "execution_count": 6,
   "metadata": {},
   "outputs": [
    {
     "data": {
      "text/html": [
       "<div>\n",
       "<style scoped>\n",
       "    .dataframe tbody tr th:only-of-type {\n",
       "        vertical-align: middle;\n",
       "    }\n",
       "\n",
       "    .dataframe tbody tr th {\n",
       "        vertical-align: top;\n",
       "    }\n",
       "\n",
       "    .dataframe thead th {\n",
       "        text-align: right;\n",
       "    }\n",
       "</style>\n",
       "<table border=\"1\" class=\"dataframe\">\n",
       "  <thead>\n",
       "    <tr style=\"text-align: right;\">\n",
       "      <th></th>\n",
       "      <th>index</th>\n",
       "      <th>net_sales</th>\n",
       "      <th>commision_(in_value)</th>\n",
       "    </tr>\n",
       "  </thead>\n",
       "  <tbody>\n",
       "    <tr>\n",
       "      <th>55279</th>\n",
       "      <td>55279</td>\n",
       "      <td>-0.491371</td>\n",
       "      <td>-0.211869</td>\n",
       "    </tr>\n",
       "    <tr>\n",
       "      <th>55280</th>\n",
       "      <td>55280</td>\n",
       "      <td>-0.154391</td>\n",
       "      <td>0.075897</td>\n",
       "    </tr>\n",
       "    <tr>\n",
       "      <th>55281</th>\n",
       "      <td>55281</td>\n",
       "      <td>-0.055279</td>\n",
       "      <td>0.160534</td>\n",
       "    </tr>\n",
       "    <tr>\n",
       "      <th>55282</th>\n",
       "      <td>55282</td>\n",
       "      <td>-0.491371</td>\n",
       "      <td>-0.211869</td>\n",
       "    </tr>\n",
       "    <tr>\n",
       "      <th>55283</th>\n",
       "      <td>55283</td>\n",
       "      <td>-0.332792</td>\n",
       "      <td>-0.076449</td>\n",
       "    </tr>\n",
       "  </tbody>\n",
       "</table>\n",
       "</div>"
      ],
      "text/plain": [
       "       index  net_sales  commision_(in_value)\n",
       "55279  55279  -0.491371             -0.211869\n",
       "55280  55280  -0.154391              0.075897\n",
       "55281  55281  -0.055279              0.160534\n",
       "55282  55282  -0.491371             -0.211869\n",
       "55283  55283  -0.332792             -0.076449"
      ]
     },
     "execution_count": 6,
     "metadata": {},
     "output_type": "execute_result"
    }
   ],
   "source": [
    "# ahora ya podemos ajustar nuestros datos.  \n",
    "\n",
    "scaler.fit(numericas)\n",
    "\n",
    "# transformamos los datos\n",
    "\n",
    "X_escaladas = scaler.transform(numericas)\n",
    "\n",
    "# por último convertiremos el array que nos devuelve en un dataframe. \n",
    "\n",
    "numericas_estandar = pd.DataFrame(X_escaladas, columns = numericas.columns).reset_index()\n",
    "numericas_estandar.tail()"
   ]
  },
  {
   "cell_type": "code",
   "execution_count": 8,
   "metadata": {},
   "outputs": [],
   "source": [
    "numericas_estandar.columns = numericas_estandar.columns + \"_stand\""
   ]
  },
  {
   "cell_type": "code",
   "execution_count": 9,
   "metadata": {},
   "outputs": [],
   "source": [
    "# Unimos los dfs manteniendo las columnas numéricas estandarizadas y sin estandarizar\n",
    "df_union = pd.concat([df, numericas_estandar], axis=1)"
   ]
  },
  {
   "cell_type": "code",
   "execution_count": 10,
   "metadata": {},
   "outputs": [
    {
     "data": {
      "text/html": [
       "<div>\n",
       "<style scoped>\n",
       "    .dataframe tbody tr th:only-of-type {\n",
       "        vertical-align: middle;\n",
       "    }\n",
       "\n",
       "    .dataframe tbody tr th {\n",
       "        vertical-align: top;\n",
       "    }\n",
       "\n",
       "    .dataframe thead th {\n",
       "        text-align: right;\n",
       "    }\n",
       "</style>\n",
       "<table border=\"1\" class=\"dataframe\">\n",
       "  <thead>\n",
       "    <tr style=\"text-align: right;\">\n",
       "      <th></th>\n",
       "      <th>index</th>\n",
       "      <th>agency</th>\n",
       "      <th>agency_type</th>\n",
       "      <th>distribution_channel</th>\n",
       "      <th>product_name</th>\n",
       "      <th>claim</th>\n",
       "      <th>duration</th>\n",
       "      <th>destination</th>\n",
       "      <th>net_sales</th>\n",
       "      <th>commision_(in_value)</th>\n",
       "      <th>gender</th>\n",
       "      <th>age</th>\n",
       "      <th>continent</th>\n",
       "      <th>cat_age</th>\n",
       "      <th>cat_duration</th>\n",
       "      <th>index_stand</th>\n",
       "      <th>net_sales_stand</th>\n",
       "      <th>commision_(in_value)_stand</th>\n",
       "    </tr>\n",
       "  </thead>\n",
       "  <tbody>\n",
       "    <tr>\n",
       "      <th>0</th>\n",
       "      <td>0</td>\n",
       "      <td>CBH</td>\n",
       "      <td>Travel Agency</td>\n",
       "      <td>Offline</td>\n",
       "      <td>Comprehensive Plan</td>\n",
       "      <td>No</td>\n",
       "      <td>186</td>\n",
       "      <td>MALAYSIA</td>\n",
       "      <td>-29.0</td>\n",
       "      <td>9.57</td>\n",
       "      <td>F</td>\n",
       "      <td>81</td>\n",
       "      <td>Asia</td>\n",
       "      <td>retired</td>\n",
       "      <td>year</td>\n",
       "      <td>0</td>\n",
       "      <td>-1.423021</td>\n",
       "      <td>-0.053718</td>\n",
       "    </tr>\n",
       "    <tr>\n",
       "      <th>1</th>\n",
       "      <td>1</td>\n",
       "      <td>CBH</td>\n",
       "      <td>Travel Agency</td>\n",
       "      <td>Offline</td>\n",
       "      <td>Comprehensive Plan</td>\n",
       "      <td>No</td>\n",
       "      <td>186</td>\n",
       "      <td>MALAYSIA</td>\n",
       "      <td>-29.0</td>\n",
       "      <td>9.57</td>\n",
       "      <td>F</td>\n",
       "      <td>71</td>\n",
       "      <td>Asia</td>\n",
       "      <td>retired</td>\n",
       "      <td>year</td>\n",
       "      <td>1</td>\n",
       "      <td>-1.423021</td>\n",
       "      <td>-0.053718</td>\n",
       "    </tr>\n",
       "  </tbody>\n",
       "</table>\n",
       "</div>"
      ],
      "text/plain": [
       "   index agency    agency_type distribution_channel        product_name claim  \\\n",
       "0      0    CBH  Travel Agency              Offline  Comprehensive Plan    No   \n",
       "1      1    CBH  Travel Agency              Offline  Comprehensive Plan    No   \n",
       "\n",
       "   duration destination  net_sales  commision_(in_value) gender  age  \\\n",
       "0       186    MALAYSIA      -29.0                  9.57      F   81   \n",
       "1       186    MALAYSIA      -29.0                  9.57      F   71   \n",
       "\n",
       "  continent  cat_age cat_duration  index_stand  net_sales_stand  \\\n",
       "0      Asia  retired         year            0        -1.423021   \n",
       "1      Asia  retired         year            1        -1.423021   \n",
       "\n",
       "   commision_(in_value)_stand  \n",
       "0                   -0.053718  \n",
       "1                   -0.053718  "
      ]
     },
     "execution_count": 10,
     "metadata": {},
     "output_type": "execute_result"
    }
   ],
   "source": [
    "df_union.head(2)"
   ]
  },
  {
   "cell_type": "code",
   "execution_count": null,
   "metadata": {},
   "outputs": [],
   "source": [
    "df_union.drop([\"index\", \"index_stand\"], axis=1, inplace=True)"
   ]
  },
  {
   "attachments": {},
   "cell_type": "markdown",
   "metadata": {},
   "source": [
    "### 2. Codificar las variables categóricas. Tener en cuenta si las variables tienen orden o no."
   ]
  },
  {
   "attachments": {},
   "cell_type": "markdown",
   "metadata": {},
   "source": [
    "- **agency**: es de tipo object--------------------------  No orden\n",
    "\n",
    "- **agency_type** : es de tipo object--------------------  No orden\n",
    "\n",
    "- **distribution_channel**: es de tipo object------------  No orden\n",
    "\n",
    "- **product_name**: es de tipo object--------------------  Orden\n",
    "\n",
    "- **claim**: Variable respuesta dicotómica de tipo object- Orden\n",
    "\n",
    "- **gender**: es de tipo object--------------------------  No orden\n",
    "\n",
    "- **continent**: es de tipo object-----------------------  Orden\n",
    "\n",
    "- **cat_age**: es de tipo object-------------------------  Orden\n",
    "\n",
    "- **cat_duration**: es de tipo object--------------------  Orden "
   ]
  },
  {
   "cell_type": "code",
   "execution_count": null,
   "metadata": {},
   "outputs": [],
   "source": [
    "df_union.head(2)"
   ]
  },
  {
   "attachments": {},
   "cell_type": "markdown",
   "metadata": {},
   "source": [
    "### 2.1. Variables que no tienen orden."
   ]
  },
  {
   "cell_type": "code",
   "execution_count": null,
   "metadata": {},
   "outputs": [],
   "source": [
    "lista_columnas = [\"agency\", \"agency_type\", \"distribution_channel\", \"gender\"]\n",
    "\n",
    "df_encoded = pd.DataFrame()\n",
    "\n",
    "\n",
    "for columna in lista_columnas:\n",
    "    df_dummies = pd.get_dummies(df[columna], prefix_sep = \"_\", prefix = columna, dtype = int)\n",
    "\n",
    "    df_encoded = pd.concat([df_encoded, df_dummies], axis = 1)"
   ]
  },
  {
   "cell_type": "code",
   "execution_count": null,
   "metadata": {},
   "outputs": [],
   "source": [
    "df_encoded.head(2)"
   ]
  },
  {
   "cell_type": "code",
   "execution_count": null,
   "metadata": {},
   "outputs": [],
   "source": [
    "df_union =df_union.reset_index()"
   ]
  },
  {
   "cell_type": "code",
   "execution_count": null,
   "metadata": {},
   "outputs": [],
   "source": [
    "df_codificado = pd.concat([df_union, df_encoded], axis=1)"
   ]
  },
  {
   "cell_type": "code",
   "execution_count": null,
   "metadata": {},
   "outputs": [],
   "source": [
    "df_codificado.drop([\"agency\", \"agency_type\", \"distribution_channel\", \"gender\", \"index\"], axis=1, inplace=True)"
   ]
  },
  {
   "attachments": {},
   "cell_type": "markdown",
   "metadata": {},
   "source": [
    "### 2.2. Variables que tienen orden."
   ]
  },
  {
   "cell_type": "code",
   "execution_count": null,
   "metadata": {},
   "outputs": [],
   "source": [
    "mapa_product_name = {\"Cancellation Plan\" : 14, \"2 way Comprehensive Plan\": 13,\"Rental Vehicle Excess Insurance\": 12, \"Basic Plan\": 11,\"Bronze Plan\" : 10, \"1 way Comprehensive Plan\" : 9,\n",
    "                     \"Value Plan\": 8, \"Silver Plan\" : 7, \"Others insurances\": 1, \"Annual Silver Plan\" : 6, \"Ticket Protector\" :5,\"Travel Cruise Protect\" : 4,\"Comprehensive Plan\" : 3, \"Gold Plan\": 2}\n",
    "\n",
    "mapa_claim = {\"Yes\": 1, \"No\": 0}\n",
    "\n",
    "mapa_continent = {'Asia': 6, 'Europe': 5, 'Oceania': 4, 'North America': 3, 'Africa': 2,'South America': 1}\n",
    "\n",
    "mapa_cat_age = {\"adult\": 6, \"adult youth\": 5, \"senior\": 4, \"retired\":3 , \"youth\" :2, \"child\":1   }\n",
    "\n",
    "mapa_cat_duration = {\"three months\":8, \"month\" :7, \"two weeks\":6, \"year\":5, \"week\":4,\"weekend\":3,\"extra long\":2,  \"one day\":1 }"
   ]
  },
  {
   "cell_type": "code",
   "execution_count": null,
   "metadata": {},
   "outputs": [],
   "source": [
    "df_codificado[\"product_name\"] = df_codificado[\"product_name\"].map(mapa_product_name)\n",
    "df_codificado[\"claim\"] = df_codificado[\"claim\"].map(mapa_claim)\n",
    "df_codificado[\"continent\"] = df_codificado[\"continent\"].map(mapa_continent)\n",
    "df_codificado[\"cat_age\"] = df_codificado[\"cat_age\"].map(mapa_cat_age)\n",
    "df_codificado[\"cat_duration\"] = df_codificado[\"cat_duration\"].map(mapa_cat_duration)"
   ]
  },
  {
   "cell_type": "code",
   "execution_count": null,
   "metadata": {},
   "outputs": [],
   "source": [
    "df_codificado.tail()"
   ]
  }
 ],
 "metadata": {
  "kernelspec": {
   "display_name": "base",
   "language": "python",
   "name": "python3"
  },
  "language_info": {
   "codemirror_mode": {
    "name": "ipython",
    "version": 3
   },
   "file_extension": ".py",
   "mimetype": "text/x-python",
   "name": "python",
   "nbconvert_exporter": "python",
   "pygments_lexer": "ipython3",
   "version": "3.9.7"
  },
  "orig_nbformat": 4,
  "vscode": {
   "interpreter": {
    "hash": "819a5c43c1fad9e35c5b1180124e231b422fc24c453463d400a90e0aae1b9c8c"
   }
  }
 },
 "nbformat": 4,
 "nbformat_minor": 2
}
