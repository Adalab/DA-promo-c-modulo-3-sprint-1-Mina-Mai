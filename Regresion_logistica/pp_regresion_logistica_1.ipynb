{
 "cells": [
  {
   "attachments": {},
   "cell_type": "markdown",
   "metadata": {},
   "source": [
    "## Pair Programming - Regresión logística 1\n",
    "\n",
    "### EDA\n",
    "\n",
    "---"
   ]
  },
  {
   "cell_type": "code",
   "execution_count": 1,
   "metadata": {},
   "outputs": [],
   "source": [
    "# Tratamiento de datos\n",
    "import numpy as np\n",
    "import pandas as pd\n",
    "import sidetable \n",
    "import awoc\n",
    "\n",
    "# Gráficas\n",
    "import matplotlib.pyplot as plt\n",
    "import seaborn as sns\n",
    "\n",
    "# Configuración de warnings\n",
    "import warnings\n",
    "warnings.filterwarnings(\"ignore\")"
   ]
  },
  {
   "cell_type": "code",
   "execution_count": 2,
   "metadata": {},
   "outputs": [],
   "source": [
    "#pip install a-world-of-countries"
   ]
  },
  {
   "attachments": {},
   "cell_type": "markdown",
   "metadata": {},
   "source": [
    "Para los ejercicios de pair programming de Regresión logística temdremos que buscar un dataset (al igual que hicismos en regresión lineal) que usaremosmos a lo largo de los siguientes ejercicios.\n",
    "\n",
    "Se ruega a la hora de realizar la entrega que incluyais el conjunto de datos que hayais decidido emplear para estos ejercicios."
   ]
  },
  {
   "attachments": {},
   "cell_type": "markdown",
   "metadata": {},
   "source": [
    "**Objetivos:**\n",
    "### 1. Buscar un conjunto de datos a analizar.\n",
    "Se recomienda que el conjunto de datos a analizar tenga variables numéricas y categóricas, primando que haya más de una variable de tipo numérico."
   ]
  },
  {
   "cell_type": "code",
   "execution_count": 3,
   "metadata": {},
   "outputs": [
    {
     "data": {
      "text/html": [
       "<div>\n",
       "<style scoped>\n",
       "    .dataframe tbody tr th:only-of-type {\n",
       "        vertical-align: middle;\n",
       "    }\n",
       "\n",
       "    .dataframe tbody tr th {\n",
       "        vertical-align: top;\n",
       "    }\n",
       "\n",
       "    .dataframe thead th {\n",
       "        text-align: right;\n",
       "    }\n",
       "</style>\n",
       "<table border=\"1\" class=\"dataframe\">\n",
       "  <thead>\n",
       "    <tr style=\"text-align: right;\">\n",
       "      <th></th>\n",
       "      <th>Agency</th>\n",
       "      <th>Agency Type</th>\n",
       "      <th>Distribution Channel</th>\n",
       "      <th>Product Name</th>\n",
       "      <th>Claim</th>\n",
       "      <th>Duration</th>\n",
       "      <th>Destination</th>\n",
       "      <th>Net Sales</th>\n",
       "      <th>Commision (in value)</th>\n",
       "      <th>Gender</th>\n",
       "      <th>Age</th>\n",
       "    </tr>\n",
       "  </thead>\n",
       "  <tbody>\n",
       "    <tr>\n",
       "      <th>0</th>\n",
       "      <td>CBH</td>\n",
       "      <td>Travel Agency</td>\n",
       "      <td>Offline</td>\n",
       "      <td>Comprehensive Plan</td>\n",
       "      <td>No</td>\n",
       "      <td>186</td>\n",
       "      <td>MALAYSIA</td>\n",
       "      <td>-29.0</td>\n",
       "      <td>9.57</td>\n",
       "      <td>F</td>\n",
       "      <td>81</td>\n",
       "    </tr>\n",
       "    <tr>\n",
       "      <th>1</th>\n",
       "      <td>CBH</td>\n",
       "      <td>Travel Agency</td>\n",
       "      <td>Offline</td>\n",
       "      <td>Comprehensive Plan</td>\n",
       "      <td>No</td>\n",
       "      <td>186</td>\n",
       "      <td>MALAYSIA</td>\n",
       "      <td>-29.0</td>\n",
       "      <td>9.57</td>\n",
       "      <td>F</td>\n",
       "      <td>71</td>\n",
       "    </tr>\n",
       "    <tr>\n",
       "      <th>2</th>\n",
       "      <td>CWT</td>\n",
       "      <td>Travel Agency</td>\n",
       "      <td>Online</td>\n",
       "      <td>Rental Vehicle Excess Insurance</td>\n",
       "      <td>No</td>\n",
       "      <td>65</td>\n",
       "      <td>AUSTRALIA</td>\n",
       "      <td>-49.5</td>\n",
       "      <td>29.70</td>\n",
       "      <td>NaN</td>\n",
       "      <td>32</td>\n",
       "    </tr>\n",
       "    <tr>\n",
       "      <th>3</th>\n",
       "      <td>CWT</td>\n",
       "      <td>Travel Agency</td>\n",
       "      <td>Online</td>\n",
       "      <td>Rental Vehicle Excess Insurance</td>\n",
       "      <td>No</td>\n",
       "      <td>60</td>\n",
       "      <td>AUSTRALIA</td>\n",
       "      <td>-39.6</td>\n",
       "      <td>23.76</td>\n",
       "      <td>NaN</td>\n",
       "      <td>32</td>\n",
       "    </tr>\n",
       "    <tr>\n",
       "      <th>4</th>\n",
       "      <td>CWT</td>\n",
       "      <td>Travel Agency</td>\n",
       "      <td>Online</td>\n",
       "      <td>Rental Vehicle Excess Insurance</td>\n",
       "      <td>No</td>\n",
       "      <td>79</td>\n",
       "      <td>ITALY</td>\n",
       "      <td>-19.8</td>\n",
       "      <td>11.88</td>\n",
       "      <td>NaN</td>\n",
       "      <td>41</td>\n",
       "    </tr>\n",
       "  </tbody>\n",
       "</table>\n",
       "</div>"
      ],
      "text/plain": [
       "  Agency    Agency Type Distribution Channel                     Product Name  \\\n",
       "0    CBH  Travel Agency              Offline               Comprehensive Plan   \n",
       "1    CBH  Travel Agency              Offline               Comprehensive Plan   \n",
       "2    CWT  Travel Agency               Online  Rental Vehicle Excess Insurance   \n",
       "3    CWT  Travel Agency               Online  Rental Vehicle Excess Insurance   \n",
       "4    CWT  Travel Agency               Online  Rental Vehicle Excess Insurance   \n",
       "\n",
       "  Claim  Duration Destination  Net Sales  Commision (in value) Gender  Age  \n",
       "0    No       186    MALAYSIA      -29.0                  9.57      F   81  \n",
       "1    No       186    MALAYSIA      -29.0                  9.57      F   71  \n",
       "2    No        65   AUSTRALIA      -49.5                 29.70    NaN   32  \n",
       "3    No        60   AUSTRALIA      -39.6                 23.76    NaN   32  \n",
       "4    No        79       ITALY      -19.8                 11.88    NaN   41  "
      ]
     },
     "execution_count": 3,
     "metadata": {},
     "output_type": "execute_result"
    }
   ],
   "source": [
    "df = pd.read_csv('../archivos/travel_insurance.csv', index_col=0).reset_index()\n",
    "df.head()"
   ]
  },
  {
   "attachments": {},
   "cell_type": "markdown",
   "metadata": {},
   "source": [
    "### 2. Explicar los datos y las variables disponibles en el conjunto de datos seleccionado."
   ]
  },
  {
   "attachments": {},
   "cell_type": "markdown",
   "metadata": {},
   "source": [
    "A third-party travel insurance servicing company that is based in Singapore (datos sobre aseguradoras y sus seguros de viaje)\n",
    "\n",
    "The attributes/columnas del dataframe:\n",
    "\n",
    "- **Agency**: Name of agency  ----> Siglas de los nombres de 16 agencias diferentes.\n",
    "\n",
    "- **Agency Type** : Type of travel insurance agencies  ----> Travel Agency & Airlines.\n",
    "\n",
    "- **Distribution Channel**:  Distribution channel of travel insurance agencies  ----> Online & Offline.\n",
    "\n",
    "- **Product Name**: Name of the travel insurance products ----> Nombre de los tipos de paquetes de seguros. \n",
    "\n",
    "- **Claim Status**: Target- Claim Status  ----> Yes & No (Si reclamaron o no el seguro de viaje)\n",
    "\n",
    "- **Duration**: Duration of travel ---->\n",
    "\n",
    "- **Destination**: Destination of travel ----> Destinos a todo el mundo.\n",
    "\n",
    "- **Net Sales**: Amount of sales of travel insurance policies ----> Cantidad de la venta de seguros.\n",
    "\n",
    "- **Commission**: Commission received for travel insurance agency ----> Comisión para la agencia de los seguros de viajes.\n",
    "\n",
    "- **Gender**: Gender of insured ----> Género del cliente.\n",
    "\n",
    "- **Age**: Age of insured ----> Edad del cliente."
   ]
  },
  {
   "attachments": {},
   "cell_type": "markdown",
   "metadata": {},
   "source": [
    "### 3. Realizar un EDA sencillo."
   ]
  },
  {
   "cell_type": "code",
   "execution_count": 4,
   "metadata": {},
   "outputs": [
    {
     "data": {
      "text/plain": [
       "(63326, 11)"
      ]
     },
     "execution_count": 4,
     "metadata": {},
     "output_type": "execute_result"
    }
   ],
   "source": [
    "#Tamaño\n",
    "df.shape"
   ]
  },
  {
   "cell_type": "code",
   "execution_count": 5,
   "metadata": {},
   "outputs": [
    {
     "data": {
      "text/plain": [
       "Index(['Agency', 'Agency Type', 'Distribution Channel', 'Product Name',\n",
       "       'Claim', 'Duration', 'Destination', 'Net Sales', 'Commision (in value)',\n",
       "       'Gender', 'Age'],\n",
       "      dtype='object')"
      ]
     },
     "execution_count": 5,
     "metadata": {},
     "output_type": "execute_result"
    }
   ],
   "source": [
    "#Nombre de las columnas\n",
    "df.columns"
   ]
  },
  {
   "cell_type": "code",
   "execution_count": 6,
   "metadata": {},
   "outputs": [],
   "source": [
    "#Adaptamos el nombre de las columnas sin espacios y en minúsculas\n",
    "df.columns = df.columns.str.replace(' ', '_').str.lower()"
   ]
  },
  {
   "cell_type": "code",
   "execution_count": 7,
   "metadata": {},
   "outputs": [
    {
     "data": {
      "text/plain": [
       "Index(['agency', 'agency_type', 'distribution_channel', 'product_name',\n",
       "       'claim', 'duration', 'destination', 'net_sales', 'commision_(in_value)',\n",
       "       'gender', 'age'],\n",
       "      dtype='object')"
      ]
     },
     "execution_count": 7,
     "metadata": {},
     "output_type": "execute_result"
    }
   ],
   "source": [
    "df.columns"
   ]
  },
  {
   "cell_type": "code",
   "execution_count": 8,
   "metadata": {},
   "outputs": [
    {
     "name": "stdout",
     "output_type": "stream",
     "text": [
      "<class 'pandas.core.frame.DataFrame'>\n",
      "RangeIndex: 63326 entries, 0 to 63325\n",
      "Data columns (total 11 columns):\n",
      " #   Column                Non-Null Count  Dtype  \n",
      "---  ------                --------------  -----  \n",
      " 0   agency                63326 non-null  object \n",
      " 1   agency_type           63326 non-null  object \n",
      " 2   distribution_channel  63326 non-null  object \n",
      " 3   product_name          63326 non-null  object \n",
      " 4   claim                 63326 non-null  object \n",
      " 5   duration              63326 non-null  int64  \n",
      " 6   destination           63326 non-null  object \n",
      " 7   net_sales             63326 non-null  float64\n",
      " 8   commision_(in_value)  63326 non-null  float64\n",
      " 9   gender                18219 non-null  object \n",
      " 10  age                   63326 non-null  int64  \n",
      "dtypes: float64(2), int64(2), object(7)\n",
      "memory usage: 5.3+ MB\n"
     ]
    }
   ],
   "source": [
    "#Información básica\n",
    "df.info()"
   ]
  },
  {
   "cell_type": "code",
   "execution_count": 9,
   "metadata": {},
   "outputs": [
    {
     "data": {
      "text/html": [
       "<div>\n",
       "<style scoped>\n",
       "    .dataframe tbody tr th:only-of-type {\n",
       "        vertical-align: middle;\n",
       "    }\n",
       "\n",
       "    .dataframe tbody tr th {\n",
       "        vertical-align: top;\n",
       "    }\n",
       "\n",
       "    .dataframe thead th {\n",
       "        text-align: right;\n",
       "    }\n",
       "</style>\n",
       "<table border=\"1\" class=\"dataframe\">\n",
       "  <thead>\n",
       "    <tr style=\"text-align: right;\">\n",
       "      <th></th>\n",
       "      <th>count</th>\n",
       "      <th>mean</th>\n",
       "      <th>std</th>\n",
       "      <th>min</th>\n",
       "      <th>25%</th>\n",
       "      <th>50%</th>\n",
       "      <th>75%</th>\n",
       "      <th>max</th>\n",
       "    </tr>\n",
       "  </thead>\n",
       "  <tbody>\n",
       "    <tr>\n",
       "      <th>duration</th>\n",
       "      <td>63326.0</td>\n",
       "      <td>49.317074</td>\n",
       "      <td>101.791566</td>\n",
       "      <td>-2.0</td>\n",
       "      <td>9.0</td>\n",
       "      <td>22.00</td>\n",
       "      <td>53.00</td>\n",
       "      <td>4881.0</td>\n",
       "    </tr>\n",
       "    <tr>\n",
       "      <th>net_sales</th>\n",
       "      <td>63326.0</td>\n",
       "      <td>40.702018</td>\n",
       "      <td>48.845637</td>\n",
       "      <td>-389.0</td>\n",
       "      <td>18.0</td>\n",
       "      <td>26.53</td>\n",
       "      <td>48.00</td>\n",
       "      <td>810.0</td>\n",
       "    </tr>\n",
       "    <tr>\n",
       "      <th>commision_(in_value)</th>\n",
       "      <td>63326.0</td>\n",
       "      <td>9.809992</td>\n",
       "      <td>19.804388</td>\n",
       "      <td>0.0</td>\n",
       "      <td>0.0</td>\n",
       "      <td>0.00</td>\n",
       "      <td>11.55</td>\n",
       "      <td>283.5</td>\n",
       "    </tr>\n",
       "    <tr>\n",
       "      <th>age</th>\n",
       "      <td>63326.0</td>\n",
       "      <td>39.969981</td>\n",
       "      <td>14.017010</td>\n",
       "      <td>0.0</td>\n",
       "      <td>35.0</td>\n",
       "      <td>36.00</td>\n",
       "      <td>43.00</td>\n",
       "      <td>118.0</td>\n",
       "    </tr>\n",
       "  </tbody>\n",
       "</table>\n",
       "</div>"
      ],
      "text/plain": [
       "                        count       mean         std    min   25%    50%  \\\n",
       "duration              63326.0  49.317074  101.791566   -2.0   9.0  22.00   \n",
       "net_sales             63326.0  40.702018   48.845637 -389.0  18.0  26.53   \n",
       "commision_(in_value)  63326.0   9.809992   19.804388    0.0   0.0   0.00   \n",
       "age                   63326.0  39.969981   14.017010    0.0  35.0  36.00   \n",
       "\n",
       "                        75%     max  \n",
       "duration              53.00  4881.0  \n",
       "net_sales             48.00   810.0  \n",
       "commision_(in_value)  11.55   283.5  \n",
       "age                   43.00   118.0  "
      ]
     },
     "execution_count": 9,
     "metadata": {},
     "output_type": "execute_result"
    }
   ],
   "source": [
    "#Principales estadísticos de las variables numéricas\n",
    "df.describe().T"
   ]
  },
  {
   "attachments": {},
   "cell_type": "markdown",
   "metadata": {},
   "source": [
    "📍 duration, net_sales y age --> cheaquear posibles outliers y valores negativos"
   ]
  },
  {
   "cell_type": "code",
   "execution_count": 10,
   "metadata": {},
   "outputs": [
    {
     "data": {
      "text/html": [
       "<div>\n",
       "<style scoped>\n",
       "    .dataframe tbody tr th:only-of-type {\n",
       "        vertical-align: middle;\n",
       "    }\n",
       "\n",
       "    .dataframe tbody tr th {\n",
       "        vertical-align: top;\n",
       "    }\n",
       "\n",
       "    .dataframe thead th {\n",
       "        text-align: right;\n",
       "    }\n",
       "</style>\n",
       "<table border=\"1\" class=\"dataframe\">\n",
       "  <thead>\n",
       "    <tr style=\"text-align: right;\">\n",
       "      <th></th>\n",
       "      <th>count</th>\n",
       "      <th>unique</th>\n",
       "      <th>top</th>\n",
       "      <th>freq</th>\n",
       "    </tr>\n",
       "  </thead>\n",
       "  <tbody>\n",
       "    <tr>\n",
       "      <th>agency</th>\n",
       "      <td>63326</td>\n",
       "      <td>16</td>\n",
       "      <td>EPX</td>\n",
       "      <td>35119</td>\n",
       "    </tr>\n",
       "    <tr>\n",
       "      <th>agency_type</th>\n",
       "      <td>63326</td>\n",
       "      <td>2</td>\n",
       "      <td>Travel Agency</td>\n",
       "      <td>45869</td>\n",
       "    </tr>\n",
       "    <tr>\n",
       "      <th>distribution_channel</th>\n",
       "      <td>63326</td>\n",
       "      <td>2</td>\n",
       "      <td>Online</td>\n",
       "      <td>62219</td>\n",
       "    </tr>\n",
       "    <tr>\n",
       "      <th>product_name</th>\n",
       "      <td>63326</td>\n",
       "      <td>26</td>\n",
       "      <td>Cancellation Plan</td>\n",
       "      <td>18630</td>\n",
       "    </tr>\n",
       "    <tr>\n",
       "      <th>claim</th>\n",
       "      <td>63326</td>\n",
       "      <td>2</td>\n",
       "      <td>No</td>\n",
       "      <td>62399</td>\n",
       "    </tr>\n",
       "    <tr>\n",
       "      <th>destination</th>\n",
       "      <td>63326</td>\n",
       "      <td>149</td>\n",
       "      <td>SINGAPORE</td>\n",
       "      <td>13255</td>\n",
       "    </tr>\n",
       "    <tr>\n",
       "      <th>gender</th>\n",
       "      <td>18219</td>\n",
       "      <td>2</td>\n",
       "      <td>M</td>\n",
       "      <td>9347</td>\n",
       "    </tr>\n",
       "  </tbody>\n",
       "</table>\n",
       "</div>"
      ],
      "text/plain": [
       "                      count unique                top   freq\n",
       "agency                63326     16                EPX  35119\n",
       "agency_type           63326      2      Travel Agency  45869\n",
       "distribution_channel  63326      2             Online  62219\n",
       "product_name          63326     26  Cancellation Plan  18630\n",
       "claim                 63326      2                 No  62399\n",
       "destination           63326    149          SINGAPORE  13255\n",
       "gender                18219      2                  M   9347"
      ]
     },
     "execution_count": 10,
     "metadata": {},
     "output_type": "execute_result"
    }
   ],
   "source": [
    "#Principales estadísticos de las variables categóricas\n",
    "df.describe(include='object').T"
   ]
  },
  {
   "attachments": {},
   "cell_type": "markdown",
   "metadata": {},
   "source": [
    "📍 product_name y destination --> reagrupar en menos categorías"
   ]
  },
  {
   "attachments": {},
   "cell_type": "markdown",
   "metadata": {},
   "source": [
    "### 3.1. Tratamiento de valores nulos"
   ]
  },
  {
   "cell_type": "code",
   "execution_count": 11,
   "metadata": {},
   "outputs": [
    {
     "data": {
      "text/plain": [
       "agency                   0.00\n",
       "agency_type              0.00\n",
       "distribution_channel     0.00\n",
       "product_name             0.00\n",
       "claim                    0.00\n",
       "duration                 0.00\n",
       "destination              0.00\n",
       "net_sales                0.00\n",
       "commision_(in_value)     0.00\n",
       "gender                  71.23\n",
       "age                      0.00\n",
       "dtype: float64"
      ]
     },
     "execution_count": 11,
     "metadata": {},
     "output_type": "execute_result"
    }
   ],
   "source": [
    "#Porcenaje valores nulos\n",
    "round(df.isnull().sum()*100/df.shape[0],2)"
   ]
  },
  {
   "cell_type": "code",
   "execution_count": 12,
   "metadata": {},
   "outputs": [
    {
     "data": {
      "text/plain": [
       "M    9347\n",
       "F    8872\n",
       "Name: gender, dtype: int64"
      ]
     },
     "execution_count": 12,
     "metadata": {},
     "output_type": "execute_result"
    }
   ],
   "source": [
    "df.gender.value_counts() "
   ]
  },
  {
   "attachments": {},
   "cell_type": "markdown",
   "metadata": {},
   "source": [
    "📍 Reemplazamos los valores nulos de gender por una tercera categoría, 'I prefer not to say'/ 'PNS'"
   ]
  },
  {
   "cell_type": "code",
   "execution_count": 13,
   "metadata": {},
   "outputs": [],
   "source": [
    "df.gender.fillna('PNS', inplace=True)"
   ]
  },
  {
   "cell_type": "code",
   "execution_count": 14,
   "metadata": {},
   "outputs": [
    {
     "data": {
      "text/plain": [
       "PNS    45107\n",
       "M       9347\n",
       "F       8872\n",
       "Name: gender, dtype: int64"
      ]
     },
     "execution_count": 14,
     "metadata": {},
     "output_type": "execute_result"
    }
   ],
   "source": [
    "df.gender.value_counts()"
   ]
  },
  {
   "attachments": {},
   "cell_type": "markdown",
   "metadata": {},
   "source": [
    "### 3.2. Tratamiento de duplicados"
   ]
  },
  {
   "cell_type": "code",
   "execution_count": 15,
   "metadata": {},
   "outputs": [
    {
     "data": {
      "text/plain": [
       "8042"
      ]
     },
     "execution_count": 15,
     "metadata": {},
     "output_type": "execute_result"
    }
   ],
   "source": [
    "#Valores duplicados\n",
    "df.duplicated().sum()"
   ]
  },
  {
   "cell_type": "code",
   "execution_count": 16,
   "metadata": {},
   "outputs": [],
   "source": [
    "#Borramos las filas duplicadas\n",
    "df.drop_duplicates(inplace=True)"
   ]
  },
  {
   "cell_type": "code",
   "execution_count": 17,
   "metadata": {},
   "outputs": [
    {
     "name": "stdout",
     "output_type": "stream",
     "text": [
      "El dataframe limpio tiene:\n",
      "--------------------------\n",
      "Nº filas ----------> 55284\n",
      "Nº columnas -------> 11\n"
     ]
    }
   ],
   "source": [
    "print(f'El dataframe limpio tiene:\\n--------------------------\\nNº filas ----------> {df.shape[0]}\\nNº columnas -------> {df.shape[1]}')"
   ]
  },
  {
   "attachments": {},
   "cell_type": "markdown",
   "metadata": {},
   "source": [
    "### 3.3. Tipo de datos."
   ]
  },
  {
   "cell_type": "code",
   "execution_count": 18,
   "metadata": {},
   "outputs": [
    {
     "data": {
      "text/plain": [
       "agency                   object\n",
       "agency_type              object\n",
       "distribution_channel     object\n",
       "product_name             object\n",
       "claim                    object\n",
       "duration                  int64\n",
       "destination              object\n",
       "net_sales               float64\n",
       "commision_(in_value)    float64\n",
       "gender                   object\n",
       "age                       int64\n",
       "dtype: object"
      ]
     },
     "execution_count": 18,
     "metadata": {},
     "output_type": "execute_result"
    }
   ],
   "source": [
    "df.dtypes"
   ]
  },
  {
   "attachments": {},
   "cell_type": "markdown",
   "metadata": {},
   "source": [
    "- **Agency**: es de tipo object, está en el formato correcto. Tiene bastantes registros únicos.\n",
    "\n",
    "- **Agency Type** : es de tipo object, con dos valores únicos que habrá que codificar.\n",
    "\n",
    "- **Distribution Channel**: es de tipo object, con dos valores únicos que habrá que codificar.\n",
    "\n",
    "- **Product Name**: es de tipo object, recategorizada en menos valores únicos aunque habrá que codificar.\n",
    "\n",
    "- **Claim Status**: Variable respuesta dicotómica de tipo object que habrá que codificar.\n",
    "\n",
    "- **Duration**: es de tipo numérica, la recategorizaremos en menos valores únicos y habrá que codificar.\n",
    "\n",
    "- **Destination**: es de tipo object, la recategorizaremos en menos valores únicos y habrá que codificar.\n",
    "\n",
    "- **Net Sales**: es de tipo float, está en el formato correcto.\n",
    "\n",
    "- **Commission**: es de tipo float, está en el formato correcto.\n",
    "\n",
    "- **Gender**: es de tipo object, está en el formato correcto. Habrá que codificar.\n",
    "\n",
    "- **Age**: es de tipo numérica, la recategorizaremos en menos valores únicos y habrá que codificar."
   ]
  },
  {
   "attachments": {},
   "cell_type": "markdown",
   "metadata": {},
   "source": [
    "### 3.4. Recategorizamos la columna product_name"
   ]
  },
  {
   "cell_type": "code",
   "execution_count": 19,
   "metadata": {},
   "outputs": [],
   "source": [
    "df_lista= pd.DataFrame(df['product_name'].value_counts()).reset_index()\n"
   ]
  },
  {
   "cell_type": "code",
   "execution_count": 20,
   "metadata": {},
   "outputs": [],
   "source": [
    "lista_seguros = df_lista['index'].tolist()"
   ]
  },
  {
   "cell_type": "code",
   "execution_count": 21,
   "metadata": {},
   "outputs": [
    {
     "data": {
      "text/plain": [
       "['Cancellation Plan',\n",
       " '2 way Comprehensive Plan',\n",
       " 'Rental Vehicle Excess Insurance',\n",
       " 'Basic Plan',\n",
       " 'Bronze Plan',\n",
       " '1 way Comprehensive Plan',\n",
       " 'Value Plan',\n",
       " 'Silver Plan',\n",
       " 'Annual Silver Plan',\n",
       " 'Ticket Protector',\n",
       " 'Travel Cruise Protect',\n",
       " 'Comprehensive Plan',\n",
       " 'Gold Plan',\n",
       " '24 Protect',\n",
       " 'Single Trip Travel Protect Gold',\n",
       " 'Annual Gold Plan',\n",
       " 'Premier Plan',\n",
       " 'Single Trip Travel Protect Silver',\n",
       " 'Annual Travel Protect Gold',\n",
       " 'Annual Travel Protect Silver',\n",
       " 'Single Trip Travel Protect Platinum',\n",
       " 'Individual Comprehensive Plan',\n",
       " 'Annual Travel Protect Platinum',\n",
       " 'Spouse or Parents Comprehensive Plan',\n",
       " 'Child Comprehensive Plan',\n",
       " 'Travel Cruise Protect Family']"
      ]
     },
     "execution_count": 21,
     "metadata": {},
     "output_type": "execute_result"
    }
   ],
   "source": [
    "lista_seguros"
   ]
  },
  {
   "cell_type": "code",
   "execution_count": 22,
   "metadata": {},
   "outputs": [],
   "source": [
    "#Mantenemos los nombres de productos que engloban el 60% de los datos y el 40% restante \n",
    "# lo agrupamos en others insurances.\n",
    "\n",
    "mapa_seguros = {'Cancellation Plan' : 'Cancellation Plan' ,\n",
    " '2 way Comprehensive Plan':'2 way Comprehensive Plan' ,\n",
    " 'Rental Vehicle Excess Insurance': 'Rental Vehicle Excess Insurance',\n",
    " 'Basic Plan':'Basic Plan' ,\n",
    " 'Bronze Plan':'Bronze Plan',\n",
    " '1 way Comprehensive Plan': '1 way Comprehensive Plan',\n",
    " 'Value Plan': 'Value Plan',\n",
    " 'Silver Plan':'Silver Plan',\n",
    " 'Annual Silver Plan':'Annual Silver Plan',\n",
    " 'Ticket Protector': 'Ticket Protector',\n",
    " 'Travel Cruise Protect': 'Travel Cruise Protect' ,\n",
    " 'Comprehensive Plan':'Comprehensive Plan',\n",
    " 'Gold Plan':'Gold Plan',\n",
    " '24 Protect': 'Others insurances',\n",
    " 'Single Trip Travel Protect Gold':'Others insurances',\n",
    " 'Annual Gold Plan':'Others insurances',\n",
    " 'Premier Plan' :'Others insurances',\n",
    " 'Single Trip Travel Protect Silver' : 'Others insurances',\n",
    " 'Annual Travel Protect Gold' : 'Others insurances',\n",
    " 'Annual Travel Protect Silver': 'Others insurances',\n",
    " 'Individual Comprehensive Plan': 'Others insurances',\n",
    " 'Single Trip Travel Protect Platinum': 'Others insurances',\n",
    " 'Annual Travel Protect Platinum': 'Others insurances',\n",
    " 'Spouse or Parents Comprehensive Plan': 'Others insurances',\n",
    " 'Child Comprehensive Plan': 'Others insurances',\n",
    " 'Travel Cruise Protect Family': 'Others insurances'}"
   ]
  },
  {
   "cell_type": "code",
   "execution_count": 23,
   "metadata": {},
   "outputs": [],
   "source": [
    "df['product_name'] = df['product_name'].map(mapa_seguros)"
   ]
  },
  {
   "cell_type": "code",
   "execution_count": 24,
   "metadata": {},
   "outputs": [
    {
     "data": {
      "text/plain": [
       "Cancellation Plan                  15308\n",
       "2 way Comprehensive Plan           11136\n",
       "Rental Vehicle Excess Insurance     8082\n",
       "Basic Plan                          5187\n",
       "Bronze Plan                         3788\n",
       "1 way Comprehensive Plan            2512\n",
       "Value Plan                          2276\n",
       "Silver Plan                         2180\n",
       "Others insurances                   1391\n",
       "Annual Silver Plan                  1277\n",
       "Ticket Protector                     950\n",
       "Travel Cruise Protect                499\n",
       "Comprehensive Plan                   349\n",
       "Gold Plan                            349\n",
       "Name: product_name, dtype: int64"
      ]
     },
     "execution_count": 24,
     "metadata": {},
     "output_type": "execute_result"
    }
   ],
   "source": [
    "df['product_name'].value_counts()"
   ]
  },
  {
   "attachments": {},
   "cell_type": "markdown",
   "metadata": {},
   "source": [
    "### 3.5. Recategorizamos la columna destination"
   ]
  },
  {
   "cell_type": "code",
   "execution_count": 25,
   "metadata": {},
   "outputs": [
    {
     "data": {
      "text/plain": [
       "SINGAPORE                 11539\n",
       "THAILAND                   5130\n",
       "MALAYSIA                   4401\n",
       "CHINA                      3972\n",
       "AUSTRALIA                  3457\n",
       "                          ...  \n",
       "SEYCHELLES                    1\n",
       "SAMOA                         1\n",
       "NIGERIA                       1\n",
       "DOMINICAN REPUBLIC            1\n",
       "BOSNIA AND HERZEGOVINA        1\n",
       "Name: destination, Length: 149, dtype: int64"
      ]
     },
     "execution_count": 25,
     "metadata": {},
     "output_type": "execute_result"
    }
   ],
   "source": [
    "df['destination'].value_counts() #valoramos la opción de recategorizarlo por continentes."
   ]
  },
  {
   "cell_type": "code",
   "execution_count": 26,
   "metadata": {},
   "outputs": [],
   "source": [
    "my_world = awoc.AWOC()"
   ]
  },
  {
   "cell_type": "code",
   "execution_count": 27,
   "metadata": {},
   "outputs": [],
   "source": [
    "# def continente(col):\n",
    "#     manual = {\"Asia\" : [\"KOREA, REPUBLIC OF\", \"VIET NAM\", \"TAIWAN, PROVINCE OF CHINA\", \"BRUNEI DARUSSALAM\", \"LAO PEOPLE'S DEMOCRATIC REPUBLIC\", \"MACAO\", \n",
    "#                         \"KOREA, DEMOCRATIC PEOPLE'S REPUBLIC OF\", \"IRAN, ISLAMIC REPUBLIC OF\", \"TIBET\" ],\n",
    "#               \"Europe\" : [\"RUSSIAN FEDERATION\", \"MACEDONIA, THE FORMER YUGOSLAV REPUBLIC OF\", \"REPUBLIC OF MONTENEGRO\", \n",
    "#                           \"MOLDOVA, REPUBLIC OF\", \"BOSNIA AND HERZEGOVINA\"],\n",
    "#               \"South America\" : [\"TRINIDAD AND TOBAGO\"],\n",
    "#               \"North America\" : [\"TURKS AND CAICOS ISLANDS\", \"VIRGIN ISLANDS, U.S.\", \"GUADELOUPE\"],\n",
    "#               \"Africa\" : [\"TANZANIA, UNITED REPUBLIC OF\", \"LIBYAN ARAB JAMAHIRIYA\"]}\n",
    "#     for k, v in manual.items():\n",
    "#         if v == col:\n",
    "#             return manual.keys()\n",
    "#     else:\n",
    "#         return my_world.get_country_continent_name(col)\n",
    "        \n"
   ]
  },
  {
   "cell_type": "code",
   "execution_count": 28,
   "metadata": {},
   "outputs": [],
   "source": [
    "def continente(col):\n",
    "    asia = [\"KOREA, REPUBLIC OF\", \"VIET NAM\", \"TAIWAN, PROVINCE OF CHINA\", \"BRUNEI DARUSSALAM\", \"LAO PEOPLE'S DEMOCRATIC REPUBLIC\", \"MACAO\", \n",
    "                        \"KOREA, DEMOCRATIC PEOPLE'S REPUBLIC OF\", \"IRAN, ISLAMIC REPUBLIC OF\", \"TIBET\" ]\n",
    "    europa =  [\"RUSSIAN FEDERATION\", \"MACEDONIA, THE FORMER YUGOSLAV REPUBLIC OF\", \"REPUBLIC OF MONTENEGRO\", \n",
    "                          \"MOLDOVA, REPUBLIC OF\", \"BOSNIA AND HERZEGOVINA\"]\n",
    "    sur_america = [\"TRINIDAD AND TOBAGO\"]\n",
    "    norte_america = [\"TURKS AND CAICOS ISLANDS\", \"VIRGIN ISLANDS, U.S.\", \"GUADELOUPE\"]\n",
    "    africa = [\"TANZANIA, UNITED REPUBLIC OF\", \"LIBYAN ARAB JAMAHIRIYA\"]\n",
    "\n",
    "    if col in asia:\n",
    "        return \"Asia\"\n",
    "    elif col in europa:\n",
    "        return \"Europe\"\n",
    "    elif col in sur_america:\n",
    "        return \"South America\"\n",
    "    elif col in norte_america:\n",
    "        return \"North America\"\n",
    "    elif col in africa:\n",
    "        return \"Africa\"\n",
    "    else:\n",
    "        return my_world.get_country_continent_name(col)"
   ]
  },
  {
   "cell_type": "code",
   "execution_count": 29,
   "metadata": {},
   "outputs": [],
   "source": [
    "df[\"continent\"] = df[\"destination\"].apply(continente)"
   ]
  },
  {
   "cell_type": "code",
   "execution_count": 30,
   "metadata": {},
   "outputs": [
    {
     "data": {
      "text/plain": [
       "array(['Asia', 'Oceania', 'Europe', 'North America', 'Africa',\n",
       "       'South America'], dtype=object)"
      ]
     },
     "execution_count": 30,
     "metadata": {},
     "output_type": "execute_result"
    }
   ],
   "source": [
    "df[\"continent\"].unique()"
   ]
  },
  {
   "attachments": {},
   "cell_type": "markdown",
   "metadata": {},
   "source": [
    "### 3.6. Recategorizamos la columna age."
   ]
  },
  {
   "cell_type": "code",
   "execution_count": 31,
   "metadata": {},
   "outputs": [
    {
     "data": {
      "text/plain": [
       "36    18458\n",
       "31     2319\n",
       "48     2221\n",
       "35     2182\n",
       "30     1244\n",
       "      ...  \n",
       "88        4\n",
       "5         3\n",
       "0         2\n",
       "2         1\n",
       "4         1\n",
       "Name: age, Length: 89, dtype: int64"
      ]
     },
     "execution_count": 31,
     "metadata": {},
     "output_type": "execute_result"
    }
   ],
   "source": [
    "df['age'].value_counts()"
   ]
  },
  {
   "cell_type": "code",
   "execution_count": 32,
   "metadata": {},
   "outputs": [
    {
     "data": {
      "text/html": [
       "<div>\n",
       "<style scoped>\n",
       "    .dataframe tbody tr th:only-of-type {\n",
       "        vertical-align: middle;\n",
       "    }\n",
       "\n",
       "    .dataframe tbody tr th {\n",
       "        vertical-align: top;\n",
       "    }\n",
       "\n",
       "    .dataframe thead th {\n",
       "        text-align: right;\n",
       "    }\n",
       "</style>\n",
       "<table border=\"1\" class=\"dataframe\">\n",
       "  <thead>\n",
       "    <tr style=\"text-align: right;\">\n",
       "      <th></th>\n",
       "      <th>agency</th>\n",
       "      <th>agency_type</th>\n",
       "      <th>distribution_channel</th>\n",
       "      <th>product_name</th>\n",
       "      <th>claim</th>\n",
       "      <th>duration</th>\n",
       "      <th>destination</th>\n",
       "      <th>net_sales</th>\n",
       "      <th>commision_(in_value)</th>\n",
       "      <th>gender</th>\n",
       "      <th>age</th>\n",
       "      <th>continent</th>\n",
       "    </tr>\n",
       "  </thead>\n",
       "  <tbody>\n",
       "    <tr>\n",
       "      <th>41993</th>\n",
       "      <td>TST</td>\n",
       "      <td>Travel Agency</td>\n",
       "      <td>Offline</td>\n",
       "      <td>Travel Cruise Protect</td>\n",
       "      <td>No</td>\n",
       "      <td>94</td>\n",
       "      <td>THAILAND</td>\n",
       "      <td>30.0</td>\n",
       "      <td>10.5</td>\n",
       "      <td>F</td>\n",
       "      <td>0</td>\n",
       "      <td>Asia</td>\n",
       "    </tr>\n",
       "    <tr>\n",
       "      <th>52109</th>\n",
       "      <td>TST</td>\n",
       "      <td>Travel Agency</td>\n",
       "      <td>Offline</td>\n",
       "      <td>Travel Cruise Protect</td>\n",
       "      <td>No</td>\n",
       "      <td>94</td>\n",
       "      <td>THAILAND</td>\n",
       "      <td>-30.0</td>\n",
       "      <td>10.5</td>\n",
       "      <td>F</td>\n",
       "      <td>0</td>\n",
       "      <td>Asia</td>\n",
       "    </tr>\n",
       "  </tbody>\n",
       "</table>\n",
       "</div>"
      ],
      "text/plain": [
       "      agency    agency_type distribution_channel           product_name claim  \\\n",
       "41993    TST  Travel Agency              Offline  Travel Cruise Protect    No   \n",
       "52109    TST  Travel Agency              Offline  Travel Cruise Protect    No   \n",
       "\n",
       "       duration destination  net_sales  commision_(in_value) gender  age  \\\n",
       "41993        94    THAILAND       30.0                  10.5      F    0   \n",
       "52109        94    THAILAND      -30.0                  10.5      F    0   \n",
       "\n",
       "      continent  \n",
       "41993      Asia  \n",
       "52109      Asia  "
      ]
     },
     "execution_count": 32,
     "metadata": {},
     "output_type": "execute_result"
    }
   ],
   "source": [
    "df.loc[df['age'] <= 0] #filas donde la edad es 0"
   ]
  },
  {
   "cell_type": "code",
   "execution_count": 33,
   "metadata": {},
   "outputs": [
    {
     "data": {
      "text/html": [
       "<div>\n",
       "<style scoped>\n",
       "    .dataframe tbody tr th:only-of-type {\n",
       "        vertical-align: middle;\n",
       "    }\n",
       "\n",
       "    .dataframe tbody tr th {\n",
       "        vertical-align: top;\n",
       "    }\n",
       "\n",
       "    .dataframe thead th {\n",
       "        text-align: right;\n",
       "    }\n",
       "</style>\n",
       "<table border=\"1\" class=\"dataframe\">\n",
       "  <thead>\n",
       "    <tr style=\"text-align: right;\">\n",
       "      <th></th>\n",
       "      <th>agency</th>\n",
       "      <th>agency_type</th>\n",
       "      <th>distribution_channel</th>\n",
       "      <th>product_name</th>\n",
       "      <th>claim</th>\n",
       "      <th>duration</th>\n",
       "      <th>destination</th>\n",
       "      <th>net_sales</th>\n",
       "      <th>commision_(in_value)</th>\n",
       "      <th>gender</th>\n",
       "      <th>age</th>\n",
       "      <th>continent</th>\n",
       "    </tr>\n",
       "  </thead>\n",
       "  <tbody>\n",
       "    <tr>\n",
       "      <th>10</th>\n",
       "      <td>JZI</td>\n",
       "      <td>Airlines</td>\n",
       "      <td>Online</td>\n",
       "      <td>Basic Plan</td>\n",
       "      <td>No</td>\n",
       "      <td>33</td>\n",
       "      <td>KOREA, DEMOCRATIC PEOPLE'S REPUBLIC OF</td>\n",
       "      <td>-26.0</td>\n",
       "      <td>9.10</td>\n",
       "      <td>PNS</td>\n",
       "      <td>118</td>\n",
       "      <td>Asia</td>\n",
       "    </tr>\n",
       "    <tr>\n",
       "      <th>105</th>\n",
       "      <td>JWT</td>\n",
       "      <td>Airlines</td>\n",
       "      <td>Online</td>\n",
       "      <td>Value Plan</td>\n",
       "      <td>No</td>\n",
       "      <td>11</td>\n",
       "      <td>INDIA</td>\n",
       "      <td>50.0</td>\n",
       "      <td>20.00</td>\n",
       "      <td>M</td>\n",
       "      <td>118</td>\n",
       "      <td>Asia</td>\n",
       "    </tr>\n",
       "    <tr>\n",
       "      <th>220</th>\n",
       "      <td>JWT</td>\n",
       "      <td>Airlines</td>\n",
       "      <td>Online</td>\n",
       "      <td>Value Plan</td>\n",
       "      <td>No</td>\n",
       "      <td>4</td>\n",
       "      <td>INDIA</td>\n",
       "      <td>62.0</td>\n",
       "      <td>24.80</td>\n",
       "      <td>F</td>\n",
       "      <td>118</td>\n",
       "      <td>Asia</td>\n",
       "    </tr>\n",
       "    <tr>\n",
       "      <th>367</th>\n",
       "      <td>JWT</td>\n",
       "      <td>Airlines</td>\n",
       "      <td>Online</td>\n",
       "      <td>Value Plan</td>\n",
       "      <td>No</td>\n",
       "      <td>16</td>\n",
       "      <td>INDIA</td>\n",
       "      <td>50.0</td>\n",
       "      <td>20.00</td>\n",
       "      <td>M</td>\n",
       "      <td>118</td>\n",
       "      <td>Asia</td>\n",
       "    </tr>\n",
       "    <tr>\n",
       "      <th>402</th>\n",
       "      <td>CCR</td>\n",
       "      <td>Travel Agency</td>\n",
       "      <td>Offline</td>\n",
       "      <td>Comprehensive Plan</td>\n",
       "      <td>No</td>\n",
       "      <td>5</td>\n",
       "      <td>MALAYSIA</td>\n",
       "      <td>29.0</td>\n",
       "      <td>9.57</td>\n",
       "      <td>M</td>\n",
       "      <td>118</td>\n",
       "      <td>Asia</td>\n",
       "    </tr>\n",
       "    <tr>\n",
       "      <th>...</th>\n",
       "      <td>...</td>\n",
       "      <td>...</td>\n",
       "      <td>...</td>\n",
       "      <td>...</td>\n",
       "      <td>...</td>\n",
       "      <td>...</td>\n",
       "      <td>...</td>\n",
       "      <td>...</td>\n",
       "      <td>...</td>\n",
       "      <td>...</td>\n",
       "      <td>...</td>\n",
       "      <td>...</td>\n",
       "    </tr>\n",
       "    <tr>\n",
       "      <th>62338</th>\n",
       "      <td>JWT</td>\n",
       "      <td>Airlines</td>\n",
       "      <td>Online</td>\n",
       "      <td>Value Plan</td>\n",
       "      <td>No</td>\n",
       "      <td>91</td>\n",
       "      <td>INDIA</td>\n",
       "      <td>31.0</td>\n",
       "      <td>12.40</td>\n",
       "      <td>F</td>\n",
       "      <td>118</td>\n",
       "      <td>Asia</td>\n",
       "    </tr>\n",
       "    <tr>\n",
       "      <th>62515</th>\n",
       "      <td>JWT</td>\n",
       "      <td>Airlines</td>\n",
       "      <td>Online</td>\n",
       "      <td>Value Plan</td>\n",
       "      <td>No</td>\n",
       "      <td>6</td>\n",
       "      <td>INDIA</td>\n",
       "      <td>50.0</td>\n",
       "      <td>20.00</td>\n",
       "      <td>M</td>\n",
       "      <td>118</td>\n",
       "      <td>Asia</td>\n",
       "    </tr>\n",
       "    <tr>\n",
       "      <th>62953</th>\n",
       "      <td>ART</td>\n",
       "      <td>Airlines</td>\n",
       "      <td>Online</td>\n",
       "      <td>Value Plan</td>\n",
       "      <td>No</td>\n",
       "      <td>14</td>\n",
       "      <td>FRANCE</td>\n",
       "      <td>59.0</td>\n",
       "      <td>20.65</td>\n",
       "      <td>M</td>\n",
       "      <td>118</td>\n",
       "      <td>Europe</td>\n",
       "    </tr>\n",
       "    <tr>\n",
       "      <th>63096</th>\n",
       "      <td>ART</td>\n",
       "      <td>Airlines</td>\n",
       "      <td>Online</td>\n",
       "      <td>Value Plan</td>\n",
       "      <td>No</td>\n",
       "      <td>42</td>\n",
       "      <td>HONG KONG</td>\n",
       "      <td>61.0</td>\n",
       "      <td>21.35</td>\n",
       "      <td>M</td>\n",
       "      <td>118</td>\n",
       "      <td>Asia</td>\n",
       "    </tr>\n",
       "    <tr>\n",
       "      <th>63182</th>\n",
       "      <td>JWT</td>\n",
       "      <td>Airlines</td>\n",
       "      <td>Online</td>\n",
       "      <td>Value Plan</td>\n",
       "      <td>No</td>\n",
       "      <td>21</td>\n",
       "      <td>INDIA</td>\n",
       "      <td>39.0</td>\n",
       "      <td>15.60</td>\n",
       "      <td>F</td>\n",
       "      <td>118</td>\n",
       "      <td>Asia</td>\n",
       "    </tr>\n",
       "  </tbody>\n",
       "</table>\n",
       "<p>650 rows × 12 columns</p>\n",
       "</div>"
      ],
      "text/plain": [
       "      agency    agency_type distribution_channel        product_name claim  \\\n",
       "10       JZI       Airlines               Online          Basic Plan    No   \n",
       "105      JWT       Airlines               Online          Value Plan    No   \n",
       "220      JWT       Airlines               Online          Value Plan    No   \n",
       "367      JWT       Airlines               Online          Value Plan    No   \n",
       "402      CCR  Travel Agency              Offline  Comprehensive Plan    No   \n",
       "...      ...            ...                  ...                 ...   ...   \n",
       "62338    JWT       Airlines               Online          Value Plan    No   \n",
       "62515    JWT       Airlines               Online          Value Plan    No   \n",
       "62953    ART       Airlines               Online          Value Plan    No   \n",
       "63096    ART       Airlines               Online          Value Plan    No   \n",
       "63182    JWT       Airlines               Online          Value Plan    No   \n",
       "\n",
       "       duration                             destination  net_sales  \\\n",
       "10           33  KOREA, DEMOCRATIC PEOPLE'S REPUBLIC OF      -26.0   \n",
       "105          11                                   INDIA       50.0   \n",
       "220           4                                   INDIA       62.0   \n",
       "367          16                                   INDIA       50.0   \n",
       "402           5                                MALAYSIA       29.0   \n",
       "...         ...                                     ...        ...   \n",
       "62338        91                                   INDIA       31.0   \n",
       "62515         6                                   INDIA       50.0   \n",
       "62953        14                                  FRANCE       59.0   \n",
       "63096        42                               HONG KONG       61.0   \n",
       "63182        21                                   INDIA       39.0   \n",
       "\n",
       "       commision_(in_value) gender  age continent  \n",
       "10                     9.10    PNS  118      Asia  \n",
       "105                   20.00      M  118      Asia  \n",
       "220                   24.80      F  118      Asia  \n",
       "367                   20.00      M  118      Asia  \n",
       "402                    9.57      M  118      Asia  \n",
       "...                     ...    ...  ...       ...  \n",
       "62338                 12.40      F  118      Asia  \n",
       "62515                 20.00      M  118      Asia  \n",
       "62953                 20.65      M  118    Europe  \n",
       "63096                 21.35      M  118      Asia  \n",
       "63182                 15.60      F  118      Asia  \n",
       "\n",
       "[650 rows x 12 columns]"
      ]
     },
     "execution_count": 33,
     "metadata": {},
     "output_type": "execute_result"
    }
   ],
   "source": [
    "df.loc[df['age'] == 118] #filas donde la edad es igual a 118, hay 650 registros, decidir que hacer con estos outliers."
   ]
  },
  {
   "cell_type": "code",
   "execution_count": 34,
   "metadata": {},
   "outputs": [
    {
     "data": {
      "text/html": [
       "<div>\n",
       "<style scoped>\n",
       "    .dataframe tbody tr th:only-of-type {\n",
       "        vertical-align: middle;\n",
       "    }\n",
       "\n",
       "    .dataframe tbody tr th {\n",
       "        vertical-align: top;\n",
       "    }\n",
       "\n",
       "    .dataframe thead th {\n",
       "        text-align: right;\n",
       "    }\n",
       "</style>\n",
       "<table border=\"1\" class=\"dataframe\">\n",
       "  <thead>\n",
       "    <tr style=\"text-align: right;\">\n",
       "      <th></th>\n",
       "      <th>agency</th>\n",
       "      <th>agency_type</th>\n",
       "      <th>distribution_channel</th>\n",
       "      <th>product_name</th>\n",
       "      <th>claim</th>\n",
       "      <th>duration</th>\n",
       "      <th>destination</th>\n",
       "      <th>net_sales</th>\n",
       "      <th>commision_(in_value)</th>\n",
       "      <th>gender</th>\n",
       "      <th>age</th>\n",
       "      <th>continent</th>\n",
       "    </tr>\n",
       "  </thead>\n",
       "  <tbody>\n",
       "    <tr>\n",
       "      <th>0</th>\n",
       "      <td>CBH</td>\n",
       "      <td>Travel Agency</td>\n",
       "      <td>Offline</td>\n",
       "      <td>Comprehensive Plan</td>\n",
       "      <td>No</td>\n",
       "      <td>186</td>\n",
       "      <td>MALAYSIA</td>\n",
       "      <td>-29.0</td>\n",
       "      <td>9.57</td>\n",
       "      <td>F</td>\n",
       "      <td>81</td>\n",
       "      <td>Asia</td>\n",
       "    </tr>\n",
       "    <tr>\n",
       "      <th>2877</th>\n",
       "      <td>JZI</td>\n",
       "      <td>Airlines</td>\n",
       "      <td>Online</td>\n",
       "      <td>Basic Plan</td>\n",
       "      <td>No</td>\n",
       "      <td>17</td>\n",
       "      <td>THAILAND</td>\n",
       "      <td>22.0</td>\n",
       "      <td>7.70</td>\n",
       "      <td>M</td>\n",
       "      <td>85</td>\n",
       "      <td>Asia</td>\n",
       "    </tr>\n",
       "    <tr>\n",
       "      <th>2882</th>\n",
       "      <td>JZI</td>\n",
       "      <td>Airlines</td>\n",
       "      <td>Online</td>\n",
       "      <td>Basic Plan</td>\n",
       "      <td>No</td>\n",
       "      <td>110</td>\n",
       "      <td>AUSTRALIA</td>\n",
       "      <td>40.0</td>\n",
       "      <td>14.00</td>\n",
       "      <td>F</td>\n",
       "      <td>81</td>\n",
       "      <td>Oceania</td>\n",
       "    </tr>\n",
       "    <tr>\n",
       "      <th>2896</th>\n",
       "      <td>CCR</td>\n",
       "      <td>Travel Agency</td>\n",
       "      <td>Offline</td>\n",
       "      <td>Others insurances</td>\n",
       "      <td>No</td>\n",
       "      <td>69</td>\n",
       "      <td>THAILAND</td>\n",
       "      <td>58.0</td>\n",
       "      <td>19.14</td>\n",
       "      <td>F</td>\n",
       "      <td>84</td>\n",
       "      <td>Asia</td>\n",
       "    </tr>\n",
       "    <tr>\n",
       "      <th>3194</th>\n",
       "      <td>C2B</td>\n",
       "      <td>Airlines</td>\n",
       "      <td>Online</td>\n",
       "      <td>Bronze Plan</td>\n",
       "      <td>No</td>\n",
       "      <td>18</td>\n",
       "      <td>SINGAPORE</td>\n",
       "      <td>25.5</td>\n",
       "      <td>6.38</td>\n",
       "      <td>F</td>\n",
       "      <td>87</td>\n",
       "      <td>Asia</td>\n",
       "    </tr>\n",
       "    <tr>\n",
       "      <th>...</th>\n",
       "      <td>...</td>\n",
       "      <td>...</td>\n",
       "      <td>...</td>\n",
       "      <td>...</td>\n",
       "      <td>...</td>\n",
       "      <td>...</td>\n",
       "      <td>...</td>\n",
       "      <td>...</td>\n",
       "      <td>...</td>\n",
       "      <td>...</td>\n",
       "      <td>...</td>\n",
       "      <td>...</td>\n",
       "    </tr>\n",
       "    <tr>\n",
       "      <th>62043</th>\n",
       "      <td>EPX</td>\n",
       "      <td>Travel Agency</td>\n",
       "      <td>Online</td>\n",
       "      <td>2 way Comprehensive Plan</td>\n",
       "      <td>No</td>\n",
       "      <td>25</td>\n",
       "      <td>INDONESIA</td>\n",
       "      <td>21.0</td>\n",
       "      <td>0.00</td>\n",
       "      <td>PNS</td>\n",
       "      <td>82</td>\n",
       "      <td>Asia</td>\n",
       "    </tr>\n",
       "    <tr>\n",
       "      <th>62080</th>\n",
       "      <td>EPX</td>\n",
       "      <td>Travel Agency</td>\n",
       "      <td>Online</td>\n",
       "      <td>1 way Comprehensive Plan</td>\n",
       "      <td>No</td>\n",
       "      <td>3</td>\n",
       "      <td>HONG KONG</td>\n",
       "      <td>29.0</td>\n",
       "      <td>0.00</td>\n",
       "      <td>PNS</td>\n",
       "      <td>83</td>\n",
       "      <td>Asia</td>\n",
       "    </tr>\n",
       "    <tr>\n",
       "      <th>62159</th>\n",
       "      <td>EPX</td>\n",
       "      <td>Travel Agency</td>\n",
       "      <td>Online</td>\n",
       "      <td>2 way Comprehensive Plan</td>\n",
       "      <td>No</td>\n",
       "      <td>24</td>\n",
       "      <td>INDONESIA</td>\n",
       "      <td>20.0</td>\n",
       "      <td>0.00</td>\n",
       "      <td>PNS</td>\n",
       "      <td>87</td>\n",
       "      <td>Asia</td>\n",
       "    </tr>\n",
       "    <tr>\n",
       "      <th>62530</th>\n",
       "      <td>LWC</td>\n",
       "      <td>Travel Agency</td>\n",
       "      <td>Online</td>\n",
       "      <td>Others insurances</td>\n",
       "      <td>No</td>\n",
       "      <td>5</td>\n",
       "      <td>THAILAND</td>\n",
       "      <td>25.0</td>\n",
       "      <td>16.25</td>\n",
       "      <td>F</td>\n",
       "      <td>82</td>\n",
       "      <td>Asia</td>\n",
       "    </tr>\n",
       "    <tr>\n",
       "      <th>62743</th>\n",
       "      <td>LWC</td>\n",
       "      <td>Travel Agency</td>\n",
       "      <td>Online</td>\n",
       "      <td>Others insurances</td>\n",
       "      <td>No</td>\n",
       "      <td>122</td>\n",
       "      <td>CHINA</td>\n",
       "      <td>50.5</td>\n",
       "      <td>32.83</td>\n",
       "      <td>M</td>\n",
       "      <td>80</td>\n",
       "      <td>Asia</td>\n",
       "    </tr>\n",
       "  </tbody>\n",
       "</table>\n",
       "<p>124 rows × 12 columns</p>\n",
       "</div>"
      ],
      "text/plain": [
       "      agency    agency_type distribution_channel              product_name  \\\n",
       "0        CBH  Travel Agency              Offline        Comprehensive Plan   \n",
       "2877     JZI       Airlines               Online                Basic Plan   \n",
       "2882     JZI       Airlines               Online                Basic Plan   \n",
       "2896     CCR  Travel Agency              Offline         Others insurances   \n",
       "3194     C2B       Airlines               Online               Bronze Plan   \n",
       "...      ...            ...                  ...                       ...   \n",
       "62043    EPX  Travel Agency               Online  2 way Comprehensive Plan   \n",
       "62080    EPX  Travel Agency               Online  1 way Comprehensive Plan   \n",
       "62159    EPX  Travel Agency               Online  2 way Comprehensive Plan   \n",
       "62530    LWC  Travel Agency               Online         Others insurances   \n",
       "62743    LWC  Travel Agency               Online         Others insurances   \n",
       "\n",
       "      claim  duration destination  net_sales  commision_(in_value) gender  \\\n",
       "0        No       186    MALAYSIA      -29.0                  9.57      F   \n",
       "2877     No        17    THAILAND       22.0                  7.70      M   \n",
       "2882     No       110   AUSTRALIA       40.0                 14.00      F   \n",
       "2896     No        69    THAILAND       58.0                 19.14      F   \n",
       "3194     No        18   SINGAPORE       25.5                  6.38      F   \n",
       "...     ...       ...         ...        ...                   ...    ...   \n",
       "62043    No        25   INDONESIA       21.0                  0.00    PNS   \n",
       "62080    No         3   HONG KONG       29.0                  0.00    PNS   \n",
       "62159    No        24   INDONESIA       20.0                  0.00    PNS   \n",
       "62530    No         5    THAILAND       25.0                 16.25      F   \n",
       "62743    No       122       CHINA       50.5                 32.83      M   \n",
       "\n",
       "       age continent  \n",
       "0       81      Asia  \n",
       "2877    85      Asia  \n",
       "2882    81   Oceania  \n",
       "2896    84      Asia  \n",
       "3194    87      Asia  \n",
       "...    ...       ...  \n",
       "62043   82      Asia  \n",
       "62080   83      Asia  \n",
       "62159   87      Asia  \n",
       "62530   82      Asia  \n",
       "62743   80      Asia  \n",
       "\n",
       "[124 rows x 12 columns]"
      ]
     },
     "execution_count": 34,
     "metadata": {},
     "output_type": "execute_result"
    }
   ],
   "source": [
    "df.loc[(df['age'] >= 80) & (df['age'] <= 90)] #si que hay datos de clientes entre 80 y 90 años, pero los datos de la celda anterior no tienen tanto sentido."
   ]
  },
  {
   "attachments": {},
   "cell_type": "markdown",
   "metadata": {},
   "source": [
    "Recategorizaremos esta columna en por rangos de edad para ver los datos de manera más general.\n",
    "\n",
    "- 0 a 17 child\n",
    "- 18 a 24 younth\n",
    "- 25 a 35 adult younth    \n",
    "- 36 a 45 adult   \n",
    "- 46 a 63 senior\n",
    "- mayores de 64 retired\n"
   ]
  },
  {
   "cell_type": "code",
   "execution_count": 35,
   "metadata": {},
   "outputs": [],
   "source": [
    "def edad(col):\n",
    "    if col >= 0 and col <= 17:\n",
    "        return \"child\" \n",
    "    elif col >= 18 and col <= 24:\n",
    "        return \"youth\"\n",
    "    elif col >= 25 and col <= 35:\n",
    "        return \"adult youth\"\n",
    "    elif col >= 36 and col <= 45:\n",
    "        return \"adult\"\n",
    "    elif col >= 46 and col <= 63:\n",
    "        return \"senior\"\n",
    "    else:\n",
    "        return \"retired\""
   ]
  },
  {
   "cell_type": "code",
   "execution_count": 36,
   "metadata": {},
   "outputs": [],
   "source": [
    "df[\"cat_age\"] = df[\"age\"].apply(edad)"
   ]
  },
  {
   "attachments": {},
   "cell_type": "markdown",
   "metadata": {},
   "source": [
    "### 3.7. Recategorizamos la columna duration."
   ]
  },
  {
   "cell_type": "code",
   "execution_count": 37,
   "metadata": {},
   "outputs": [
    {
     "data": {
      "text/plain": [
       "6      1624\n",
       "5      1600\n",
       "8      1588\n",
       "7      1566\n",
       "9      1516\n",
       "       ... \n",
       "478       1\n",
       "497       1\n",
       "295       1\n",
       "422       1\n",
       "488       1\n",
       "Name: duration, Length: 455, dtype: int64"
      ]
     },
     "execution_count": 37,
     "metadata": {},
     "output_type": "execute_result"
    }
   ],
   "source": [
    "df['duration'].value_counts()"
   ]
  },
  {
   "cell_type": "code",
   "execution_count": 38,
   "metadata": {},
   "outputs": [
    {
     "name": "stdout",
     "output_type": "stream",
     "text": [
      "-2\n",
      "4881\n"
     ]
    }
   ],
   "source": [
    "print(df.duration.min()) #decidir que hacer con los valores negativos \n",
    "print(df.duration.max())"
   ]
  },
  {
   "cell_type": "code",
   "execution_count": 39,
   "metadata": {},
   "outputs": [],
   "source": [
    "#df.loc[df['duration'] <= 0 ] #filas donde la duración es igual o menor a cero"
   ]
  },
  {
   "attachments": {},
   "cell_type": "markdown",
   "metadata": {},
   "source": [
    "Nuevas categorías de la columna duration:\n",
    "\n",
    "- menor = 1\n",
    "\n",
    "- mayor 1 y menor = 3\n",
    "\n",
    "- mayor de 3 y menor = 7\n",
    "\n",
    "- mayor de 7 y menor de 15 \n",
    "\n",
    "- mayor de 15 y menor de 30\n",
    "\n",
    "- mayor de 30 y menor de 90\n",
    "\n",
    "- mayor de 100 y menor de 365\n",
    "\n",
    "- mayor de 365\n"
   ]
  },
  {
   "cell_type": "code",
   "execution_count": 40,
   "metadata": {},
   "outputs": [],
   "source": [
    "def dias(col):\n",
    "    if col <= 1:\n",
    "        return \"one day\" \n",
    "    elif col > 1 and col <= 3:\n",
    "        return \"weekend\"\n",
    "    elif col >= 4 and col <= 7:\n",
    "        return \"week\"\n",
    "    elif col >= 8 and col <= 15:\n",
    "        return \"two weeks\"\n",
    "    elif col >= 16 and col <= 30:\n",
    "        return \"month\"\n",
    "    elif col >= 31 and col <= 90:\n",
    "        return \"three months\"\n",
    "    elif col >= 91 and col <= 365:\n",
    "        return \"year\"\n",
    "    else:\n",
    "        return \"extra long\""
   ]
  },
  {
   "cell_type": "code",
   "execution_count": 41,
   "metadata": {},
   "outputs": [],
   "source": [
    "df[\"cat_duration\"] = df[\"duration\"].apply(dias)"
   ]
  },
  {
   "cell_type": "code",
   "execution_count": 42,
   "metadata": {},
   "outputs": [
    {
     "data": {
      "text/plain": [
       "three months    16439\n",
       "month           11475\n",
       "two weeks       10503\n",
       "year             6594\n",
       "week             6221\n",
       "weekend          2205\n",
       "extra long       1276\n",
       "one day           571\n",
       "Name: cat_duration, dtype: int64"
      ]
     },
     "execution_count": 42,
     "metadata": {},
     "output_type": "execute_result"
    }
   ],
   "source": [
    "df.cat_duration.value_counts()"
   ]
  },
  {
   "attachments": {},
   "cell_type": "markdown",
   "metadata": {},
   "source": [
    "### 4. Análisis exploratorio visual."
   ]
  },
  {
   "attachments": {},
   "cell_type": "markdown",
   "metadata": {},
   "source": [
    "### 4.1. Distribución de la variable respuesta"
   ]
  },
  {
   "cell_type": "code",
   "execution_count": 43,
   "metadata": {},
   "outputs": [
    {
     "data": {
      "text/plain": [
       "array(['No', 'Yes'], dtype=object)"
      ]
     },
     "execution_count": 43,
     "metadata": {},
     "output_type": "execute_result"
    }
   ],
   "source": [
    "df.claim.unique()"
   ]
  },
  {
   "cell_type": "code",
   "execution_count": 44,
   "metadata": {},
   "outputs": [
    {
     "data": {
      "text/plain": [
       "No     54363\n",
       "Yes      921\n",
       "Name: claim, dtype: int64"
      ]
     },
     "execution_count": 44,
     "metadata": {},
     "output_type": "execute_result"
    }
   ],
   "source": [
    "df.claim.value_counts()"
   ]
  },
  {
   "cell_type": "code",
   "execution_count": 45,
   "metadata": {},
   "outputs": [
    {
     "data": {
      "image/png": "[encoded data removed]",
      "text/plain": [
       "<Figure size 576x360 with 1 Axes>"
      ]
     },
     "metadata": {
      "needs_background": "light"
     },
     "output_type": "display_data"
    }
   ],
   "source": [
    "#Gráfica de distribución de la variable respuesta\n",
    "plt.figure(figsize=(8,5))\n",
    "\n",
    "fig1 = sns.countplot(data = df, x = \"claim\", palette='icefire')\n",
    "fig1.set(xticklabels=[\"No\", \"Yes\"]) \n",
    "plt.show();\n"
   ]
  },
  {
   "cell_type": "code",
   "execution_count": 46,
   "metadata": {},
   "outputs": [
    {
     "data": {
      "text/plain": [
       "No     98.334057\n",
       "Yes     1.665943\n",
       "Name: claim, dtype: float64"
      ]
     },
     "execution_count": 46,
     "metadata": {},
     "output_type": "execute_result"
    }
   ],
   "source": [
    "#Porcentajes variable respuesta\n",
    "df[\"claim\"].value_counts() *100 /df.shape[0]"
   ]
  },
  {
   "attachments": {},
   "cell_type": "markdown",
   "metadata": {},
   "source": [
    "➡️ **_Conclusiones:_**\n",
    "\n",
    "El 98,3 de los registros no han reclamado el seguro, solo un 1,66 lo han hecho. Los datos de la variable respuesta están en desvalanceo por lo que tendremos que usar el método SMOTE para subir la cantidad de respuestas tipo yes. \n",
    "\n"
   ]
  },
  {
   "attachments": {},
   "cell_type": "markdown",
   "metadata": {},
   "source": [
    "### 4.2. Distribución de las variables categóricas."
   ]
  },
  {
   "cell_type": "code",
   "execution_count": 67,
   "metadata": {},
   "outputs": [
    {
     "data": {
      "image/png": "[encoded data removed]",
      "text/plain": [
       "<Figure size 2160x1440 with 8 Axes>"
      ]
     },
     "metadata": {
      "needs_background": "light"
     },
     "output_type": "display_data"
    }
   ],
   "source": [
    "#Gráficas\n",
    "fig, axes = plt.subplots(nrows = 4, ncols = 2, figsize = (30, 20))\n",
    "\n",
    "axes = axes.flat\n",
    "columnas_cat = df.select_dtypes(include = \"object\").columns.sort_values()\n",
    "columnas_cat = columnas_cat.drop(['claim', 'destination'])\n",
    "\n",
    "\n",
    "for i, colum in enumerate(columnas_cat): \n",
    "    sns.countplot(\n",
    "        data = df,\n",
    "        x = colum,\n",
    "        hue = \"claim\", \n",
    "        ax = axes[i],\n",
    "        palette='icefire')\n",
    "    \n",
    "    \n",
    "    axes[i].set_title(colum, fontsize = 20, fontweight = \"bold\")\n",
    "    axes[i].tick_params(labelsize = 15)\n",
    "    axes[i].set_xlabel(\"\")\n",
    "    axes[i].legend(loc= \"upper right\")\n",
    "    \n",
    "\n",
    "plt.xticks(rotation=70)\n",
    "fig.tight_layout();"
   ]
  },
  {
   "attachments": {},
   "cell_type": "markdown",
   "metadata": {},
   "source": [
    "➡️ **_Conclusiones:_**\n",
    "\n",
    "- Visualizamos que hay algunas agencias que tienen mayor porcentaje de reclamaciones y de ventas de seguros.\n",
    "- Las aerolíneas tienen más reclamaciones que las agencias de viajes.\n",
    "- No vemos un patrón claro en la edad, aunque si que hay más número de reclamaciones en los rangos de joven adulto y adulto.\n",
    "- Parece que en los viajes cortos no hay casi reclamaciones y si que las hay en los viajes de mayor duración.\n",
    "- Referente a los continentes, las reclamaciones están más concentradas en Asia, puede que por la influencia de que las aseguradoras son de Singapur. \n",
    "- En el canal de distribución, hay más ventas y más reclamaciones en el formato online.\n",
    "- En el género se puede observar un poco más de cantidad de reclamaciones por parte del sexo femenino\n",
    "- Observamos que algunos tipos de seguros tienen más reclamaciones que otros, pero no tenemos información detallada sobre los planes de seguro como para sacar un patrón claro.\n",
    "\n",
    "\n",
    "Dónde hay más cantidad de ventas, hay más cantidad de reclamaciones. \n",
    "\n",
    "\n"
   ]
  },
  {
   "attachments": {},
   "cell_type": "markdown",
   "metadata": {},
   "source": [
    "### 4.3. Distribución de las variables numéricas."
   ]
  },
  {
   "cell_type": "code",
   "execution_count": 75,
   "metadata": {},
   "outputs": [
    {
     "data": {
      "image/png": "[encoded data removed]",
      "text/plain": [
       "<Figure size 2160x360 with 2 Axes>"
      ]
     },
     "metadata": {
      "needs_background": "light"
     },
     "output_type": "display_data"
    }
   ],
   "source": [
    "#Gráficas\n",
    "fig, axes = plt.subplots(nrows = 1, ncols = 2, figsize = (30, 5))\n",
    "\n",
    "lista_colores = [\"orange\", \"purple\"]\n",
    "\n",
    "axes = axes.flat\n",
    "\n",
    "columnas_numericas = df.select_dtypes(include = np.number).columns\n",
    "columnas_numericas = columnas_numericas.drop(['duration', 'age'])\n",
    "\n",
    "for i, colum in enumerate(columnas_numericas): \n",
    "    sns.histplot(\n",
    "        data = df,\n",
    "        x = colum,\n",
    "        kde = True, \n",
    "        color = lista_colores[i],\n",
    "        line_kws = {\"linewidth\": 2},  \n",
    "        alpha = 0.3, \n",
    "        ax = axes[i])\n",
    "    \n",
    "    \n",
    "    axes[i].set_title(colum, fontsize = 15, fontweight = \"bold\")\n",
    "    axes[i].tick_params(labelsize = 10)\n",
    "    axes[i].set_xlabel(\"\")\n",
    "    \n",
    "    \n",
    "fig.tight_layout();"
   ]
  },
  {
   "attachments": {},
   "cell_type": "markdown",
   "metadata": {},
   "source": [
    "➡️ **_Conclusiones:_**\n",
    "- En el caso de net_sales hay outliers que hacen que la distribución tenga sesgos hacia los dos lados, pero los mantenemos ya que son pérdidas relacionadas con las reclamaciones y ganancias reales de la empresa.\n",
    "- En el caso de commision hay outliers que hacen que la distribución tenga sesgos hacia la derecha, pero lo mantenemos ya que son ganancias reales de la empresa por las no reclamaciones.\n"
   ]
  },
  {
   "cell_type": "code",
   "execution_count": 83,
   "metadata": {},
   "outputs": [
    {
     "ename": "IndexError",
     "evalue": "index 2 is out of bounds for axis 0 with size 2",
     "output_type": "error",
     "traceback": [
      "\u001b[0;31m---------------------------------------------------------------------------\u001b[0m",
      "\u001b[0;31mIndexError\u001b[0m                                Traceback (most recent call last)",
      "\u001b[0;32m/tmp/ipykernel_3625/3111699672.py\u001b[0m in \u001b[0;36m<module>\u001b[0;34m\u001b[0m\n\u001b[1;32m     16\u001b[0m         \u001b[0malpha\u001b[0m \u001b[0;34m=\u001b[0m \u001b[0;36m0.2\u001b[0m\u001b[0;34m,\u001b[0m\u001b[0;34m\u001b[0m\u001b[0;34m\u001b[0m\u001b[0m\n\u001b[1;32m     17\u001b[0m         \u001b[0mpalette\u001b[0m\u001b[0;34m=\u001b[0m\u001b[0;34m'twilight'\u001b[0m\u001b[0;34m,\u001b[0m\u001b[0;34m\u001b[0m\u001b[0;34m\u001b[0m\u001b[0m\n\u001b[0;32m---> 18\u001b[0;31m         ax = axes[i])\n\u001b[0m\u001b[1;32m     19\u001b[0m \u001b[0;34m\u001b[0m\u001b[0m\n\u001b[1;32m     20\u001b[0m \u001b[0;34m\u001b[0m\u001b[0m\n",
      "\u001b[0;31mIndexError\u001b[0m: index 2 is out of bounds for axis 0 with size 2"
     ]
    },
    {
     "data": {
      "image/png": "[encoded data removed]",
      "text/plain": [
       "<Figure size 2160x360 with 2 Axes>"
      ]
     },
     "metadata": {
      "needs_background": "light"
     },
     "output_type": "display_data"
    }
   ],
   "source": [
    "# Gráficas\n",
    "\n",
    "fig, axes = plt.subplots(nrows = 1, ncols = 2, figsize = (30, 5))\n",
    "\n",
    "axes = axes.flat\n",
    "\n",
    "columnas_numericas = df.select_dtypes(include = np.number).columns\n",
    "columnas_numericas = columnas_numericas.drop('duration', 'age')\n",
    "\n",
    "for i, colum in enumerate(columnas_numericas): \n",
    "    sns.histplot(\n",
    "        data = df,\n",
    "        x = colum,\n",
    "        hue = \"claim\", \n",
    "        line_kws = {\"linewidth\": 2}, \n",
    "        alpha = 0.2, \n",
    "        palette='twilight',\n",
    "        ax = axes[i])\n",
    "    \n",
    "    \n",
    "    axes[i].set_title(colum, fontsize = 15, fontweight = \"bold\")\n",
    "    axes[i].tick_params(labelsize = 10)\n",
    "    axes[i].set_xlabel(\"\")\n",
    "    \n",
    "fig.tight_layout();"
   ]
  },
  {
   "attachments": {},
   "cell_type": "markdown",
   "metadata": {},
   "source": [
    "➡️ **_Conclusiones:_**\n",
    "\n",
    "Podemos observar que la cantidad de reclamaciones es minúsculo comparado con las no reclamaciones en base a las ganancias.\n",
    "\n"
   ]
  },
  {
   "attachments": {},
   "cell_type": "markdown",
   "metadata": {},
   "source": [
    "### 4.4. Correlación."
   ]
  },
  {
   "cell_type": "code",
   "execution_count": 50,
   "metadata": {},
   "outputs": [
    {
     "data": {
      "text/html": [
       "<div>\n",
       "<style scoped>\n",
       "    .dataframe tbody tr th:only-of-type {\n",
       "        vertical-align: middle;\n",
       "    }\n",
       "\n",
       "    .dataframe tbody tr th {\n",
       "        vertical-align: top;\n",
       "    }\n",
       "\n",
       "    .dataframe thead th {\n",
       "        text-align: right;\n",
       "    }\n",
       "</style>\n",
       "<table border=\"1\" class=\"dataframe\">\n",
       "  <thead>\n",
       "    <tr style=\"text-align: right;\">\n",
       "      <th></th>\n",
       "      <th>duration</th>\n",
       "      <th>net_sales</th>\n",
       "      <th>commision_(in_value)</th>\n",
       "      <th>age</th>\n",
       "    </tr>\n",
       "  </thead>\n",
       "  <tbody>\n",
       "    <tr>\n",
       "      <th>0</th>\n",
       "      <td>186</td>\n",
       "      <td>-29.0</td>\n",
       "      <td>9.57</td>\n",
       "      <td>81</td>\n",
       "    </tr>\n",
       "    <tr>\n",
       "      <th>1</th>\n",
       "      <td>186</td>\n",
       "      <td>-29.0</td>\n",
       "      <td>9.57</td>\n",
       "      <td>71</td>\n",
       "    </tr>\n",
       "    <tr>\n",
       "      <th>2</th>\n",
       "      <td>65</td>\n",
       "      <td>-49.5</td>\n",
       "      <td>29.70</td>\n",
       "      <td>32</td>\n",
       "    </tr>\n",
       "    <tr>\n",
       "      <th>3</th>\n",
       "      <td>60</td>\n",
       "      <td>-39.6</td>\n",
       "      <td>23.76</td>\n",
       "      <td>32</td>\n",
       "    </tr>\n",
       "    <tr>\n",
       "      <th>4</th>\n",
       "      <td>79</td>\n",
       "      <td>-19.8</td>\n",
       "      <td>11.88</td>\n",
       "      <td>41</td>\n",
       "    </tr>\n",
       "  </tbody>\n",
       "</table>\n",
       "</div>"
      ],
      "text/plain": [
       "   duration  net_sales  commision_(in_value)  age\n",
       "0       186      -29.0                  9.57   81\n",
       "1       186      -29.0                  9.57   71\n",
       "2        65      -49.5                 29.70   32\n",
       "3        60      -39.6                 23.76   32\n",
       "4        79      -19.8                 11.88   41"
      ]
     },
     "execution_count": 50,
     "metadata": {},
     "output_type": "execute_result"
    }
   ],
   "source": [
    "df_numericas = df.select_dtypes(include = np.number)\n",
    "df_numericas.head()"
   ]
  },
  {
   "cell_type": "code",
   "execution_count": 51,
   "metadata": {},
   "outputs": [
    {
     "data": {
      "text/html": [
       "<div>\n",
       "<style scoped>\n",
       "    .dataframe tbody tr th:only-of-type {\n",
       "        vertical-align: middle;\n",
       "    }\n",
       "\n",
       "    .dataframe tbody tr th {\n",
       "        vertical-align: top;\n",
       "    }\n",
       "\n",
       "    .dataframe thead th {\n",
       "        text-align: right;\n",
       "    }\n",
       "</style>\n",
       "<table border=\"1\" class=\"dataframe\">\n",
       "  <thead>\n",
       "    <tr style=\"text-align: right;\">\n",
       "      <th></th>\n",
       "      <th>duration</th>\n",
       "      <th>net_sales</th>\n",
       "      <th>commision_(in_value)</th>\n",
       "      <th>age</th>\n",
       "    </tr>\n",
       "  </thead>\n",
       "  <tbody>\n",
       "    <tr>\n",
       "      <th>duration</th>\n",
       "      <td>1.000000</td>\n",
       "      <td>0.407629</td>\n",
       "      <td>0.328179</td>\n",
       "      <td>0.007929</td>\n",
       "    </tr>\n",
       "    <tr>\n",
       "      <th>net_sales</th>\n",
       "      <td>0.407629</td>\n",
       "      <td>1.000000</td>\n",
       "      <td>0.643100</td>\n",
       "      <td>0.036790</td>\n",
       "    </tr>\n",
       "    <tr>\n",
       "      <th>commision_(in_value)</th>\n",
       "      <td>0.328179</td>\n",
       "      <td>0.643100</td>\n",
       "      <td>1.000000</td>\n",
       "      <td>0.114860</td>\n",
       "    </tr>\n",
       "    <tr>\n",
       "      <th>age</th>\n",
       "      <td>0.007929</td>\n",
       "      <td>0.036790</td>\n",
       "      <td>0.114860</td>\n",
       "      <td>1.000000</td>\n",
       "    </tr>\n",
       "  </tbody>\n",
       "</table>\n",
       "</div>"
      ],
      "text/plain": [
       "                      duration  net_sales  commision_(in_value)       age\n",
       "duration              1.000000   0.407629              0.328179  0.007929\n",
       "net_sales             0.407629   1.000000              0.643100  0.036790\n",
       "commision_(in_value)  0.328179   0.643100              1.000000  0.114860\n",
       "age                   0.007929   0.036790              0.114860  1.000000"
      ]
     },
     "execution_count": 51,
     "metadata": {},
     "output_type": "execute_result"
    }
   ],
   "source": [
    "correlacion = df_numericas.corr()\n",
    "correlacion"
   ]
  },
  {
   "cell_type": "code",
   "execution_count": 52,
   "metadata": {},
   "outputs": [
    {
     "data": {
      "image/png": "[encoded data removed]",
      "text/plain": [
       "<Figure size 1080x576 with 2 Axes>"
      ]
     },
     "metadata": {
      "needs_background": "light"
     },
     "output_type": "display_data"
    }
   ],
   "source": [
    "#Gráfico de correlación\n",
    "plt.figure(figsize=(15,8))\n",
    "mask = np.triu(np.ones_like(correlacion, dtype=bool))\n",
    "sns.heatmap(correlacion, cmap=\"icefire\", annot = True, mask = mask);"
   ]
  },
  {
   "attachments": {},
   "cell_type": "markdown",
   "metadata": {},
   "source": [
    "➡️ **_Conclusiones:_**\n",
    "\n",
    "- Todas las correlaciones son menores de 0.75 como para ser descatables. \n",
    "- Si que tienen relación las ventas con las comisiones. \n",
    "\n"
   ]
  },
  {
   "attachments": {},
   "cell_type": "markdown",
   "metadata": {},
   "source": [
    "### 4.5. Tratamiento de outliers."
   ]
  },
  {
   "cell_type": "code",
   "execution_count": 87,
   "metadata": {},
   "outputs": [
    {
     "data": {
      "image/png": "[encoded data removed]",
      "text/plain": [
       "<Figure size 1800x360 with 2 Axes>"
      ]
     },
     "metadata": {
      "needs_background": "light"
     },
     "output_type": "display_data"
    }
   ],
   "source": [
    "#Gráfica de outliers\n",
    "fig, axes = plt.subplots(1, 2, figsize=(25,5))\n",
    "\n",
    "df_numericas = df.select_dtypes(include = np.number)\n",
    "categorias = df_numericas.drop(['age', 'duration'], axis=1).columns\n",
    "\n",
    "axes = axes.flat\n",
    "\n",
    "for indice, cate in enumerate(categorias):\n",
    "\n",
    "    sns.boxplot(x = df[cate], data = df, ax=axes[indice], color='lightblue')\n",
    "    axes[indice].set_title(cate)\n",
    "    axes[indice].set_xlabel(\"\")\n",
    "\n",
    "fig.tight_layout();"
   ]
  },
  {
   "attachments": {},
   "cell_type": "markdown",
   "metadata": {},
   "source": [
    "➡️ **_Conclusiones:_**\n",
    "\n",
    "- Vemos que hay gran cantidad de outliers pero como tienen influencia directa con la variable respuesta, las reclamaciones, los mantenemos. \n",
    "\n"
   ]
  },
  {
   "attachments": {},
   "cell_type": "markdown",
   "metadata": {},
   "source": [
    "### 5. Interpretación de los resultados."
   ]
  },
  {
   "attachments": {},
   "cell_type": "markdown",
   "metadata": {},
   "source": [
    "➡️ **_Conclusiones:_**\n",
    "\n",
    "- Distribuidas y marcadas por todo el notebook\n"
   ]
  },
  {
   "attachments": {},
   "cell_type": "markdown",
   "metadata": {},
   "source": [
    "### 6. Guardad el dataframe."
   ]
  },
  {
   "cell_type": "code",
   "execution_count": 56,
   "metadata": {},
   "outputs": [],
   "source": [
    "df.to_csv('../archivos/travel_1.csv')"
   ]
  }
 ],
 "metadata": {
  "kernelspec": {
   "display_name": "base",
   "language": "python",
   "name": "python3"
  },
  "language_info": {
   "codemirror_mode": {
    "name": "ipython",
    "version": 3
   },
   "file_extension": ".py",
   "mimetype": "text/x-python",
   "name": "python",
   "nbconvert_exporter": "python",
   "pygments_lexer": "ipython3",
   "version": "3.9.7"
  },
  "orig_nbformat": 4,
  "vscode": {
   "interpreter": {
    "hash": "819a5c43c1fad9e35c5b1180124e231b422fc24c453463d400a90e0aae1b9c8c"
   }
  }
 },
 "nbformat": 4,
 "nbformat_minor": 2
}
