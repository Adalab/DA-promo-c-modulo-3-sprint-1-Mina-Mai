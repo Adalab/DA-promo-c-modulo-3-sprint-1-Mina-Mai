{
 "cells": [
  {
   "attachments": {},
   "cell_type": "markdown",
   "metadata": {},
   "source": [
    "## Pair Programming - Regresión logística 1\n",
    "\n",
    "### EDA\n",
    "\n",
    "---"
   ]
  },
  {
   "cell_type": "code",
   "execution_count": 144,
   "metadata": {},
   "outputs": [],
   "source": [
    "# Tratamiento de datos\n",
    "import numpy as np\n",
    "import pandas as pd\n",
    "import sidetable \n",
    "\n",
    "# Gráficas\n",
    "import matplotlib.pyplot as plt\n",
    "import seaborn as sns\n",
    "\n",
    "# Configuración de warnings\n",
    "import warnings\n",
    "warnings.filterwarnings(\"ignore\")"
   ]
  },
  {
   "attachments": {},
   "cell_type": "markdown",
   "metadata": {},
   "source": [
    "Para los ejercicios de pair programming de Regresión logística temdremos que buscar un dataset (al igual que hicismos en regresión lineal) que usaremosmos a lo largo de los siguientes ejercicios.\n",
    "\n",
    "Se ruega a la hora de realizar la entrega que incluyais el conjunto de datos que hayais decidido emplear para estos ejercicios."
   ]
  },
  {
   "attachments": {},
   "cell_type": "markdown",
   "metadata": {},
   "source": [
    "**Objetivos:**\n",
    "### 1. Buscar un conjunto de datos a analizar.\n",
    "Se recomienda que el conjunto de datos a analizar tenga variables numéricas y categóricas, primando que haya más de una variable de tipo numérico."
   ]
  },
  {
   "cell_type": "code",
   "execution_count": 145,
   "metadata": {},
   "outputs": [
    {
     "data": {
      "text/html": [
       "<div>\n",
       "<style scoped>\n",
       "    .dataframe tbody tr th:only-of-type {\n",
       "        vertical-align: middle;\n",
       "    }\n",
       "\n",
       "    .dataframe tbody tr th {\n",
       "        vertical-align: top;\n",
       "    }\n",
       "\n",
       "    .dataframe thead th {\n",
       "        text-align: right;\n",
       "    }\n",
       "</style>\n",
       "<table border=\"1\" class=\"dataframe\">\n",
       "  <thead>\n",
       "    <tr style=\"text-align: right;\">\n",
       "      <th></th>\n",
       "      <th>Agency Type</th>\n",
       "      <th>Distribution Channel</th>\n",
       "      <th>Product Name</th>\n",
       "      <th>Claim</th>\n",
       "      <th>Duration</th>\n",
       "      <th>Destination</th>\n",
       "      <th>Net Sales</th>\n",
       "      <th>Commision (in value)</th>\n",
       "      <th>Gender</th>\n",
       "      <th>Age</th>\n",
       "    </tr>\n",
       "    <tr>\n",
       "      <th>Agency</th>\n",
       "      <th></th>\n",
       "      <th></th>\n",
       "      <th></th>\n",
       "      <th></th>\n",
       "      <th></th>\n",
       "      <th></th>\n",
       "      <th></th>\n",
       "      <th></th>\n",
       "      <th></th>\n",
       "      <th></th>\n",
       "    </tr>\n",
       "  </thead>\n",
       "  <tbody>\n",
       "    <tr>\n",
       "      <th>CBH</th>\n",
       "      <td>Travel Agency</td>\n",
       "      <td>Offline</td>\n",
       "      <td>Comprehensive Plan</td>\n",
       "      <td>No</td>\n",
       "      <td>186</td>\n",
       "      <td>MALAYSIA</td>\n",
       "      <td>-29.0</td>\n",
       "      <td>9.57</td>\n",
       "      <td>F</td>\n",
       "      <td>81</td>\n",
       "    </tr>\n",
       "    <tr>\n",
       "      <th>CBH</th>\n",
       "      <td>Travel Agency</td>\n",
       "      <td>Offline</td>\n",
       "      <td>Comprehensive Plan</td>\n",
       "      <td>No</td>\n",
       "      <td>186</td>\n",
       "      <td>MALAYSIA</td>\n",
       "      <td>-29.0</td>\n",
       "      <td>9.57</td>\n",
       "      <td>F</td>\n",
       "      <td>71</td>\n",
       "    </tr>\n",
       "    <tr>\n",
       "      <th>CWT</th>\n",
       "      <td>Travel Agency</td>\n",
       "      <td>Online</td>\n",
       "      <td>Rental Vehicle Excess Insurance</td>\n",
       "      <td>No</td>\n",
       "      <td>65</td>\n",
       "      <td>AUSTRALIA</td>\n",
       "      <td>-49.5</td>\n",
       "      <td>29.70</td>\n",
       "      <td>NaN</td>\n",
       "      <td>32</td>\n",
       "    </tr>\n",
       "    <tr>\n",
       "      <th>CWT</th>\n",
       "      <td>Travel Agency</td>\n",
       "      <td>Online</td>\n",
       "      <td>Rental Vehicle Excess Insurance</td>\n",
       "      <td>No</td>\n",
       "      <td>60</td>\n",
       "      <td>AUSTRALIA</td>\n",
       "      <td>-39.6</td>\n",
       "      <td>23.76</td>\n",
       "      <td>NaN</td>\n",
       "      <td>32</td>\n",
       "    </tr>\n",
       "    <tr>\n",
       "      <th>CWT</th>\n",
       "      <td>Travel Agency</td>\n",
       "      <td>Online</td>\n",
       "      <td>Rental Vehicle Excess Insurance</td>\n",
       "      <td>No</td>\n",
       "      <td>79</td>\n",
       "      <td>ITALY</td>\n",
       "      <td>-19.8</td>\n",
       "      <td>11.88</td>\n",
       "      <td>NaN</td>\n",
       "      <td>41</td>\n",
       "    </tr>\n",
       "  </tbody>\n",
       "</table>\n",
       "</div>"
      ],
      "text/plain": [
       "          Agency Type Distribution Channel                     Product Name  \\\n",
       "Agency                                                                        \n",
       "CBH     Travel Agency              Offline               Comprehensive Plan   \n",
       "CBH     Travel Agency              Offline               Comprehensive Plan   \n",
       "CWT     Travel Agency               Online  Rental Vehicle Excess Insurance   \n",
       "CWT     Travel Agency               Online  Rental Vehicle Excess Insurance   \n",
       "CWT     Travel Agency               Online  Rental Vehicle Excess Insurance   \n",
       "\n",
       "       Claim  Duration Destination  Net Sales  Commision (in value) Gender  \\\n",
       "Agency                                                                       \n",
       "CBH       No       186    MALAYSIA      -29.0                  9.57      F   \n",
       "CBH       No       186    MALAYSIA      -29.0                  9.57      F   \n",
       "CWT       No        65   AUSTRALIA      -49.5                 29.70    NaN   \n",
       "CWT       No        60   AUSTRALIA      -39.6                 23.76    NaN   \n",
       "CWT       No        79       ITALY      -19.8                 11.88    NaN   \n",
       "\n",
       "        Age  \n",
       "Agency       \n",
       "CBH      81  \n",
       "CBH      71  \n",
       "CWT      32  \n",
       "CWT      32  \n",
       "CWT      41  "
      ]
     },
     "execution_count": 145,
     "metadata": {},
     "output_type": "execute_result"
    }
   ],
   "source": [
    "df = pd.read_csv('../archivos/travel_insurance.csv', index_col=0)\n",
    "df.head()"
   ]
  },
  {
   "attachments": {},
   "cell_type": "markdown",
   "metadata": {},
   "source": [
    "### 2. Explicar los datos y las variables disponibles en el conjunto de datos seleccionado."
   ]
  },
  {
   "attachments": {},
   "cell_type": "markdown",
   "metadata": {},
   "source": [
    "A third-party travel insurance servicing company that is based in Singapore.\n",
    "\n",
    "The attributes:\n",
    "\n",
    "- Target: Claim Status (Claim.Status)\n",
    "\n",
    "- Name of agency (Agency)\n",
    "\n",
    "- Type of travel insurance agencies (Agency.Type)\n",
    "\n",
    "- Distribution channel of travel insurance agencies (Distribution.Channel)\n",
    "\n",
    "- Name of the travel insurance products (Product.Name)\n",
    "\n",
    "- Duration of travel (Duration)\n",
    "\n",
    "- Destination of travel (Destination)\n",
    "\n",
    "- Amount of sales of travel insurance policies (Net.Sales)\n",
    "\n",
    "- Commission received for travel insurance agency (Commission)\n",
    "\n",
    "- Gender of insured (Gender)\n",
    "\n",
    "- Age of insured (Age)"
   ]
  },
  {
   "attachments": {},
   "cell_type": "markdown",
   "metadata": {},
   "source": [
    "### 3. Realizar un EDA sencillo."
   ]
  },
  {
   "cell_type": "code",
   "execution_count": 146,
   "metadata": {},
   "outputs": [
    {
     "data": {
      "text/plain": [
       "(63326, 10)"
      ]
     },
     "execution_count": 146,
     "metadata": {},
     "output_type": "execute_result"
    }
   ],
   "source": [
    "#Tamaño\n",
    "df.shape"
   ]
  },
  {
   "cell_type": "code",
   "execution_count": 147,
   "metadata": {},
   "outputs": [
    {
     "data": {
      "text/plain": [
       "Index(['Agency Type', 'Distribution Channel', 'Product Name', 'Claim',\n",
       "       'Duration', 'Destination', 'Net Sales', 'Commision (in value)',\n",
       "       'Gender', 'Age'],\n",
       "      dtype='object')"
      ]
     },
     "execution_count": 147,
     "metadata": {},
     "output_type": "execute_result"
    }
   ],
   "source": [
    "#Nombre de las columnas\n",
    "df.columns"
   ]
  },
  {
   "cell_type": "code",
   "execution_count": 148,
   "metadata": {},
   "outputs": [],
   "source": [
    "#Adaptamos el nombre de las columnas\n",
    "df.columns = df.columns.str.replace(' ', '_').str.lower()"
   ]
  },
  {
   "cell_type": "code",
   "execution_count": 149,
   "metadata": {},
   "outputs": [
    {
     "data": {
      "text/plain": [
       "Index(['agency_type', 'distribution_channel', 'product_name', 'claim',\n",
       "       'duration', 'destination', 'net_sales', 'commision_(in_value)',\n",
       "       'gender', 'age'],\n",
       "      dtype='object')"
      ]
     },
     "execution_count": 149,
     "metadata": {},
     "output_type": "execute_result"
    }
   ],
   "source": [
    "df.columns"
   ]
  },
  {
   "cell_type": "code",
   "execution_count": 150,
   "metadata": {},
   "outputs": [
    {
     "name": "stdout",
     "output_type": "stream",
     "text": [
      "<class 'pandas.core.frame.DataFrame'>\n",
      "Index: 63326 entries, CBH to JZI\n",
      "Data columns (total 10 columns):\n",
      " #   Column                Non-Null Count  Dtype  \n",
      "---  ------                --------------  -----  \n",
      " 0   agency_type           63326 non-null  object \n",
      " 1   distribution_channel  63326 non-null  object \n",
      " 2   product_name          63326 non-null  object \n",
      " 3   claim                 63326 non-null  object \n",
      " 4   duration              63326 non-null  int64  \n",
      " 5   destination           63326 non-null  object \n",
      " 6   net_sales             63326 non-null  float64\n",
      " 7   commision_(in_value)  63326 non-null  float64\n",
      " 8   gender                18219 non-null  object \n",
      " 9   age                   63326 non-null  int64  \n",
      "dtypes: float64(2), int64(2), object(6)\n",
      "memory usage: 5.3+ MB\n"
     ]
    }
   ],
   "source": [
    "#Información básica\n",
    "df.info()"
   ]
  },
  {
   "cell_type": "code",
   "execution_count": 151,
   "metadata": {},
   "outputs": [
    {
     "data": {
      "text/html": [
       "<div>\n",
       "<style scoped>\n",
       "    .dataframe tbody tr th:only-of-type {\n",
       "        vertical-align: middle;\n",
       "    }\n",
       "\n",
       "    .dataframe tbody tr th {\n",
       "        vertical-align: top;\n",
       "    }\n",
       "\n",
       "    .dataframe thead th {\n",
       "        text-align: right;\n",
       "    }\n",
       "</style>\n",
       "<table border=\"1\" class=\"dataframe\">\n",
       "  <thead>\n",
       "    <tr style=\"text-align: right;\">\n",
       "      <th></th>\n",
       "      <th>count</th>\n",
       "      <th>mean</th>\n",
       "      <th>std</th>\n",
       "      <th>min</th>\n",
       "      <th>25%</th>\n",
       "      <th>50%</th>\n",
       "      <th>75%</th>\n",
       "      <th>max</th>\n",
       "    </tr>\n",
       "  </thead>\n",
       "  <tbody>\n",
       "    <tr>\n",
       "      <th>duration</th>\n",
       "      <td>63326.0</td>\n",
       "      <td>49.317074</td>\n",
       "      <td>101.791566</td>\n",
       "      <td>-2.0</td>\n",
       "      <td>9.0</td>\n",
       "      <td>22.00</td>\n",
       "      <td>53.00</td>\n",
       "      <td>4881.0</td>\n",
       "    </tr>\n",
       "    <tr>\n",
       "      <th>net_sales</th>\n",
       "      <td>63326.0</td>\n",
       "      <td>40.702018</td>\n",
       "      <td>48.845637</td>\n",
       "      <td>-389.0</td>\n",
       "      <td>18.0</td>\n",
       "      <td>26.53</td>\n",
       "      <td>48.00</td>\n",
       "      <td>810.0</td>\n",
       "    </tr>\n",
       "    <tr>\n",
       "      <th>commision_(in_value)</th>\n",
       "      <td>63326.0</td>\n",
       "      <td>9.809992</td>\n",
       "      <td>19.804388</td>\n",
       "      <td>0.0</td>\n",
       "      <td>0.0</td>\n",
       "      <td>0.00</td>\n",
       "      <td>11.55</td>\n",
       "      <td>283.5</td>\n",
       "    </tr>\n",
       "    <tr>\n",
       "      <th>age</th>\n",
       "      <td>63326.0</td>\n",
       "      <td>39.969981</td>\n",
       "      <td>14.017010</td>\n",
       "      <td>0.0</td>\n",
       "      <td>35.0</td>\n",
       "      <td>36.00</td>\n",
       "      <td>43.00</td>\n",
       "      <td>118.0</td>\n",
       "    </tr>\n",
       "  </tbody>\n",
       "</table>\n",
       "</div>"
      ],
      "text/plain": [
       "                        count       mean         std    min   25%    50%  \\\n",
       "duration              63326.0  49.317074  101.791566   -2.0   9.0  22.00   \n",
       "net_sales             63326.0  40.702018   48.845637 -389.0  18.0  26.53   \n",
       "commision_(in_value)  63326.0   9.809992   19.804388    0.0   0.0   0.00   \n",
       "age                   63326.0  39.969981   14.017010    0.0  35.0  36.00   \n",
       "\n",
       "                        75%     max  \n",
       "duration              53.00  4881.0  \n",
       "net_sales             48.00   810.0  \n",
       "commision_(in_value)  11.55   283.5  \n",
       "age                   43.00   118.0  "
      ]
     },
     "execution_count": 151,
     "metadata": {},
     "output_type": "execute_result"
    }
   ],
   "source": [
    "#Principales estadísticos de las variables numéricas\n",
    "df.describe().T"
   ]
  },
  {
   "attachments": {},
   "cell_type": "markdown",
   "metadata": {},
   "source": [
    "📍 duration, net_sales y age --> cheaquear posibles outliers"
   ]
  },
  {
   "cell_type": "code",
   "execution_count": 152,
   "metadata": {},
   "outputs": [
    {
     "data": {
      "text/html": [
       "<div>\n",
       "<style scoped>\n",
       "    .dataframe tbody tr th:only-of-type {\n",
       "        vertical-align: middle;\n",
       "    }\n",
       "\n",
       "    .dataframe tbody tr th {\n",
       "        vertical-align: top;\n",
       "    }\n",
       "\n",
       "    .dataframe thead th {\n",
       "        text-align: right;\n",
       "    }\n",
       "</style>\n",
       "<table border=\"1\" class=\"dataframe\">\n",
       "  <thead>\n",
       "    <tr style=\"text-align: right;\">\n",
       "      <th></th>\n",
       "      <th>count</th>\n",
       "      <th>unique</th>\n",
       "      <th>top</th>\n",
       "      <th>freq</th>\n",
       "    </tr>\n",
       "  </thead>\n",
       "  <tbody>\n",
       "    <tr>\n",
       "      <th>agency_type</th>\n",
       "      <td>63326</td>\n",
       "      <td>2</td>\n",
       "      <td>Travel Agency</td>\n",
       "      <td>45869</td>\n",
       "    </tr>\n",
       "    <tr>\n",
       "      <th>distribution_channel</th>\n",
       "      <td>63326</td>\n",
       "      <td>2</td>\n",
       "      <td>Online</td>\n",
       "      <td>62219</td>\n",
       "    </tr>\n",
       "    <tr>\n",
       "      <th>product_name</th>\n",
       "      <td>63326</td>\n",
       "      <td>26</td>\n",
       "      <td>Cancellation Plan</td>\n",
       "      <td>18630</td>\n",
       "    </tr>\n",
       "    <tr>\n",
       "      <th>claim</th>\n",
       "      <td>63326</td>\n",
       "      <td>2</td>\n",
       "      <td>No</td>\n",
       "      <td>62399</td>\n",
       "    </tr>\n",
       "    <tr>\n",
       "      <th>destination</th>\n",
       "      <td>63326</td>\n",
       "      <td>149</td>\n",
       "      <td>SINGAPORE</td>\n",
       "      <td>13255</td>\n",
       "    </tr>\n",
       "    <tr>\n",
       "      <th>gender</th>\n",
       "      <td>18219</td>\n",
       "      <td>2</td>\n",
       "      <td>M</td>\n",
       "      <td>9347</td>\n",
       "    </tr>\n",
       "  </tbody>\n",
       "</table>\n",
       "</div>"
      ],
      "text/plain": [
       "                      count unique                top   freq\n",
       "agency_type           63326      2      Travel Agency  45869\n",
       "distribution_channel  63326      2             Online  62219\n",
       "product_name          63326     26  Cancellation Plan  18630\n",
       "claim                 63326      2                 No  62399\n",
       "destination           63326    149          SINGAPORE  13255\n",
       "gender                18219      2                  M   9347"
      ]
     },
     "execution_count": 152,
     "metadata": {},
     "output_type": "execute_result"
    }
   ],
   "source": [
    "#Principales estadísticos de las variables categóricas\n",
    "df.describe(include='object').T"
   ]
  },
  {
   "attachments": {},
   "cell_type": "markdown",
   "metadata": {},
   "source": [
    "📍 product_name y destination --> reagrupar en menos categorías"
   ]
  },
  {
   "cell_type": "code",
   "execution_count": 153,
   "metadata": {},
   "outputs": [
    {
     "data": {
      "text/plain": [
       "Cancellation Plan                       18630\n",
       "2 way Comprehensive Plan                13158\n",
       "Rental Vehicle Excess Insurance          8580\n",
       "Basic Plan                               5469\n",
       "Bronze Plan                              4049\n",
       "1 way Comprehensive Plan                 3331\n",
       "Value Plan                               2715\n",
       "Silver Plan                              2249\n",
       "Annual Silver Plan                       1423\n",
       "Ticket Protector                         1056\n",
       "Travel Cruise Protect                     527\n",
       "Comprehensive Plan                        364\n",
       "Gold Plan                                 352\n",
       "24 Protect                                247\n",
       "Single Trip Travel Protect Gold           204\n",
       "Annual Gold Plan                          194\n",
       "Premier Plan                              194\n",
       "Single Trip Travel Protect Silver         173\n",
       "Annual Travel Protect Gold                100\n",
       "Annual Travel Protect Silver               86\n",
       "Individual Comprehensive Plan              74\n",
       "Single Trip Travel Protect Platinum        73\n",
       "Annual Travel Protect Platinum             53\n",
       "Spouse or Parents Comprehensive Plan       15\n",
       "Child Comprehensive Plan                    9\n",
       "Travel Cruise Protect Family                1\n",
       "Name: product_name, dtype: int64"
      ]
     },
     "execution_count": 153,
     "metadata": {},
     "output_type": "execute_result"
    }
   ],
   "source": [
    "#Recategorizamos product_name\n",
    "df.product_name.value_counts()"
   ]
  },
  {
   "cell_type": "code",
   "execution_count": 154,
   "metadata": {},
   "outputs": [],
   "source": [
    "df_lista= pd.DataFrame(df['product_name'].value_counts()).reset_index()\n"
   ]
  },
  {
   "cell_type": "code",
   "execution_count": 155,
   "metadata": {},
   "outputs": [],
   "source": [
    "lista_seguros = df_lista['index'].tolist()"
   ]
  },
  {
   "cell_type": "code",
   "execution_count": 156,
   "metadata": {},
   "outputs": [
    {
     "data": {
      "text/plain": [
       "['Cancellation Plan',\n",
       " '2 way Comprehensive Plan',\n",
       " 'Rental Vehicle Excess Insurance',\n",
       " 'Basic Plan',\n",
       " 'Bronze Plan',\n",
       " '1 way Comprehensive Plan',\n",
       " 'Value Plan',\n",
       " 'Silver Plan',\n",
       " 'Annual Silver Plan',\n",
       " 'Ticket Protector',\n",
       " 'Travel Cruise Protect',\n",
       " 'Comprehensive Plan',\n",
       " 'Gold Plan',\n",
       " '24 Protect',\n",
       " 'Single Trip Travel Protect Gold',\n",
       " 'Annual Gold Plan',\n",
       " 'Premier Plan',\n",
       " 'Single Trip Travel Protect Silver',\n",
       " 'Annual Travel Protect Gold',\n",
       " 'Annual Travel Protect Silver',\n",
       " 'Individual Comprehensive Plan',\n",
       " 'Single Trip Travel Protect Platinum',\n",
       " 'Annual Travel Protect Platinum',\n",
       " 'Spouse or Parents Comprehensive Plan',\n",
       " 'Child Comprehensive Plan',\n",
       " 'Travel Cruise Protect Family']"
      ]
     },
     "execution_count": 156,
     "metadata": {},
     "output_type": "execute_result"
    }
   ],
   "source": [
    "lista_seguros"
   ]
  },
  {
   "cell_type": "code",
   "execution_count": 157,
   "metadata": {},
   "outputs": [],
   "source": [
    "mapa_seguros = {'Cancellation Plan' : 'Cancellation Plan' ,\n",
    " '2 way Comprehensive Plan':'2 way Comprehensive Plan' ,\n",
    " 'Rental Vehicle Excess Insurance': 'Rental Vehicle Excess Insurance',\n",
    " 'Basic Plan':'Basic Plan' ,\n",
    " 'Bronze Plan':'Bronze Plan',\n",
    " '1 way Comprehensive Plan': '1 way Comprehensive Plan',\n",
    " 'Value Plan': 'Value Plan',\n",
    " 'Silver Plan':'Silver Plan',\n",
    " 'Annual Silver Plan':'Annual Silver Plan',\n",
    " 'Ticket Protector': 'Ticket Protector',\n",
    " 'Travel Cruise Protect': 'Travel Cruise Protect' ,\n",
    " 'Comprehensive Plan':'Comprehensive Plan',\n",
    " 'Gold Plan':'Gold Plan',\n",
    " '24 Protect': 'Others insurances',\n",
    " 'Single Trip Travel Protect Gold':'Others insurances',\n",
    " 'Annual Gold Plan':'Others insurances',\n",
    " 'Premier Plan' :'Others insurances',\n",
    " 'Single Trip Travel Protect Silver' : 'Others insurances',\n",
    " 'Annual Travel Protect Gold' : 'Others insurances',\n",
    " 'Annual Travel Protect Silver': 'Others insurances',\n",
    " 'Individual Comprehensive Plan': 'Others insurances',\n",
    " 'Single Trip Travel Protect Platinum': 'Others insurances',\n",
    " 'Annual Travel Protect Platinum': 'Others insurances',\n",
    " 'Spouse or Parents Comprehensive Plan': 'Others insurances',\n",
    " 'Child Comprehensive Plan': 'Others insurances',\n",
    " 'Travel Cruise Protect Family': 'Others insurances'}"
   ]
  },
  {
   "cell_type": "code",
   "execution_count": 158,
   "metadata": {},
   "outputs": [],
   "source": [
    "df['product_name'] = df['product_name'].map(mapa_seguros)"
   ]
  },
  {
   "cell_type": "code",
   "execution_count": 159,
   "metadata": {},
   "outputs": [
    {
     "data": {
      "text/plain": [
       "Cancellation Plan                  18630\n",
       "2 way Comprehensive Plan           13158\n",
       "Rental Vehicle Excess Insurance     8580\n",
       "Basic Plan                          5469\n",
       "Bronze Plan                         4049\n",
       "1 way Comprehensive Plan            3331\n",
       "Value Plan                          2715\n",
       "Silver Plan                         2249\n",
       "Others insurances                   1423\n",
       "Annual Silver Plan                  1423\n",
       "Ticket Protector                    1056\n",
       "Travel Cruise Protect                527\n",
       "Comprehensive Plan                   364\n",
       "Gold Plan                            352\n",
       "Name: product_name, dtype: int64"
      ]
     },
     "execution_count": 159,
     "metadata": {},
     "output_type": "execute_result"
    }
   ],
   "source": [
    "df['product_name'].value_counts()"
   ]
  },
  {
   "cell_type": "code",
   "execution_count": 160,
   "metadata": {},
   "outputs": [],
   "source": [
    "#Recategorizar destination\n",
    "\n",
    "\n"
   ]
  },
  {
   "cell_type": "code",
   "execution_count": 161,
   "metadata": {},
   "outputs": [
    {
     "data": {
      "text/plain": [
       "agency_type              0.000000\n",
       "distribution_channel     0.000000\n",
       "product_name             0.000000\n",
       "claim                    0.000000\n",
       "duration                 0.000000\n",
       "destination              0.000000\n",
       "net_sales                0.000000\n",
       "commision_(in_value)     0.000000\n",
       "gender                  71.229827\n",
       "age                      0.000000\n",
       "dtype: float64"
      ]
     },
     "execution_count": 161,
     "metadata": {},
     "output_type": "execute_result"
    }
   ],
   "source": [
    "#Porcenaje valores nulos\n",
    "df.isnull().sum()*100/df.shape[0]"
   ]
  },
  {
   "cell_type": "code",
   "execution_count": 162,
   "metadata": {},
   "outputs": [
    {
     "data": {
      "text/plain": [
       "M    9347\n",
       "F    8872\n",
       "Name: gender, dtype: int64"
      ]
     },
     "execution_count": 162,
     "metadata": {},
     "output_type": "execute_result"
    }
   ],
   "source": [
    "df.gender.value_counts() "
   ]
  },
  {
   "attachments": {},
   "cell_type": "markdown",
   "metadata": {},
   "source": [
    "📍 Reemplazamos los valores nulos de gender por una tercera categoría, 'prefer not say'/ 'PNS'"
   ]
  },
  {
   "cell_type": "code",
   "execution_count": 163,
   "metadata": {},
   "outputs": [],
   "source": [
    "df.gender.fillna('PNS', inplace=True)"
   ]
  },
  {
   "cell_type": "code",
   "execution_count": 164,
   "metadata": {},
   "outputs": [
    {
     "data": {
      "text/plain": [
       "PNS    45107\n",
       "M       9347\n",
       "F       8872\n",
       "Name: gender, dtype: int64"
      ]
     },
     "execution_count": 164,
     "metadata": {},
     "output_type": "execute_result"
    }
   ],
   "source": [
    "df.gender.value_counts()"
   ]
  },
  {
   "cell_type": "code",
   "execution_count": 165,
   "metadata": {},
   "outputs": [
    {
     "data": {
      "text/plain": [
       "8044"
      ]
     },
     "execution_count": 165,
     "metadata": {},
     "output_type": "execute_result"
    }
   ],
   "source": [
    "#Valores duplicados\n",
    "df.duplicated().sum()"
   ]
  },
  {
   "cell_type": "code",
   "execution_count": 166,
   "metadata": {},
   "outputs": [],
   "source": [
    "#Borramos las filas duplicadas\n",
    "df.drop_duplicates(inplace=True)"
   ]
  },
  {
   "cell_type": "code",
   "execution_count": 167,
   "metadata": {},
   "outputs": [
    {
     "data": {
      "text/plain": [
       "agency_type              object\n",
       "distribution_channel     object\n",
       "product_name             object\n",
       "claim                    object\n",
       "duration                  int64\n",
       "destination              object\n",
       "net_sales               float64\n",
       "commision_(in_value)    float64\n",
       "gender                   object\n",
       "age                       int64\n",
       "dtype: object"
      ]
     },
     "execution_count": 167,
     "metadata": {},
     "output_type": "execute_result"
    }
   ],
   "source": [
    "#Tipo de los datos que tenemos\n",
    "df.dtypes"
   ]
  },
  {
   "attachments": {},
   "cell_type": "markdown",
   "metadata": {},
   "source": [
    "### 4. Análisis exploratorio visual."
   ]
  },
  {
   "cell_type": "code",
   "execution_count": 168,
   "metadata": {},
   "outputs": [
    {
     "data": {
      "text/plain": [
       "array(['No', 'Yes'], dtype=object)"
      ]
     },
     "execution_count": 168,
     "metadata": {},
     "output_type": "execute_result"
    }
   ],
   "source": [
    "#Variable respuesta\n",
    "df.claim.unique()"
   ]
  },
  {
   "cell_type": "code",
   "execution_count": 169,
   "metadata": {},
   "outputs": [
    {
     "data": {
      "text/plain": [
       "No     54361\n",
       "Yes      921\n",
       "Name: claim, dtype: int64"
      ]
     },
     "execution_count": 169,
     "metadata": {},
     "output_type": "execute_result"
    }
   ],
   "source": [
    "df.claim.value_counts()"
   ]
  },
  {
   "attachments": {},
   "cell_type": "markdown",
   "metadata": {},
   "source": [
    "### 4.1. Distribución de la variable respuesta"
   ]
  },
  {
   "cell_type": "code",
   "execution_count": 180,
   "metadata": {},
   "outputs": [
    {
     "data": {
      "image/png": "[encoded data removed]",
      "text/plain": [
       "<Figure size 576x360 with 1 Axes>"
      ]
     },
     "metadata": {
      "needs_background": "light"
     },
     "output_type": "display_data"
    }
   ],
   "source": [
    "#Gráfica de distribución de la variable respuesta\n",
    "plt.figure(figsize=(8,5))\n",
    "\n",
    "fig1 = sns.countplot(data = df, x = \"claim\",  color = \"pink\",  edgecolor='purple')\n",
    "fig1.set(xticklabels=[\"No\", \"Yes\"]) \n",
    "plt.show();"
   ]
  },
  {
   "cell_type": "code",
   "execution_count": 171,
   "metadata": {},
   "outputs": [
    {
     "data": {
      "text/plain": [
       "No     0.98334\n",
       "Yes    0.01666\n",
       "Name: claim, dtype: float64"
      ]
     },
     "execution_count": 171,
     "metadata": {},
     "output_type": "execute_result"
    }
   ],
   "source": [
    "#Porcentajes variable respuesta\n",
    "df[\"claim\"].value_counts() / df.shape[0]"
   ]
  },
  {
   "attachments": {},
   "cell_type": "markdown",
   "metadata": {},
   "source": [
    "### 4.2. Distribución de las variables categóricas."
   ]
  },
  {
   "cell_type": "code",
   "execution_count": 172,
   "metadata": {},
   "outputs": [],
   "source": [
    "#Gráficas de distribución de las variables categóricas"
   ]
  },
  {
   "attachments": {},
   "cell_type": "markdown",
   "metadata": {},
   "source": [
    "### 4.3. Distribución de las variables numéricas."
   ]
  },
  {
   "cell_type": "code",
   "execution_count": 173,
   "metadata": {},
   "outputs": [],
   "source": [
    "#Gráficas de distribuciuón de las variables numéricas"
   ]
  },
  {
   "attachments": {},
   "cell_type": "markdown",
   "metadata": {},
   "source": [
    "### 4.4. Correlación."
   ]
  },
  {
   "cell_type": "code",
   "execution_count": 174,
   "metadata": {},
   "outputs": [],
   "source": [
    "#Gráfico de correlación"
   ]
  },
  {
   "cell_type": "code",
   "execution_count": null,
   "metadata": {},
   "outputs": [],
   "source": []
  },
  {
   "attachments": {},
   "cell_type": "markdown",
   "metadata": {},
   "source": [
    "### 4.5. Tratamiento de outliers."
   ]
  },
  {
   "cell_type": "code",
   "execution_count": 181,
   "metadata": {},
   "outputs": [
    {
     "data": {
      "image/png": "[encoded data removed]",
      "text/plain": [
       "<Figure size 2160x720 with 4 Axes>"
      ]
     },
     "metadata": {
      "needs_background": "light"
     },
     "output_type": "display_data"
    }
   ],
   "source": [
    "#Gráfica de outliers\n",
    "fig, axes = plt.subplots(2, 2, figsize=(30,10))\n",
    "\n",
    "df_numericas = df.select_dtypes(include = np.number)\n",
    "categorias = df_numericas.columns\n",
    "\n",
    "axes = axes.flat\n",
    "\n",
    "for indice, cate in enumerate(categorias):\n",
    "\n",
    "    sns.boxplot(x = df[cate], data = df, ax=axes[indice], color = \"pink\");\n",
    "    axes[indice].set_title(cate)\n",
    "    axes[indice].set_xlabel(\"\")\n",
    "\n",
    "fig.tight_layout();"
   ]
  },
  {
   "attachments": {},
   "cell_type": "markdown",
   "metadata": {},
   "source": [
    "---> Recategorizar la columna duration:\n",
    "\n",
    "=< 15\n",
    "\n",
    "< 100\n",
    "\n",
    "100 a 1000\n",
    "\n",
    "más de 1000\n"
   ]
  },
  {
   "cell_type": "code",
   "execution_count": null,
   "metadata": {},
   "outputs": [],
   "source": []
  },
  {
   "cell_type": "code",
   "execution_count": null,
   "metadata": {},
   "outputs": [],
   "source": []
  },
  {
   "cell_type": "code",
   "execution_count": null,
   "metadata": {},
   "outputs": [],
   "source": []
  },
  {
   "cell_type": "code",
   "execution_count": null,
   "metadata": {},
   "outputs": [],
   "source": []
  },
  {
   "attachments": {},
   "cell_type": "markdown",
   "metadata": {},
   "source": [
    "### 5. Interpretación de los resultados."
   ]
  },
  {
   "cell_type": "markdown",
   "metadata": {},
   "source": []
  },
  {
   "attachments": {},
   "cell_type": "markdown",
   "metadata": {},
   "source": [
    "### 6. Guardad el dataframe."
   ]
  },
  {
   "cell_type": "code",
   "execution_count": 176,
   "metadata": {},
   "outputs": [],
   "source": [
    "df.to_csv('../archivos/travel_1.csv')"
   ]
  }
 ],
 "metadata": {
  "kernelspec": {
   "display_name": "base",
   "language": "python",
   "name": "python3"
  },
  "language_info": {
   "codemirror_mode": {
    "name": "ipython",
    "version": 3
   },
   "file_extension": ".py",
   "mimetype": "text/x-python",
   "name": "python",
   "nbconvert_exporter": "python",
   "pygments_lexer": "ipython3",
   "version": "3.9.7"
  },
  "orig_nbformat": 4,
  "vscode": {
   "interpreter": {
    "hash": "819a5c43c1fad9e35c5b1180124e231b422fc24c453463d400a90e0aae1b9c8c"
   }
  }
 },
 "nbformat": 4,
 "nbformat_minor": 2
}
