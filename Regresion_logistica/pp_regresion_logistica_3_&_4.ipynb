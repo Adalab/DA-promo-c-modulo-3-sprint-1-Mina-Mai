{
 "cells": [
  {
   "attachments": {},
   "cell_type": "markdown",
   "metadata": {},
   "source": [
    "## Pair Programming - Regresión logística 3 y 4\n",
    "\n",
    "### Ajuste y Métricas\n",
    "\n",
    "---"
   ]
  },
  {
   "cell_type": "code",
   "execution_count": 47,
   "metadata": {},
   "outputs": [],
   "source": [
    "# Tratamiento de los datos\n",
    "import pandas as pd\n",
    "import numpy as np\n",
    "\n",
    "# Gráficas\n",
    "import matplotlib.pyplot as plt\n",
    "import seaborn as sns\n",
    "\n",
    "# Testing\n",
    "from sklearn.model_selection import train_test_split\n",
    "\n",
    "#  Modelado, matriz de confusión y métricas\n",
    "from sklearn.model_selection import train_test_split\n",
    "from sklearn.linear_model import LogisticRegression\n",
    "from sklearn.metrics import confusion_matrix, accuracy_score, precision_score, recall_score, f1_score , cohen_kappa_score, roc_curve,roc_auc_score\n",
    "\n",
    "# Configuración warnings\n",
    "import warnings\n",
    "warnings.filterwarnings('ignore')\n"
   ]
  },
  {
   "cell_type": "code",
   "execution_count": 48,
   "metadata": {},
   "outputs": [
    {
     "data": {
      "text/html": [
       "<div>\n",
       "<style scoped>\n",
       "    .dataframe tbody tr th:only-of-type {\n",
       "        vertical-align: middle;\n",
       "    }\n",
       "\n",
       "    .dataframe tbody tr th {\n",
       "        vertical-align: top;\n",
       "    }\n",
       "\n",
       "    .dataframe thead th {\n",
       "        text-align: right;\n",
       "    }\n",
       "</style>\n",
       "<table border=\"1\" class=\"dataframe\">\n",
       "  <thead>\n",
       "    <tr style=\"text-align: right;\">\n",
       "      <th></th>\n",
       "      <th>product_name</th>\n",
       "      <th>net_sales</th>\n",
       "      <th>commision_(in_value)</th>\n",
       "      <th>continent</th>\n",
       "      <th>cat_age</th>\n",
       "      <th>cat_duration</th>\n",
       "      <th>net_sales_stand</th>\n",
       "      <th>commision_(in_value)_stand</th>\n",
       "      <th>agency_ADM</th>\n",
       "      <th>agency_ART</th>\n",
       "      <th>...</th>\n",
       "      <th>agency_TST</th>\n",
       "      <th>agency_TTW</th>\n",
       "      <th>agency_type_Airlines</th>\n",
       "      <th>agency_type_Travel Agency</th>\n",
       "      <th>distribution_channel_Offline</th>\n",
       "      <th>distribution_channel_Online</th>\n",
       "      <th>gender_F</th>\n",
       "      <th>gender_M</th>\n",
       "      <th>gender_PNS</th>\n",
       "      <th>claim</th>\n",
       "    </tr>\n",
       "  </thead>\n",
       "  <tbody>\n",
       "    <tr>\n",
       "      <th>0</th>\n",
       "      <td>14</td>\n",
       "      <td>21.0</td>\n",
       "      <td>0.0</td>\n",
       "      <td>6</td>\n",
       "      <td>6</td>\n",
       "      <td>5</td>\n",
       "      <td>-0.431903</td>\n",
       "      <td>-0.516562</td>\n",
       "      <td>0</td>\n",
       "      <td>0</td>\n",
       "      <td>...</td>\n",
       "      <td>0</td>\n",
       "      <td>0</td>\n",
       "      <td>0</td>\n",
       "      <td>1</td>\n",
       "      <td>0</td>\n",
       "      <td>1</td>\n",
       "      <td>0</td>\n",
       "      <td>0</td>\n",
       "      <td>1</td>\n",
       "      <td>0</td>\n",
       "    </tr>\n",
       "    <tr>\n",
       "      <th>1</th>\n",
       "      <td>9</td>\n",
       "      <td>20.0</td>\n",
       "      <td>0.0</td>\n",
       "      <td>6</td>\n",
       "      <td>6</td>\n",
       "      <td>8</td>\n",
       "      <td>-0.451726</td>\n",
       "      <td>-0.516562</td>\n",
       "      <td>0</td>\n",
       "      <td>0</td>\n",
       "      <td>...</td>\n",
       "      <td>0</td>\n",
       "      <td>0</td>\n",
       "      <td>0</td>\n",
       "      <td>1</td>\n",
       "      <td>0</td>\n",
       "      <td>1</td>\n",
       "      <td>0</td>\n",
       "      <td>0</td>\n",
       "      <td>1</td>\n",
       "      <td>0</td>\n",
       "    </tr>\n",
       "  </tbody>\n",
       "</table>\n",
       "<p>2 rows × 32 columns</p>\n",
       "</div>"
      ],
      "text/plain": [
       "   product_name  net_sales  commision_(in_value)  continent  cat_age  \\\n",
       "0            14       21.0                   0.0          6        6   \n",
       "1             9       20.0                   0.0          6        6   \n",
       "\n",
       "   cat_duration  net_sales_stand  commision_(in_value)_stand  agency_ADM  \\\n",
       "0             5        -0.431903                   -0.516562           0   \n",
       "1             8        -0.451726                   -0.516562           0   \n",
       "\n",
       "   agency_ART  ...  agency_TST  agency_TTW  agency_type_Airlines  \\\n",
       "0           0  ...           0           0                     0   \n",
       "1           0  ...           0           0                     0   \n",
       "\n",
       "   agency_type_Travel Agency  distribution_channel_Offline  \\\n",
       "0                          1                             0   \n",
       "1                          1                             0   \n",
       "\n",
       "   distribution_channel_Online  gender_F  gender_M  gender_PNS  claim  \n",
       "0                            1         0         0           1      0  \n",
       "1                            1         0         0           1      0  \n",
       "\n",
       "[2 rows x 32 columns]"
      ]
     },
     "execution_count": 48,
     "metadata": {},
     "output_type": "execute_result"
    }
   ],
   "source": [
    "df = pd.read_csv('../archivos/travel_balanceado_sin_dupl.csv', index_col=0)\n",
    "df.head(2)"
   ]
  },
  {
   "cell_type": "code",
   "execution_count": 49,
   "metadata": {},
   "outputs": [
    {
     "data": {
      "text/html": [
       "<div>\n",
       "<style scoped>\n",
       "    .dataframe tbody tr th:only-of-type {\n",
       "        vertical-align: middle;\n",
       "    }\n",
       "\n",
       "    .dataframe tbody tr th {\n",
       "        vertical-align: top;\n",
       "    }\n",
       "\n",
       "    .dataframe thead th {\n",
       "        text-align: right;\n",
       "    }\n",
       "</style>\n",
       "<table border=\"1\" class=\"dataframe\">\n",
       "  <thead>\n",
       "    <tr style=\"text-align: right;\">\n",
       "      <th></th>\n",
       "      <th>product_name</th>\n",
       "      <th>claim</th>\n",
       "      <th>net_sales</th>\n",
       "      <th>commision_(in_value)</th>\n",
       "      <th>continent</th>\n",
       "      <th>cat_age</th>\n",
       "      <th>cat_duration</th>\n",
       "      <th>net_sales_stand</th>\n",
       "      <th>commision_(in_value)_stand</th>\n",
       "      <th>agency_ADM</th>\n",
       "      <th>...</th>\n",
       "      <th>agency_SSI</th>\n",
       "      <th>agency_TST</th>\n",
       "      <th>agency_TTW</th>\n",
       "      <th>agency_type_Airlines</th>\n",
       "      <th>agency_type_Travel Agency</th>\n",
       "      <th>distribution_channel_Offline</th>\n",
       "      <th>distribution_channel_Online</th>\n",
       "      <th>gender_F</th>\n",
       "      <th>gender_M</th>\n",
       "      <th>gender_PNS</th>\n",
       "    </tr>\n",
       "  </thead>\n",
       "  <tbody>\n",
       "    <tr>\n",
       "      <th>0</th>\n",
       "      <td>3</td>\n",
       "      <td>0</td>\n",
       "      <td>-29.0</td>\n",
       "      <td>9.57</td>\n",
       "      <td>6</td>\n",
       "      <td>3</td>\n",
       "      <td>5</td>\n",
       "      <td>-1.423021</td>\n",
       "      <td>-0.053718</td>\n",
       "      <td>0</td>\n",
       "      <td>...</td>\n",
       "      <td>0</td>\n",
       "      <td>0</td>\n",
       "      <td>0</td>\n",
       "      <td>0</td>\n",
       "      <td>1</td>\n",
       "      <td>1</td>\n",
       "      <td>0</td>\n",
       "      <td>1</td>\n",
       "      <td>0</td>\n",
       "      <td>0</td>\n",
       "    </tr>\n",
       "    <tr>\n",
       "      <th>1</th>\n",
       "      <td>3</td>\n",
       "      <td>0</td>\n",
       "      <td>-29.0</td>\n",
       "      <td>9.57</td>\n",
       "      <td>6</td>\n",
       "      <td>3</td>\n",
       "      <td>5</td>\n",
       "      <td>-1.423021</td>\n",
       "      <td>-0.053718</td>\n",
       "      <td>0</td>\n",
       "      <td>...</td>\n",
       "      <td>0</td>\n",
       "      <td>0</td>\n",
       "      <td>0</td>\n",
       "      <td>0</td>\n",
       "      <td>1</td>\n",
       "      <td>1</td>\n",
       "      <td>0</td>\n",
       "      <td>1</td>\n",
       "      <td>0</td>\n",
       "      <td>0</td>\n",
       "    </tr>\n",
       "  </tbody>\n",
       "</table>\n",
       "<p>2 rows × 32 columns</p>\n",
       "</div>"
      ],
      "text/plain": [
       "   product_name  claim  net_sales  commision_(in_value)  continent  cat_age  \\\n",
       "0             3      0      -29.0                  9.57          6        3   \n",
       "1             3      0      -29.0                  9.57          6        3   \n",
       "\n",
       "   cat_duration  net_sales_stand  commision_(in_value)_stand  agency_ADM  ...  \\\n",
       "0             5        -1.423021                   -0.053718           0  ...   \n",
       "1             5        -1.423021                   -0.053718           0  ...   \n",
       "\n",
       "   agency_SSI  agency_TST  agency_TTW  agency_type_Airlines  \\\n",
       "0           0           0           0                     0   \n",
       "1           0           0           0                     0   \n",
       "\n",
       "   agency_type_Travel Agency  distribution_channel_Offline  \\\n",
       "0                          1                             1   \n",
       "1                          1                             1   \n",
       "\n",
       "   distribution_channel_Online  gender_F  gender_M  gender_PNS  \n",
       "0                            0         1         0           0  \n",
       "1                            0         1         0           0  \n",
       "\n",
       "[2 rows x 32 columns]"
      ]
     },
     "execution_count": 49,
     "metadata": {},
     "output_type": "execute_result"
    }
   ],
   "source": [
    "df_2 = pd.read_csv('../archivos/travel_enco_stand_sin_balanceo.csv', index_col=0)\n",
    "df_2.head(2)"
   ]
  },
  {
   "attachments": {},
   "cell_type": "markdown",
   "metadata": {},
   "source": [
    "Es el momento de realizar el ajuste de vuestro modelo, en este caso tendréis que usar el csv que guardastéis ayer después de todo el preprocesamiento. Los objetivos de esta lección son:\n",
    "- Realizar el ajuste o ajustes de los modelos\n",
    "- Sacad la matriz de confusión de vuestro modelo e identificad cuáles son los verdaderos positivos, verdaderos negativos, falsos positivos y falsos negativos."
   ]
  },
  {
   "attachments": {},
   "cell_type": "markdown",
   "metadata": {},
   "source": [
    "### 1. Modelo con las variables predictoras ESTANDARIZADAS y la variable respuesta BALANCEADA"
   ]
  },
  {
   "cell_type": "code",
   "execution_count": 50,
   "metadata": {},
   "outputs": [],
   "source": [
    "df_stand_bal = df.drop(['net_sales', 'commision_(in_value)'], axis= 1)"
   ]
  },
  {
   "cell_type": "code",
   "execution_count": 51,
   "metadata": {},
   "outputs": [],
   "source": [
    "#Separamos los datos\n",
    "\n",
    "X1 = df_stand_bal.drop(\"claim\", axis = 1)\n",
    "y1 = df_stand_bal[\"claim\"]"
   ]
  },
  {
   "cell_type": "code",
   "execution_count": 52,
   "metadata": {},
   "outputs": [
    {
     "data": {
      "text/html": [
       "<div>\n",
       "<style scoped>\n",
       "    .dataframe tbody tr th:only-of-type {\n",
       "        vertical-align: middle;\n",
       "    }\n",
       "\n",
       "    .dataframe tbody tr th {\n",
       "        vertical-align: top;\n",
       "    }\n",
       "\n",
       "    .dataframe thead th {\n",
       "        text-align: right;\n",
       "    }\n",
       "</style>\n",
       "<table border=\"1\" class=\"dataframe\">\n",
       "  <thead>\n",
       "    <tr style=\"text-align: right;\">\n",
       "      <th></th>\n",
       "      <th>product_name</th>\n",
       "      <th>continent</th>\n",
       "      <th>cat_age</th>\n",
       "      <th>cat_duration</th>\n",
       "      <th>net_sales_stand</th>\n",
       "      <th>commision_(in_value)_stand</th>\n",
       "      <th>agency_ADM</th>\n",
       "      <th>agency_ART</th>\n",
       "      <th>agency_C2B</th>\n",
       "      <th>agency_CBH</th>\n",
       "      <th>...</th>\n",
       "      <th>agency_SSI</th>\n",
       "      <th>agency_TST</th>\n",
       "      <th>agency_TTW</th>\n",
       "      <th>agency_type_Airlines</th>\n",
       "      <th>agency_type_Travel Agency</th>\n",
       "      <th>distribution_channel_Offline</th>\n",
       "      <th>distribution_channel_Online</th>\n",
       "      <th>gender_F</th>\n",
       "      <th>gender_M</th>\n",
       "      <th>gender_PNS</th>\n",
       "    </tr>\n",
       "  </thead>\n",
       "  <tbody>\n",
       "    <tr>\n",
       "      <th>0</th>\n",
       "      <td>14</td>\n",
       "      <td>6</td>\n",
       "      <td>6</td>\n",
       "      <td>5</td>\n",
       "      <td>-0.431903</td>\n",
       "      <td>-0.516562</td>\n",
       "      <td>0</td>\n",
       "      <td>0</td>\n",
       "      <td>0</td>\n",
       "      <td>0</td>\n",
       "      <td>...</td>\n",
       "      <td>0</td>\n",
       "      <td>0</td>\n",
       "      <td>0</td>\n",
       "      <td>0</td>\n",
       "      <td>1</td>\n",
       "      <td>0</td>\n",
       "      <td>1</td>\n",
       "      <td>0</td>\n",
       "      <td>0</td>\n",
       "      <td>1</td>\n",
       "    </tr>\n",
       "    <tr>\n",
       "      <th>1</th>\n",
       "      <td>9</td>\n",
       "      <td>6</td>\n",
       "      <td>6</td>\n",
       "      <td>8</td>\n",
       "      <td>-0.451726</td>\n",
       "      <td>-0.516562</td>\n",
       "      <td>0</td>\n",
       "      <td>0</td>\n",
       "      <td>0</td>\n",
       "      <td>0</td>\n",
       "      <td>...</td>\n",
       "      <td>0</td>\n",
       "      <td>0</td>\n",
       "      <td>0</td>\n",
       "      <td>0</td>\n",
       "      <td>1</td>\n",
       "      <td>0</td>\n",
       "      <td>1</td>\n",
       "      <td>0</td>\n",
       "      <td>0</td>\n",
       "      <td>1</td>\n",
       "    </tr>\n",
       "  </tbody>\n",
       "</table>\n",
       "<p>2 rows × 29 columns</p>\n",
       "</div>"
      ],
      "text/plain": [
       "   product_name  continent  cat_age  cat_duration  net_sales_stand  \\\n",
       "0            14          6        6             5        -0.431903   \n",
       "1             9          6        6             8        -0.451726   \n",
       "\n",
       "   commision_(in_value)_stand  agency_ADM  agency_ART  agency_C2B  agency_CBH  \\\n",
       "0                   -0.516562           0           0           0           0   \n",
       "1                   -0.516562           0           0           0           0   \n",
       "\n",
       "   ...  agency_SSI  agency_TST  agency_TTW  agency_type_Airlines  \\\n",
       "0  ...           0           0           0                     0   \n",
       "1  ...           0           0           0                     0   \n",
       "\n",
       "   agency_type_Travel Agency  distribution_channel_Offline  \\\n",
       "0                          1                             0   \n",
       "1                          1                             0   \n",
       "\n",
       "   distribution_channel_Online  gender_F  gender_M  gender_PNS  \n",
       "0                            1         0         0           1  \n",
       "1                            1         0         0           1  \n",
       "\n",
       "[2 rows x 29 columns]"
      ]
     },
     "execution_count": 52,
     "metadata": {},
     "output_type": "execute_result"
    }
   ],
   "source": [
    "X1.head(2)"
   ]
  },
  {
   "cell_type": "code",
   "execution_count": 53,
   "metadata": {},
   "outputs": [
    {
     "data": {
      "text/plain": [
       "0    0\n",
       "1    0\n",
       "Name: claim, dtype: int64"
      ]
     },
     "execution_count": 53,
     "metadata": {},
     "output_type": "execute_result"
    }
   ],
   "source": [
    "y1.head(2)"
   ]
  },
  {
   "cell_type": "code",
   "execution_count": 54,
   "metadata": {},
   "outputs": [],
   "source": [
    "x_train1, x_test1, y_train1, y_test1 = train_test_split(X1, y1, test_size = 0.2, random_state = 42)"
   ]
  },
  {
   "attachments": {},
   "cell_type": "markdown",
   "metadata": {},
   "source": [
    "### Ajuste de nuestro modelo"
   ]
  },
  {
   "cell_type": "code",
   "execution_count": 55,
   "metadata": {},
   "outputs": [],
   "source": [
    "#Usamos el método para realizar la regresión logística, lo ajustamos y sacamos las predicciones\n",
    "\n",
    "log_reg_esta = LogisticRegression(n_jobs=-1, max_iter = 1000)\n",
    "\n",
    "\n",
    "log_reg_esta.fit(x_train1,y_train1)\n",
    "\n",
    "\n",
    "y_pred_train_esta = log_reg_esta.predict(x_train1)\n",
    "y_pred_test_esta = log_reg_esta.predict(x_test1)"
   ]
  },
  {
   "cell_type": "code",
   "execution_count": 56,
   "metadata": {},
   "outputs": [
    {
     "data": {
      "text/html": [
       "<div>\n",
       "<style scoped>\n",
       "    .dataframe tbody tr th:only-of-type {\n",
       "        vertical-align: middle;\n",
       "    }\n",
       "\n",
       "    .dataframe tbody tr th {\n",
       "        vertical-align: top;\n",
       "    }\n",
       "\n",
       "    .dataframe thead th {\n",
       "        text-align: right;\n",
       "    }\n",
       "</style>\n",
       "<table border=\"1\" class=\"dataframe\">\n",
       "  <thead>\n",
       "    <tr style=\"text-align: right;\">\n",
       "      <th></th>\n",
       "      <th>Real</th>\n",
       "      <th>Predicted</th>\n",
       "      <th>Set</th>\n",
       "    </tr>\n",
       "  </thead>\n",
       "  <tbody>\n",
       "    <tr>\n",
       "      <th>30849</th>\n",
       "      <td>0</td>\n",
       "      <td>0</td>\n",
       "      <td>Train</td>\n",
       "    </tr>\n",
       "    <tr>\n",
       "      <th>51322</th>\n",
       "      <td>1</td>\n",
       "      <td>0</td>\n",
       "      <td>Train</td>\n",
       "    </tr>\n",
       "    <tr>\n",
       "      <th>41678</th>\n",
       "      <td>1</td>\n",
       "      <td>1</td>\n",
       "      <td>Train</td>\n",
       "    </tr>\n",
       "    <tr>\n",
       "      <th>20462</th>\n",
       "      <td>0</td>\n",
       "      <td>0</td>\n",
       "      <td>Train</td>\n",
       "    </tr>\n",
       "    <tr>\n",
       "      <th>45387</th>\n",
       "      <td>1</td>\n",
       "      <td>1</td>\n",
       "      <td>Train</td>\n",
       "    </tr>\n",
       "  </tbody>\n",
       "</table>\n",
       "</div>"
      ],
      "text/plain": [
       "       Real  Predicted    Set\n",
       "30849     0          0  Train\n",
       "51322     1          0  Train\n",
       "41678     1          1  Train\n",
       "20462     0          0  Train\n",
       "45387     1          1  Train"
      ]
     },
     "execution_count": 56,
     "metadata": {},
     "output_type": "execute_result"
    }
   ],
   "source": [
    "train_df_esta = pd.DataFrame({'Real': y_train1, 'Predicted': y_pred_train_esta, 'Set': ['Train']*len(y_train1)})\n",
    "test_df_esta  = pd.DataFrame({'Real': y_test1,  'Predicted': y_pred_test_esta,  'Set': ['Test']*len(y_test1)})\n",
    "resultados = pd.concat([train_df_esta,test_df_esta], axis = 0)\n",
    "resultados.head()"
   ]
  },
  {
   "attachments": {},
   "cell_type": "markdown",
   "metadata": {},
   "source": [
    "### Matriz de Confusión"
   ]
  },
  {
   "cell_type": "code",
   "execution_count": 57,
   "metadata": {},
   "outputs": [
    {
     "data": {
      "image/png": "[encoded data removed]",
      "text/plain": [
       "<Figure size 864x576 with 2 Axes>"
      ]
     },
     "metadata": {
      "needs_background": "light"
     },
     "output_type": "display_data"
    }
   ],
   "source": [
    "mat_lr1 = confusion_matrix(y_test1, y_pred_test_esta)\n",
    "\n",
    "plt.figure(figsize = (12, 8))\n",
    "sns.heatmap(mat_lr1, square=True, annot=True, fmt=\"d\", cmap = \"icefire\")\n",
    "\n",
    "plt.xlabel('valor predicho')\n",
    "plt.ylabel('valor real')\n",
    "plt.show()"
   ]
  },
  {
   "attachments": {},
   "cell_type": "markdown",
   "metadata": {},
   "source": [
    "➡️ **_Conclusiones:_**\n",
    "\n",
    "0: No reclaman el seguro\n",
    "\n",
    "1: Si reclaman\n",
    "\n",
    "- VP: El número 1930, corresponde al número de personas que si reclaman y si hemos acertado.\n",
    "- VN: El número 927, corresponde al número de personas que no reclaman y si hemos acertado.\n",
    "- FN: El número 721, corresponde al número de personas que si han reclamado y no hemos predicho. (Error de tipo II)\n",
    "- FP: El número 341, corresponde al número de personas que no reclaman y hemos dicho que si. (Error de tipo I)"
   ]
  },
  {
   "cell_type": "code",
   "execution_count": 58,
   "metadata": {},
   "outputs": [],
   "source": [
    "# Sacamos las métricas\n",
    "\n",
    "def metricas(clases_reales_test, clases_predichas_test, clases_reales_train, clases_predichas_train, modelo):\n",
    "    \n",
    "    # para el test\n",
    "    accuracy_test = accuracy_score(clases_reales_test, clases_predichas_test)\n",
    "    precision_test = precision_score(clases_reales_test, clases_predichas_test)\n",
    "    recall_test = recall_score(clases_reales_test, clases_predichas_test)\n",
    "    f1_test = f1_score(clases_reales_test, clases_predichas_test)\n",
    "    kappa_test = cohen_kappa_score(clases_reales_test, clases_predichas_test)\n",
    "\n",
    "    # para el train\n",
    "    accuracy_train = accuracy_score(clases_reales_train, clases_predichas_train)\n",
    "    precision_train = precision_score(clases_reales_train, clases_predichas_train)\n",
    "    recall_train = recall_score(clases_reales_train, clases_predichas_train)\n",
    "    f1_train = f1_score(clases_reales_train, clases_predichas_train)\n",
    "    kappa_train = cohen_kappa_score(clases_reales_train, clases_predichas_train)\n",
    "    \n",
    "\n",
    "    \n",
    "    df = pd.DataFrame({\"accuracy\": [accuracy_test, accuracy_train], \n",
    "                       \"precision\": [precision_test, precision_train],\n",
    "                       \"recall\": [recall_test, recall_train], \n",
    "                       \"f1\": [f1_test, f1_train],\n",
    "                       \"kappa\": [kappa_test, kappa_train],\n",
    "                       \"set\": [\"test\", \"train\"]})\n",
    "    \n",
    "    df[\"modelo\"] = modelo\n",
    "    return df"
   ]
  },
  {
   "cell_type": "code",
   "execution_count": 59,
   "metadata": {},
   "outputs": [
    {
     "data": {
      "text/html": [
       "<div>\n",
       "<style scoped>\n",
       "    .dataframe tbody tr th:only-of-type {\n",
       "        vertical-align: middle;\n",
       "    }\n",
       "\n",
       "    .dataframe tbody tr th {\n",
       "        vertical-align: top;\n",
       "    }\n",
       "\n",
       "    .dataframe thead th {\n",
       "        text-align: right;\n",
       "    }\n",
       "</style>\n",
       "<table border=\"1\" class=\"dataframe\">\n",
       "  <thead>\n",
       "    <tr style=\"text-align: right;\">\n",
       "      <th></th>\n",
       "      <th>accuracy</th>\n",
       "      <th>precision</th>\n",
       "      <th>recall</th>\n",
       "      <th>f1</th>\n",
       "      <th>kappa</th>\n",
       "      <th>set</th>\n",
       "      <th>modelo</th>\n",
       "    </tr>\n",
       "  </thead>\n",
       "  <tbody>\n",
       "    <tr>\n",
       "      <th>0</th>\n",
       "      <td>0.729013</td>\n",
       "      <td>0.731073</td>\n",
       "      <td>0.56250</td>\n",
       "      <td>0.635802</td>\n",
       "      <td>0.425813</td>\n",
       "      <td>test</td>\n",
       "      <td>Regresión logistica Stan_Bal</td>\n",
       "    </tr>\n",
       "    <tr>\n",
       "      <th>1</th>\n",
       "      <td>0.733031</td>\n",
       "      <td>0.749612</td>\n",
       "      <td>0.57183</td>\n",
       "      <td>0.648762</td>\n",
       "      <td>0.439668</td>\n",
       "      <td>train</td>\n",
       "      <td>Regresión logistica Stan_Bal</td>\n",
       "    </tr>\n",
       "  </tbody>\n",
       "</table>\n",
       "</div>"
      ],
      "text/plain": [
       "   accuracy  precision   recall        f1     kappa    set  \\\n",
       "0  0.729013   0.731073  0.56250  0.635802  0.425813   test   \n",
       "1  0.733031   0.749612  0.57183  0.648762  0.439668  train   \n",
       "\n",
       "                         modelo  \n",
       "0  Regresión logistica Stan_Bal  \n",
       "1  Regresión logistica Stan_Bal  "
      ]
     },
     "execution_count": 59,
     "metadata": {},
     "output_type": "execute_result"
    }
   ],
   "source": [
    "resultados_logistic_stand_bal = metricas(y_test1, y_pred_test_esta, y_train1, y_pred_train_esta, \"Regresión logistica Stan_Bal\")\n",
    "resultados_logistic_stand_bal"
   ]
  },
  {
   "attachments": {},
   "cell_type": "markdown",
   "metadata": {},
   "source": [
    "➡️ **_Conclusiones:_**\n",
    "\n",
    "Vemos que tenemos: \n",
    "- un accuracy y precision altos.\n",
    "- un f1 considerablemente alto aunque mejorable.\n",
    "- un kappa que nos indica que tenemos más de la mitad de prediciones aleatorias.\n",
    "\n",
    "Nos interesaría subir el recall ya que en nuestro caso nos interesa tener más posibilidad de error con los FN, las personas que no reclaman y no hemos predicho.\n",
    "\n"
   ]
  },
  {
   "attachments": {},
   "cell_type": "markdown",
   "metadata": {},
   "source": [
    "### 2. Módelo con las variables predictoras SIN ESTANDARIZAR y la variable respuesta SIN BALANCEAR"
   ]
  },
  {
   "cell_type": "code",
   "execution_count": 60,
   "metadata": {},
   "outputs": [],
   "source": [
    "df_sin_stand_sin_bal = df_2.drop(['net_sales_stand', 'commision_(in_value)_stand'], axis= 1)"
   ]
  },
  {
   "cell_type": "code",
   "execution_count": 61,
   "metadata": {},
   "outputs": [],
   "source": [
    "X2 = df_sin_stand_sin_bal.drop(\"claim\", axis = 1)\n",
    "y2 = df_sin_stand_sin_bal[\"claim\"]"
   ]
  },
  {
   "cell_type": "code",
   "execution_count": 62,
   "metadata": {},
   "outputs": [],
   "source": [
    "x_train2, x_test2, y_train2, y_test2 = train_test_split(X2, y2, test_size = 0.2, random_state = 42)"
   ]
  },
  {
   "cell_type": "code",
   "execution_count": 63,
   "metadata": {},
   "outputs": [],
   "source": [
    "log_reg_esta2 = LogisticRegression(n_jobs=-1, max_iter = 2000)\n",
    "\n",
    "log_reg_esta2.fit(x_train2,y_train2)\n",
    "\n",
    "\n",
    "y_pred_train_esta2 = log_reg_esta2.predict(x_train2)\n",
    "y_pred_test_esta2 = log_reg_esta2.predict(x_test2)"
   ]
  },
  {
   "cell_type": "code",
   "execution_count": 64,
   "metadata": {},
   "outputs": [
    {
     "data": {
      "image/png": "[encoded data removed]",
      "text/plain": [
       "<Figure size 864x576 with 2 Axes>"
      ]
     },
     "metadata": {
      "needs_background": "light"
     },
     "output_type": "display_data"
    }
   ],
   "source": [
    "mat_lr_esta2 = confusion_matrix(y_test2, y_pred_test_esta2)\n",
    "\n",
    "plt.figure(figsize = (12, 8))\n",
    "sns.heatmap(mat_lr_esta2, square=True, annot=True, fmt=\"d\", cmap = \"icefire\")\n",
    "\n",
    "plt.xlabel('valor predicho')\n",
    "plt.ylabel('valor real')\n",
    "plt.show()"
   ]
  },
  {
   "cell_type": "code",
   "execution_count": 65,
   "metadata": {},
   "outputs": [
    {
     "data": {
      "text/html": [
       "<div>\n",
       "<style scoped>\n",
       "    .dataframe tbody tr th:only-of-type {\n",
       "        vertical-align: middle;\n",
       "    }\n",
       "\n",
       "    .dataframe tbody tr th {\n",
       "        vertical-align: top;\n",
       "    }\n",
       "\n",
       "    .dataframe thead th {\n",
       "        text-align: right;\n",
       "    }\n",
       "</style>\n",
       "<table border=\"1\" class=\"dataframe\">\n",
       "  <thead>\n",
       "    <tr style=\"text-align: right;\">\n",
       "      <th></th>\n",
       "      <th>accuracy</th>\n",
       "      <th>precision</th>\n",
       "      <th>recall</th>\n",
       "      <th>f1</th>\n",
       "      <th>kappa</th>\n",
       "      <th>set</th>\n",
       "      <th>modelo</th>\n",
       "    </tr>\n",
       "  </thead>\n",
       "  <tbody>\n",
       "    <tr>\n",
       "      <th>0</th>\n",
       "      <td>0.985801</td>\n",
       "      <td>0.0</td>\n",
       "      <td>0.0</td>\n",
       "      <td>0.0</td>\n",
       "      <td>-0.000180</td>\n",
       "      <td>test</td>\n",
       "      <td>Regresión logistica Sin Stan-Bal</td>\n",
       "    </tr>\n",
       "    <tr>\n",
       "      <th>1</th>\n",
       "      <td>0.982635</td>\n",
       "      <td>0.0</td>\n",
       "      <td>0.0</td>\n",
       "      <td>0.0</td>\n",
       "      <td>-0.000135</td>\n",
       "      <td>train</td>\n",
       "      <td>Regresión logistica Sin Stan-Bal</td>\n",
       "    </tr>\n",
       "  </tbody>\n",
       "</table>\n",
       "</div>"
      ],
      "text/plain": [
       "   accuracy  precision  recall   f1     kappa    set  \\\n",
       "0  0.985801        0.0     0.0  0.0 -0.000180   test   \n",
       "1  0.982635        0.0     0.0  0.0 -0.000135  train   \n",
       "\n",
       "                             modelo  \n",
       "0  Regresión logistica Sin Stan-Bal  \n",
       "1  Regresión logistica Sin Stan-Bal  "
      ]
     },
     "execution_count": 65,
     "metadata": {},
     "output_type": "execute_result"
    }
   ],
   "source": [
    "results_logistic_sin_stand_bal = metricas(y_test2, y_pred_test_esta2, y_train2, y_pred_train_esta2, \"Regresión logistica Sin Stan-Bal\")\n",
    "results_logistic_sin_stand_bal"
   ]
  },
  {
   "attachments": {},
   "cell_type": "markdown",
   "metadata": {},
   "source": [
    "### 3. Módelo con las variables predictoras SIN ESTANDARIZAR y la variable respuesta BALANCEADA"
   ]
  },
  {
   "cell_type": "code",
   "execution_count": 66,
   "metadata": {},
   "outputs": [],
   "source": [
    "df_sin_stand_con_bal = df.drop(['net_sales_stand', 'commision_(in_value)_stand'], axis= 1)"
   ]
  },
  {
   "cell_type": "code",
   "execution_count": 67,
   "metadata": {},
   "outputs": [],
   "source": [
    "X3 = df_sin_stand_con_bal.drop(\"claim\", axis = 1)\n",
    "y3 = df_sin_stand_con_bal[\"claim\"]"
   ]
  },
  {
   "cell_type": "code",
   "execution_count": 68,
   "metadata": {},
   "outputs": [],
   "source": [
    "x_train3, x_test3, y_train3, y_test3 = train_test_split(X3, y3, test_size = 0.2, random_state = 42)"
   ]
  },
  {
   "cell_type": "code",
   "execution_count": 69,
   "metadata": {},
   "outputs": [],
   "source": [
    "log_reg_esta3 = LogisticRegression(n_jobs=-1, max_iter = 3000)\n",
    "\n",
    "log_reg_esta3.fit(x_train3,y_train3)\n",
    "\n",
    "\n",
    "y_pred_train_esta3 = log_reg_esta3.predict(x_train3)\n",
    "y_pred_test_esta3 = log_reg_esta3.predict(x_test3)"
   ]
  },
  {
   "cell_type": "code",
   "execution_count": 70,
   "metadata": {},
   "outputs": [
    {
     "data": {
      "image/png": "[encoded data removed]",
      "text/plain": [
       "<Figure size 864x576 with 2 Axes>"
      ]
     },
     "metadata": {
      "needs_background": "light"
     },
     "output_type": "display_data"
    }
   ],
   "source": [
    "mat_lr_esta3 = confusion_matrix(y_test3, y_pred_test_esta3)\n",
    "\n",
    "plt.figure(figsize = (12, 8))\n",
    "sns.heatmap(mat_lr_esta3, square=True, annot=True, fmt=\"d\", cmap = \"icefire\")\n",
    "\n",
    "plt.xlabel('valor predicho')\n",
    "plt.ylabel('valor real')\n",
    "plt.show()"
   ]
  },
  {
   "cell_type": "code",
   "execution_count": 71,
   "metadata": {},
   "outputs": [
    {
     "data": {
      "text/html": [
       "<div>\n",
       "<style scoped>\n",
       "    .dataframe tbody tr th:only-of-type {\n",
       "        vertical-align: middle;\n",
       "    }\n",
       "\n",
       "    .dataframe tbody tr th {\n",
       "        vertical-align: top;\n",
       "    }\n",
       "\n",
       "    .dataframe thead th {\n",
       "        text-align: right;\n",
       "    }\n",
       "</style>\n",
       "<table border=\"1\" class=\"dataframe\">\n",
       "  <thead>\n",
       "    <tr style=\"text-align: right;\">\n",
       "      <th></th>\n",
       "      <th>accuracy</th>\n",
       "      <th>precision</th>\n",
       "      <th>recall</th>\n",
       "      <th>f1</th>\n",
       "      <th>kappa</th>\n",
       "      <th>set</th>\n",
       "      <th>modelo</th>\n",
       "    </tr>\n",
       "  </thead>\n",
       "  <tbody>\n",
       "    <tr>\n",
       "      <th>0</th>\n",
       "      <td>0.728502</td>\n",
       "      <td>0.730284</td>\n",
       "      <td>0.561893</td>\n",
       "      <td>0.635117</td>\n",
       "      <td>0.424732</td>\n",
       "      <td>test</td>\n",
       "      <td>Regresión logistica Sin Stan Con Bal</td>\n",
       "    </tr>\n",
       "    <tr>\n",
       "      <th>1</th>\n",
       "      <td>0.732712</td>\n",
       "      <td>0.749660</td>\n",
       "      <td>0.570647</td>\n",
       "      <td>0.648017</td>\n",
       "      <td>0.438885</td>\n",
       "      <td>train</td>\n",
       "      <td>Regresión logistica Sin Stan Con Bal</td>\n",
       "    </tr>\n",
       "  </tbody>\n",
       "</table>\n",
       "</div>"
      ],
      "text/plain": [
       "   accuracy  precision    recall        f1     kappa    set  \\\n",
       "0  0.728502   0.730284  0.561893  0.635117  0.424732   test   \n",
       "1  0.732712   0.749660  0.570647  0.648017  0.438885  train   \n",
       "\n",
       "                                 modelo  \n",
       "0  Regresión logistica Sin Stan Con Bal  \n",
       "1  Regresión logistica Sin Stan Con Bal  "
      ]
     },
     "execution_count": 71,
     "metadata": {},
     "output_type": "execute_result"
    }
   ],
   "source": [
    "results_logistic_sin_stand_con_bal = metricas(y_test3, y_pred_test_esta3, y_train3, y_pred_train_esta3, \"Regresión logistica Sin Stan Con Bal\")\n",
    "results_logistic_sin_stand_con_bal"
   ]
  },
  {
   "attachments": {},
   "cell_type": "markdown",
   "metadata": {},
   "source": [
    "### 4. Modelo con las variables predictoras ESTANDARIZADAS y la variable respuesta SIN BALANCEAR\n"
   ]
  },
  {
   "cell_type": "code",
   "execution_count": 72,
   "metadata": {},
   "outputs": [],
   "source": [
    "df_stand_sin_bal = df_2.drop(['net_sales', 'commision_(in_value)'], axis= 1)"
   ]
  },
  {
   "cell_type": "code",
   "execution_count": 73,
   "metadata": {},
   "outputs": [],
   "source": [
    "X4 = df_stand_sin_bal.drop(\"claim\", axis = 1)\n",
    "y4 = df_stand_sin_bal[\"claim\"]"
   ]
  },
  {
   "cell_type": "code",
   "execution_count": 74,
   "metadata": {},
   "outputs": [],
   "source": [
    "x_train4, x_test4, y_train4, y_test4 = train_test_split(X4, y4, test_size = 0.2, random_state = 42)"
   ]
  },
  {
   "cell_type": "code",
   "execution_count": 75,
   "metadata": {},
   "outputs": [],
   "source": [
    "log_reg_esta4 = LogisticRegression(n_jobs=-1, max_iter = 3000)\n",
    "\n",
    "log_reg_esta4.fit(x_train4,y_train4)\n",
    "\n",
    "y_pred_train_esta4 = log_reg_esta4.predict(x_train4)\n",
    "y_pred_test_esta4 = log_reg_esta4.predict(x_test4)"
   ]
  },
  {
   "cell_type": "code",
   "execution_count": 76,
   "metadata": {},
   "outputs": [
    {
     "data": {
      "image/png": "[encoded data removed]",
      "text/plain": [
       "<Figure size 864x576 with 2 Axes>"
      ]
     },
     "metadata": {
      "needs_background": "light"
     },
     "output_type": "display_data"
    }
   ],
   "source": [
    "mat_lr_esta4 = confusion_matrix(y_test4, y_pred_test_esta4)\n",
    "\n",
    "plt.figure(figsize = (12, 8))\n",
    "sns.heatmap(mat_lr_esta4, square=True, annot=True, fmt=\"d\", cmap = \"icefire\")\n",
    "\n",
    "plt.xlabel('valor predicho')\n",
    "plt.ylabel('valor real')\n",
    "plt.show()"
   ]
  },
  {
   "cell_type": "code",
   "execution_count": 77,
   "metadata": {},
   "outputs": [
    {
     "data": {
      "text/html": [
       "<div>\n",
       "<style scoped>\n",
       "    .dataframe tbody tr th:only-of-type {\n",
       "        vertical-align: middle;\n",
       "    }\n",
       "\n",
       "    .dataframe tbody tr th {\n",
       "        vertical-align: top;\n",
       "    }\n",
       "\n",
       "    .dataframe thead th {\n",
       "        text-align: right;\n",
       "    }\n",
       "</style>\n",
       "<table border=\"1\" class=\"dataframe\">\n",
       "  <thead>\n",
       "    <tr style=\"text-align: right;\">\n",
       "      <th></th>\n",
       "      <th>accuracy</th>\n",
       "      <th>precision</th>\n",
       "      <th>recall</th>\n",
       "      <th>f1</th>\n",
       "      <th>kappa</th>\n",
       "      <th>set</th>\n",
       "      <th>modelo</th>\n",
       "    </tr>\n",
       "  </thead>\n",
       "  <tbody>\n",
       "    <tr>\n",
       "      <th>0</th>\n",
       "      <td>0.985801</td>\n",
       "      <td>0.0</td>\n",
       "      <td>0.0</td>\n",
       "      <td>0.0</td>\n",
       "      <td>-0.000180</td>\n",
       "      <td>test</td>\n",
       "      <td>Regresión logistica Con Stan Sin Bal</td>\n",
       "    </tr>\n",
       "    <tr>\n",
       "      <th>1</th>\n",
       "      <td>0.982635</td>\n",
       "      <td>0.0</td>\n",
       "      <td>0.0</td>\n",
       "      <td>0.0</td>\n",
       "      <td>-0.000135</td>\n",
       "      <td>train</td>\n",
       "      <td>Regresión logistica Con Stan Sin Bal</td>\n",
       "    </tr>\n",
       "  </tbody>\n",
       "</table>\n",
       "</div>"
      ],
      "text/plain": [
       "   accuracy  precision  recall   f1     kappa    set  \\\n",
       "0  0.985801        0.0     0.0  0.0 -0.000180   test   \n",
       "1  0.982635        0.0     0.0  0.0 -0.000135  train   \n",
       "\n",
       "                                 modelo  \n",
       "0  Regresión logistica Con Stan Sin Bal  \n",
       "1  Regresión logistica Con Stan Sin Bal  "
      ]
     },
     "execution_count": 77,
     "metadata": {},
     "output_type": "execute_result"
    }
   ],
   "source": [
    "results_logistic_con_stand_sin_bal = metricas(y_test4, y_pred_test_esta4, y_train4, y_pred_train_esta4, \"Regresión logistica Con Stan Sin Bal\")\n",
    "results_logistic_con_stand_sin_bal"
   ]
  },
  {
   "attachments": {},
   "cell_type": "markdown",
   "metadata": {},
   "source": [
    "### 5. Unimos todas las métricas"
   ]
  },
  {
   "cell_type": "code",
   "execution_count": 78,
   "metadata": {},
   "outputs": [
    {
     "data": {
      "text/html": [
       "<div>\n",
       "<style scoped>\n",
       "    .dataframe tbody tr th:only-of-type {\n",
       "        vertical-align: middle;\n",
       "    }\n",
       "\n",
       "    .dataframe tbody tr th {\n",
       "        vertical-align: top;\n",
       "    }\n",
       "\n",
       "    .dataframe thead th {\n",
       "        text-align: right;\n",
       "    }\n",
       "</style>\n",
       "<table border=\"1\" class=\"dataframe\">\n",
       "  <thead>\n",
       "    <tr style=\"text-align: right;\">\n",
       "      <th></th>\n",
       "      <th>accuracy</th>\n",
       "      <th>precision</th>\n",
       "      <th>recall</th>\n",
       "      <th>f1</th>\n",
       "      <th>kappa</th>\n",
       "      <th>set</th>\n",
       "      <th>modelo</th>\n",
       "    </tr>\n",
       "  </thead>\n",
       "  <tbody>\n",
       "    <tr>\n",
       "      <th>0</th>\n",
       "      <td>0.729013</td>\n",
       "      <td>0.731073</td>\n",
       "      <td>0.562500</td>\n",
       "      <td>0.635802</td>\n",
       "      <td>0.425813</td>\n",
       "      <td>test</td>\n",
       "      <td>Regresión logistica Stan_Bal</td>\n",
       "    </tr>\n",
       "    <tr>\n",
       "      <th>1</th>\n",
       "      <td>0.733031</td>\n",
       "      <td>0.749612</td>\n",
       "      <td>0.571830</td>\n",
       "      <td>0.648762</td>\n",
       "      <td>0.439668</td>\n",
       "      <td>train</td>\n",
       "      <td>Regresión logistica Stan_Bal</td>\n",
       "    </tr>\n",
       "    <tr>\n",
       "      <th>0</th>\n",
       "      <td>0.985801</td>\n",
       "      <td>0.000000</td>\n",
       "      <td>0.000000</td>\n",
       "      <td>0.000000</td>\n",
       "      <td>-0.000180</td>\n",
       "      <td>test</td>\n",
       "      <td>Regresión logistica Sin Stan-Bal</td>\n",
       "    </tr>\n",
       "    <tr>\n",
       "      <th>1</th>\n",
       "      <td>0.982635</td>\n",
       "      <td>0.000000</td>\n",
       "      <td>0.000000</td>\n",
       "      <td>0.000000</td>\n",
       "      <td>-0.000135</td>\n",
       "      <td>train</td>\n",
       "      <td>Regresión logistica Sin Stan-Bal</td>\n",
       "    </tr>\n",
       "    <tr>\n",
       "      <th>0</th>\n",
       "      <td>0.728502</td>\n",
       "      <td>0.730284</td>\n",
       "      <td>0.561893</td>\n",
       "      <td>0.635117</td>\n",
       "      <td>0.424732</td>\n",
       "      <td>test</td>\n",
       "      <td>Regresión logistica Sin Stan Con Bal</td>\n",
       "    </tr>\n",
       "    <tr>\n",
       "      <th>1</th>\n",
       "      <td>0.732712</td>\n",
       "      <td>0.749660</td>\n",
       "      <td>0.570647</td>\n",
       "      <td>0.648017</td>\n",
       "      <td>0.438885</td>\n",
       "      <td>train</td>\n",
       "      <td>Regresión logistica Sin Stan Con Bal</td>\n",
       "    </tr>\n",
       "    <tr>\n",
       "      <th>0</th>\n",
       "      <td>0.985801</td>\n",
       "      <td>0.000000</td>\n",
       "      <td>0.000000</td>\n",
       "      <td>0.000000</td>\n",
       "      <td>-0.000180</td>\n",
       "      <td>test</td>\n",
       "      <td>Regresión logistica Con Stan Sin Bal</td>\n",
       "    </tr>\n",
       "    <tr>\n",
       "      <th>1</th>\n",
       "      <td>0.982635</td>\n",
       "      <td>0.000000</td>\n",
       "      <td>0.000000</td>\n",
       "      <td>0.000000</td>\n",
       "      <td>-0.000135</td>\n",
       "      <td>train</td>\n",
       "      <td>Regresión logistica Con Stan Sin Bal</td>\n",
       "    </tr>\n",
       "  </tbody>\n",
       "</table>\n",
       "</div>"
      ],
      "text/plain": [
       "   accuracy  precision    recall        f1     kappa    set  \\\n",
       "0  0.729013   0.731073  0.562500  0.635802  0.425813   test   \n",
       "1  0.733031   0.749612  0.571830  0.648762  0.439668  train   \n",
       "0  0.985801   0.000000  0.000000  0.000000 -0.000180   test   \n",
       "1  0.982635   0.000000  0.000000  0.000000 -0.000135  train   \n",
       "0  0.728502   0.730284  0.561893  0.635117  0.424732   test   \n",
       "1  0.732712   0.749660  0.570647  0.648017  0.438885  train   \n",
       "0  0.985801   0.000000  0.000000  0.000000 -0.000180   test   \n",
       "1  0.982635   0.000000  0.000000  0.000000 -0.000135  train   \n",
       "\n",
       "                                 modelo  \n",
       "0          Regresión logistica Stan_Bal  \n",
       "1          Regresión logistica Stan_Bal  \n",
       "0      Regresión logistica Sin Stan-Bal  \n",
       "1      Regresión logistica Sin Stan-Bal  \n",
       "0  Regresión logistica Sin Stan Con Bal  \n",
       "1  Regresión logistica Sin Stan Con Bal  \n",
       "0  Regresión logistica Con Stan Sin Bal  \n",
       "1  Regresión logistica Con Stan Sin Bal  "
      ]
     },
     "execution_count": 78,
     "metadata": {},
     "output_type": "execute_result"
    }
   ],
   "source": [
    "resultados_todo = pd.concat([resultados_logistic_stand_bal, results_logistic_sin_stand_bal, results_logistic_sin_stand_con_bal, results_logistic_con_stand_sin_bal], axis = 0)\n",
    "resultados_todo"
   ]
  },
  {
   "attachments": {},
   "cell_type": "markdown",
   "metadata": {},
   "source": [
    "➡️ **_Conclusiones:_**\n",
    "\n",
    "- El segundo, sin estandarizar y sin balancear, y el cuarto caso, con estandarización y sin balanceo, son muy similares y fracaso absoluto, al tener un Kappa negativo.\n",
    "\n",
    "- El primer y tercer modelo vemos que son los más acertados, dentro de que no son precisos, ya que tienen un kappa de 0.43.\n",
    "\n",
    "- Estos modelos, el primero y el tercero, son los que están con la variable respuesta balanceada y las variables predictoras numéricas están en uno de los casos estandarizadas y en el otro sin estandarizar. Aunque dan mejor resultados no son buenos modelos ya que su Kappa es bastante bajo.\n",
    "\n"
   ]
  },
  {
   "cell_type": "code",
   "execution_count": 79,
   "metadata": {},
   "outputs": [],
   "source": [
    "resultados_todo.to_csv(\"../archivos/resultados_travel_logistica.csv\")"
   ]
  }
 ],
 "metadata": {
  "kernelspec": {
   "display_name": "base",
   "language": "python",
   "name": "python3"
  },
  "language_info": {
   "codemirror_mode": {
    "name": "ipython",
    "version": 3
   },
   "file_extension": ".py",
   "mimetype": "text/x-python",
   "name": "python",
   "nbconvert_exporter": "python",
   "pygments_lexer": "ipython3",
   "version": "3.9.7 (default, Sep 16 2021, 13:09:58) \n[GCC 7.5.0]"
  },
  "orig_nbformat": 4,
  "vscode": {
   "interpreter": {
    "hash": "b3191f930eabfdf0eb39086a24df618ea48425015dbb471465fb2c793fed20fd"
   }
  }
 },
 "nbformat": 4,
 "nbformat_minor": 2
}
