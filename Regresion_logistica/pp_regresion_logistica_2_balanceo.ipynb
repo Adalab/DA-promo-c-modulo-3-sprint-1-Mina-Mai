{
 "cells": [
  {
   "attachments": {},
   "cell_type": "markdown",
   "metadata": {},
   "source": [
    "## Pair Programming - Regresión logística 2\n",
    "\n",
    "### Procesado - Balanceo\n",
    "\n",
    "---"
   ]
  },
  {
   "cell_type": "code",
   "execution_count": 1,
   "metadata": {},
   "outputs": [],
   "source": [
    "# Tratamiento de datos\n",
    "import numpy as np\n",
    "import pandas as pd\n",
    "\n",
    "# Gráficas\n",
    "import matplotlib.pyplot as plt\n",
    "import seaborn as sns\n",
    "\n",
    "# Gestión datos desbalanceados\n",
    "\n",
    "from imblearn.combine import SMOTETomek\n",
    "\n",
    "# Para separar los datos en train y test\n",
    "from sklearn.model_selection import train_test_split\n",
    "\n",
    "# Configuración de warnings\n",
    "import warnings\n",
    "warnings.filterwarnings(\"ignore\")"
   ]
  },
  {
   "cell_type": "code",
   "execution_count": 2,
   "metadata": {},
   "outputs": [],
   "source": [
    "sns.set_palette(\"icefire\")"
   ]
  },
  {
   "cell_type": "code",
   "execution_count": 3,
   "metadata": {},
   "outputs": [
    {
     "data": {
      "text/html": [
       "<div>\n",
       "<style scoped>\n",
       "    .dataframe tbody tr th:only-of-type {\n",
       "        vertical-align: middle;\n",
       "    }\n",
       "\n",
       "    .dataframe tbody tr th {\n",
       "        vertical-align: top;\n",
       "    }\n",
       "\n",
       "    .dataframe thead th {\n",
       "        text-align: right;\n",
       "    }\n",
       "</style>\n",
       "<table border=\"1\" class=\"dataframe\">\n",
       "  <thead>\n",
       "    <tr style=\"text-align: right;\">\n",
       "      <th></th>\n",
       "      <th>product_name</th>\n",
       "      <th>claim</th>\n",
       "      <th>net_sales</th>\n",
       "      <th>commision_(in_value)</th>\n",
       "      <th>continent</th>\n",
       "      <th>cat_age</th>\n",
       "      <th>cat_duration</th>\n",
       "      <th>net_sales_stand</th>\n",
       "      <th>commision_(in_value)_stand</th>\n",
       "      <th>agency_ADM</th>\n",
       "      <th>...</th>\n",
       "      <th>agency_SSI</th>\n",
       "      <th>agency_TST</th>\n",
       "      <th>agency_TTW</th>\n",
       "      <th>agency_type_Airlines</th>\n",
       "      <th>agency_type_Travel Agency</th>\n",
       "      <th>distribution_channel_Offline</th>\n",
       "      <th>distribution_channel_Online</th>\n",
       "      <th>gender_F</th>\n",
       "      <th>gender_M</th>\n",
       "      <th>gender_PNS</th>\n",
       "    </tr>\n",
       "  </thead>\n",
       "  <tbody>\n",
       "    <tr>\n",
       "      <th>0</th>\n",
       "      <td>3</td>\n",
       "      <td>0</td>\n",
       "      <td>-29.0</td>\n",
       "      <td>9.57</td>\n",
       "      <td>6</td>\n",
       "      <td>3</td>\n",
       "      <td>5</td>\n",
       "      <td>-1.423021</td>\n",
       "      <td>-0.053718</td>\n",
       "      <td>0</td>\n",
       "      <td>...</td>\n",
       "      <td>0</td>\n",
       "      <td>0</td>\n",
       "      <td>0</td>\n",
       "      <td>0</td>\n",
       "      <td>1</td>\n",
       "      <td>1</td>\n",
       "      <td>0</td>\n",
       "      <td>1</td>\n",
       "      <td>0</td>\n",
       "      <td>0</td>\n",
       "    </tr>\n",
       "    <tr>\n",
       "      <th>1</th>\n",
       "      <td>3</td>\n",
       "      <td>0</td>\n",
       "      <td>-29.0</td>\n",
       "      <td>9.57</td>\n",
       "      <td>6</td>\n",
       "      <td>3</td>\n",
       "      <td>5</td>\n",
       "      <td>-1.423021</td>\n",
       "      <td>-0.053718</td>\n",
       "      <td>0</td>\n",
       "      <td>...</td>\n",
       "      <td>0</td>\n",
       "      <td>0</td>\n",
       "      <td>0</td>\n",
       "      <td>0</td>\n",
       "      <td>1</td>\n",
       "      <td>1</td>\n",
       "      <td>0</td>\n",
       "      <td>1</td>\n",
       "      <td>0</td>\n",
       "      <td>0</td>\n",
       "    </tr>\n",
       "    <tr>\n",
       "      <th>2</th>\n",
       "      <td>12</td>\n",
       "      <td>0</td>\n",
       "      <td>-49.5</td>\n",
       "      <td>29.70</td>\n",
       "      <td>4</td>\n",
       "      <td>5</td>\n",
       "      <td>8</td>\n",
       "      <td>-1.829379</td>\n",
       "      <td>0.919850</td>\n",
       "      <td>0</td>\n",
       "      <td>...</td>\n",
       "      <td>0</td>\n",
       "      <td>0</td>\n",
       "      <td>0</td>\n",
       "      <td>0</td>\n",
       "      <td>1</td>\n",
       "      <td>0</td>\n",
       "      <td>1</td>\n",
       "      <td>0</td>\n",
       "      <td>0</td>\n",
       "      <td>1</td>\n",
       "    </tr>\n",
       "    <tr>\n",
       "      <th>3</th>\n",
       "      <td>12</td>\n",
       "      <td>0</td>\n",
       "      <td>-39.6</td>\n",
       "      <td>23.76</td>\n",
       "      <td>4</td>\n",
       "      <td>5</td>\n",
       "      <td>8</td>\n",
       "      <td>-1.633138</td>\n",
       "      <td>0.632567</td>\n",
       "      <td>0</td>\n",
       "      <td>...</td>\n",
       "      <td>0</td>\n",
       "      <td>0</td>\n",
       "      <td>0</td>\n",
       "      <td>0</td>\n",
       "      <td>1</td>\n",
       "      <td>0</td>\n",
       "      <td>1</td>\n",
       "      <td>0</td>\n",
       "      <td>0</td>\n",
       "      <td>1</td>\n",
       "    </tr>\n",
       "    <tr>\n",
       "      <th>4</th>\n",
       "      <td>12</td>\n",
       "      <td>0</td>\n",
       "      <td>-19.8</td>\n",
       "      <td>11.88</td>\n",
       "      <td>5</td>\n",
       "      <td>6</td>\n",
       "      <td>8</td>\n",
       "      <td>-1.240655</td>\n",
       "      <td>0.058003</td>\n",
       "      <td>0</td>\n",
       "      <td>...</td>\n",
       "      <td>0</td>\n",
       "      <td>0</td>\n",
       "      <td>0</td>\n",
       "      <td>0</td>\n",
       "      <td>1</td>\n",
       "      <td>0</td>\n",
       "      <td>1</td>\n",
       "      <td>0</td>\n",
       "      <td>0</td>\n",
       "      <td>1</td>\n",
       "    </tr>\n",
       "  </tbody>\n",
       "</table>\n",
       "<p>5 rows × 32 columns</p>\n",
       "</div>"
      ],
      "text/plain": [
       "   product_name  claim  net_sales  commision_(in_value)  continent  cat_age  \\\n",
       "0             3      0      -29.0                  9.57          6        3   \n",
       "1             3      0      -29.0                  9.57          6        3   \n",
       "2            12      0      -49.5                 29.70          4        5   \n",
       "3            12      0      -39.6                 23.76          4        5   \n",
       "4            12      0      -19.8                 11.88          5        6   \n",
       "\n",
       "   cat_duration  net_sales_stand  commision_(in_value)_stand  agency_ADM  ...  \\\n",
       "0             5        -1.423021                   -0.053718           0  ...   \n",
       "1             5        -1.423021                   -0.053718           0  ...   \n",
       "2             8        -1.829379                    0.919850           0  ...   \n",
       "3             8        -1.633138                    0.632567           0  ...   \n",
       "4             8        -1.240655                    0.058003           0  ...   \n",
       "\n",
       "   agency_SSI  agency_TST  agency_TTW  agency_type_Airlines  \\\n",
       "0           0           0           0                     0   \n",
       "1           0           0           0                     0   \n",
       "2           0           0           0                     0   \n",
       "3           0           0           0                     0   \n",
       "4           0           0           0                     0   \n",
       "\n",
       "   agency_type_Travel Agency  distribution_channel_Offline  \\\n",
       "0                          1                             1   \n",
       "1                          1                             1   \n",
       "2                          1                             0   \n",
       "3                          1                             0   \n",
       "4                          1                             0   \n",
       "\n",
       "   distribution_channel_Online  gender_F  gender_M  gender_PNS  \n",
       "0                            0         1         0           0  \n",
       "1                            0         1         0           0  \n",
       "2                            1         0         0           1  \n",
       "3                            1         0         0           1  \n",
       "4                            1         0         0           1  \n",
       "\n",
       "[5 rows x 32 columns]"
      ]
     },
     "execution_count": 3,
     "metadata": {},
     "output_type": "execute_result"
    }
   ],
   "source": [
    "df = pd.read_csv('../archivos/travel_enco_stand_sin_balanceo.csv', index_col=0)\n",
    "df.head()"
   ]
  },
  {
   "cell_type": "code",
   "execution_count": 4,
   "metadata": {},
   "outputs": [
    {
     "data": {
      "text/plain": [
       "(55284, 32)"
      ]
     },
     "execution_count": 4,
     "metadata": {},
     "output_type": "execute_result"
    }
   ],
   "source": [
    "df.shape"
   ]
  },
  {
   "attachments": {},
   "cell_type": "markdown",
   "metadata": {},
   "source": [
    "### 1. Chequear si los datos están balanceados. En caso de que no lo estén utilizad algunas de las herramientas aprendidas en la lección para balancearlos."
   ]
  },
  {
   "cell_type": "code",
   "execution_count": 5,
   "metadata": {},
   "outputs": [
    {
     "data": {
      "image/png": "[encoded data removed]",
      "text/plain": [
       "<Figure size 576x360 with 1 Axes>"
      ]
     },
     "metadata": {
      "needs_background": "light"
     },
     "output_type": "display_data"
    }
   ],
   "source": [
    "plt.figure(figsize=(8,5))\n",
    "\n",
    "fig1 = sns.countplot(data = df, x = \"claim\")\n",
    "fig1.set(xticklabels=[\"No\", \"Yes\"]) \n",
    "plt.show()"
   ]
  },
  {
   "cell_type": "code",
   "execution_count": 6,
   "metadata": {},
   "outputs": [
    {
     "data": {
      "text/plain": [
       "0    98.334057\n",
       "1     1.665943\n",
       "Name: claim, dtype: float64"
      ]
     },
     "execution_count": 6,
     "metadata": {},
     "output_type": "execute_result"
    }
   ],
   "source": [
    "#Porcentajes variable respuesta\n",
    "df[\"claim\"].value_counts() *100 / df.shape[0]"
   ]
  },
  {
   "attachments": {},
   "cell_type": "markdown",
   "metadata": {},
   "source": [
    "### 3.1. Utilizamos el método SMOTE para balancear la variable respuesta."
   ]
  },
  {
   "cell_type": "code",
   "execution_count": 7,
   "metadata": {},
   "outputs": [],
   "source": [
    "# Separamos la variable respuesta de las predictoras\n",
    "y = df['claim']\n",
    "X = df.drop('claim', axis=1)"
   ]
  },
  {
   "cell_type": "code",
   "execution_count": 8,
   "metadata": {},
   "outputs": [],
   "source": [
    "# dividimos en sets de entrenamiento y test\n",
    "X_train, X_test, y_train, y_test = train_test_split(X, y, train_size=0.7)"
   ]
  },
  {
   "cell_type": "code",
   "execution_count": 9,
   "metadata": {},
   "outputs": [],
   "source": [
    "# iniciamos el método y usaremos \"sampling_strategy\" para limitar el número de \"datos nuevos\" y muchos más duplicados\n",
    "os_us = SMOTETomek(sampling_strategy= 0.4)\n",
    "\n",
    "# ajustamos el modelo\n",
    "X_train_res, y_train_res = os_us.fit_resample(X_train, y_train)"
   ]
  },
  {
   "cell_type": "code",
   "execution_count": 10,
   "metadata": {},
   "outputs": [
    {
     "name": "stdout",
     "output_type": "stream",
     "text": [
      "Distribution before resampling \n",
      " 0    38064\n",
      "1      634\n",
      "Name: claim, dtype: int64\n",
      "..............................................................\n",
      "Distribución después del ajuste \n",
      " 0    37992\n",
      "1    15153\n",
      "Name: claim, dtype: int64\n"
     ]
    }
   ],
   "source": [
    "# comprobemos como han quedado ahora las categorías después del ajuste\n",
    "\n",
    "print (f\"Distribution before resampling \\n {y_train.value_counts()}\" )\n",
    "print(\"..............................................................\")\n",
    "print (f\"Distribución después del ajuste \\n {y_train_res.value_counts()}\")"
   ]
  },
  {
   "cell_type": "code",
   "execution_count": 11,
   "metadata": {},
   "outputs": [
    {
     "data": {
      "text/html": [
       "<div>\n",
       "<style scoped>\n",
       "    .dataframe tbody tr th:only-of-type {\n",
       "        vertical-align: middle;\n",
       "    }\n",
       "\n",
       "    .dataframe tbody tr th {\n",
       "        vertical-align: top;\n",
       "    }\n",
       "\n",
       "    .dataframe thead th {\n",
       "        text-align: right;\n",
       "    }\n",
       "</style>\n",
       "<table border=\"1\" class=\"dataframe\">\n",
       "  <thead>\n",
       "    <tr style=\"text-align: right;\">\n",
       "      <th></th>\n",
       "      <th>product_name</th>\n",
       "      <th>net_sales</th>\n",
       "      <th>commision_(in_value)</th>\n",
       "      <th>continent</th>\n",
       "      <th>cat_age</th>\n",
       "      <th>cat_duration</th>\n",
       "      <th>net_sales_stand</th>\n",
       "      <th>commision_(in_value)_stand</th>\n",
       "      <th>agency_ADM</th>\n",
       "      <th>agency_ART</th>\n",
       "      <th>...</th>\n",
       "      <th>agency_TST</th>\n",
       "      <th>agency_TTW</th>\n",
       "      <th>agency_type_Airlines</th>\n",
       "      <th>agency_type_Travel Agency</th>\n",
       "      <th>distribution_channel_Offline</th>\n",
       "      <th>distribution_channel_Online</th>\n",
       "      <th>gender_F</th>\n",
       "      <th>gender_M</th>\n",
       "      <th>gender_PNS</th>\n",
       "      <th>claim</th>\n",
       "    </tr>\n",
       "  </thead>\n",
       "  <tbody>\n",
       "    <tr>\n",
       "      <th>53140</th>\n",
       "      <td>6</td>\n",
       "      <td>259.200000</td>\n",
       "      <td>64.800000</td>\n",
       "      <td>6</td>\n",
       "      <td>3</td>\n",
       "      <td>2</td>\n",
       "      <td>4.289779</td>\n",
       "      <td>2.617427</td>\n",
       "      <td>0</td>\n",
       "      <td>0</td>\n",
       "      <td>...</td>\n",
       "      <td>0</td>\n",
       "      <td>0</td>\n",
       "      <td>1</td>\n",
       "      <td>0</td>\n",
       "      <td>0</td>\n",
       "      <td>1</td>\n",
       "      <td>1</td>\n",
       "      <td>0</td>\n",
       "      <td>0</td>\n",
       "      <td>1</td>\n",
       "    </tr>\n",
       "    <tr>\n",
       "      <th>53141</th>\n",
       "      <td>10</td>\n",
       "      <td>21.840728</td>\n",
       "      <td>5.464003</td>\n",
       "      <td>6</td>\n",
       "      <td>5</td>\n",
       "      <td>6</td>\n",
       "      <td>-0.415238</td>\n",
       "      <td>-0.252301</td>\n",
       "      <td>0</td>\n",
       "      <td>0</td>\n",
       "      <td>...</td>\n",
       "      <td>0</td>\n",
       "      <td>0</td>\n",
       "      <td>1</td>\n",
       "      <td>0</td>\n",
       "      <td>0</td>\n",
       "      <td>1</td>\n",
       "      <td>0</td>\n",
       "      <td>1</td>\n",
       "      <td>0</td>\n",
       "      <td>1</td>\n",
       "    </tr>\n",
       "    <tr>\n",
       "      <th>53142</th>\n",
       "      <td>7</td>\n",
       "      <td>72.000000</td>\n",
       "      <td>18.000000</td>\n",
       "      <td>6</td>\n",
       "      <td>5</td>\n",
       "      <td>5</td>\n",
       "      <td>0.579036</td>\n",
       "      <td>0.353991</td>\n",
       "      <td>0</td>\n",
       "      <td>0</td>\n",
       "      <td>...</td>\n",
       "      <td>0</td>\n",
       "      <td>0</td>\n",
       "      <td>1</td>\n",
       "      <td>0</td>\n",
       "      <td>0</td>\n",
       "      <td>1</td>\n",
       "      <td>1</td>\n",
       "      <td>0</td>\n",
       "      <td>0</td>\n",
       "      <td>1</td>\n",
       "    </tr>\n",
       "    <tr>\n",
       "      <th>53143</th>\n",
       "      <td>6</td>\n",
       "      <td>253.188694</td>\n",
       "      <td>63.298582</td>\n",
       "      <td>6</td>\n",
       "      <td>4</td>\n",
       "      <td>5</td>\n",
       "      <td>4.170621</td>\n",
       "      <td>2.544813</td>\n",
       "      <td>0</td>\n",
       "      <td>0</td>\n",
       "      <td>...</td>\n",
       "      <td>0</td>\n",
       "      <td>0</td>\n",
       "      <td>1</td>\n",
       "      <td>0</td>\n",
       "      <td>0</td>\n",
       "      <td>1</td>\n",
       "      <td>1</td>\n",
       "      <td>0</td>\n",
       "      <td>0</td>\n",
       "      <td>1</td>\n",
       "    </tr>\n",
       "    <tr>\n",
       "      <th>53144</th>\n",
       "      <td>10</td>\n",
       "      <td>38.830535</td>\n",
       "      <td>9.708286</td>\n",
       "      <td>6</td>\n",
       "      <td>5</td>\n",
       "      <td>6</td>\n",
       "      <td>-0.078460</td>\n",
       "      <td>-0.047030</td>\n",
       "      <td>0</td>\n",
       "      <td>0</td>\n",
       "      <td>...</td>\n",
       "      <td>0</td>\n",
       "      <td>0</td>\n",
       "      <td>1</td>\n",
       "      <td>0</td>\n",
       "      <td>0</td>\n",
       "      <td>1</td>\n",
       "      <td>1</td>\n",
       "      <td>0</td>\n",
       "      <td>0</td>\n",
       "      <td>1</td>\n",
       "    </tr>\n",
       "  </tbody>\n",
       "</table>\n",
       "<p>5 rows × 32 columns</p>\n",
       "</div>"
      ],
      "text/plain": [
       "       product_name   net_sales  commision_(in_value)  continent  cat_age  \\\n",
       "53140             6  259.200000             64.800000          6        3   \n",
       "53141            10   21.840728              5.464003          6        5   \n",
       "53142             7   72.000000             18.000000          6        5   \n",
       "53143             6  253.188694             63.298582          6        4   \n",
       "53144            10   38.830535              9.708286          6        5   \n",
       "\n",
       "       cat_duration  net_sales_stand  commision_(in_value)_stand  agency_ADM  \\\n",
       "53140             2         4.289779                    2.617427           0   \n",
       "53141             6        -0.415238                   -0.252301           0   \n",
       "53142             5         0.579036                    0.353991           0   \n",
       "53143             5         4.170621                    2.544813           0   \n",
       "53144             6        -0.078460                   -0.047030           0   \n",
       "\n",
       "       agency_ART  ...  agency_TST  agency_TTW  agency_type_Airlines  \\\n",
       "53140           0  ...           0           0                     1   \n",
       "53141           0  ...           0           0                     1   \n",
       "53142           0  ...           0           0                     1   \n",
       "53143           0  ...           0           0                     1   \n",
       "53144           0  ...           0           0                     1   \n",
       "\n",
       "       agency_type_Travel Agency  distribution_channel_Offline  \\\n",
       "53140                          0                             0   \n",
       "53141                          0                             0   \n",
       "53142                          0                             0   \n",
       "53143                          0                             0   \n",
       "53144                          0                             0   \n",
       "\n",
       "       distribution_channel_Online  gender_F  gender_M  gender_PNS  claim  \n",
       "53140                            1         1         0           0      1  \n",
       "53141                            1         0         1           0      1  \n",
       "53142                            1         1         0           0      1  \n",
       "53143                            1         1         0           0      1  \n",
       "53144                            1         1         0           0      1  \n",
       "\n",
       "[5 rows x 32 columns]"
      ]
     },
     "execution_count": 11,
     "metadata": {},
     "output_type": "execute_result"
    }
   ],
   "source": [
    "df_balanceado = pd.concat([X_train_res, y_train_res], axis = 1)\n",
    "df_balanceado.tail()"
   ]
  },
  {
   "cell_type": "code",
   "execution_count": 12,
   "metadata": {},
   "outputs": [
    {
     "data": {
      "text/plain": [
       "0    37992\n",
       "1    15153\n",
       "Name: claim, dtype: int64"
      ]
     },
     "execution_count": 12,
     "metadata": {},
     "output_type": "execute_result"
    }
   ],
   "source": [
    "df_balanceado.claim.value_counts()"
   ]
  },
  {
   "cell_type": "code",
   "execution_count": 13,
   "metadata": {},
   "outputs": [
    {
     "data": {
      "text/plain": [
       "33550"
      ]
     },
     "execution_count": 13,
     "metadata": {},
     "output_type": "execute_result"
    }
   ],
   "source": [
    "# comprobamos duplicados\n",
    "df_balanceado.duplicated().sum()"
   ]
  },
  {
   "cell_type": "code",
   "execution_count": 14,
   "metadata": {},
   "outputs": [],
   "source": [
    "df_bal_sin_duplicados = df_balanceado.drop_duplicates()"
   ]
  },
  {
   "attachments": {},
   "cell_type": "markdown",
   "metadata": {},
   "source": [
    "### 4. Guardad el dataframe."
   ]
  },
  {
   "cell_type": "code",
   "execution_count": 15,
   "metadata": {},
   "outputs": [],
   "source": [
    "df_balanceado.to_csv('../archivos/travel_balanceado.csv')"
   ]
  },
  {
   "cell_type": "code",
   "execution_count": 16,
   "metadata": {},
   "outputs": [],
   "source": [
    "df_bal_sin_duplicados.to_csv('../archivos/travel_balanceado_sin_dupl.csv')"
   ]
  },
  {
   "cell_type": "code",
   "execution_count": 17,
   "metadata": {},
   "outputs": [
    {
     "data": {
      "text/plain": [
       "(53145, 32)"
      ]
     },
     "execution_count": 17,
     "metadata": {},
     "output_type": "execute_result"
    }
   ],
   "source": [
    "df_balanceado.shape"
   ]
  },
  {
   "cell_type": "code",
   "execution_count": 18,
   "metadata": {},
   "outputs": [
    {
     "data": {
      "text/plain": [
       "(19595, 32)"
      ]
     },
     "execution_count": 18,
     "metadata": {},
     "output_type": "execute_result"
    }
   ],
   "source": [
    "df_bal_sin_duplicados.shape"
   ]
  }
 ],
 "metadata": {
  "kernelspec": {
   "display_name": "base",
   "language": "python",
   "name": "python3"
  },
  "language_info": {
   "codemirror_mode": {
    "name": "ipython",
    "version": 3
   },
   "file_extension": ".py",
   "mimetype": "text/x-python",
   "name": "python",
   "nbconvert_exporter": "python",
   "pygments_lexer": "ipython3",
   "version": "3.9.7 (default, Sep 16 2021, 13:09:58) \n[GCC 7.5.0]"
  },
  "orig_nbformat": 4,
  "vscode": {
   "interpreter": {
    "hash": "b3191f930eabfdf0eb39086a24df618ea48425015dbb471465fb2c793fed20fd"
   }
  }
 },
 "nbformat": 4,
 "nbformat_minor": 2
}
