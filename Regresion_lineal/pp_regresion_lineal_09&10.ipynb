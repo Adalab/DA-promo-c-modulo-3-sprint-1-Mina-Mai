{
 "cells": [
  {
   "attachments": {},
   "cell_type": "markdown",
   "metadata": {},
   "source": [
    "## Pair Programming - Regresión lineal 9\n",
    "\n",
    "### Regresión lineal Intro\n",
    "\n",
    "---"
   ]
  },
  {
   "cell_type": "code",
   "execution_count": 3,
   "metadata": {},
   "outputs": [],
   "source": [
    "# Tratamiento de datos\n",
    "import pandas as pd\n",
    "import numpy as np\n",
    "\n",
    "# Gráficos\n",
    "import matplotlib.pyplot as plt\n",
    "import seaborn as sns\n",
    "\n",
    "# Modelado y evaluación\n",
    "from sklearn.model_selection import train_test_split\n",
    "from sklearn.linear_model import LinearRegression\n",
    "from sklearn.metrics import r2_score, mean_squared_error, mean_absolute_error\n",
    "\n",
    "# Crossvalidation\n",
    "from sklearn.model_selection import cross_val_score\n",
    "from sklearn.model_selection import cross_validate\n",
    "from sklearn import metrics\n",
    "\n",
    "# Configuración warnings\n",
    "import warnings\n",
    "warnings.filterwarnings('ignore')"
   ]
  },
  {
   "attachments": {},
   "cell_type": "markdown",
   "metadata": {},
   "source": [
    "En el pair programming de hoy debéis usar el csv que guardastéis cuando hicistéis el pairprgramming de codificicación (este csv debería tener las variables estadandarizas).\n",
    "\n",
    "El objetivo de este pairprogramming es que hagáis vuestro primer modelo de machine learning. Para eso recordad que:"
   ]
  },
  {
   "cell_type": "markdown",
   "metadata": {},
   "source": [
    "- Deberéis separar la X y la y.\n",
    "- Deberéis crear el train y el test.\n",
    "- Ajustar vuestro modelo."
   ]
  },
  {
   "cell_type": "code",
   "execution_count": 4,
   "metadata": {},
   "outputs": [
    {
     "data": {
      "text/html": [
       "<div>\n",
       "<style scoped>\n",
       "    .dataframe tbody tr th:only-of-type {\n",
       "        vertical-align: middle;\n",
       "    }\n",
       "\n",
       "    .dataframe tbody tr th {\n",
       "        vertical-align: top;\n",
       "    }\n",
       "\n",
       "    .dataframe thead th {\n",
       "        text-align: right;\n",
       "    }\n",
       "</style>\n",
       "<table border=\"1\" class=\"dataframe\">\n",
       "  <thead>\n",
       "    <tr style=\"text-align: right;\">\n",
       "      <th></th>\n",
       "      <th>index</th>\n",
       "      <th>temp</th>\n",
       "      <th>rain_1h</th>\n",
       "      <th>snow_1h</th>\n",
       "      <th>clouds_all</th>\n",
       "      <th>weather_main</th>\n",
       "      <th>traffic_box</th>\n",
       "      <th>traffic_volume</th>\n",
       "    </tr>\n",
       "  </thead>\n",
       "  <tbody>\n",
       "    <tr>\n",
       "      <th>0</th>\n",
       "      <td>0</td>\n",
       "      <td>0.738354</td>\n",
       "      <td>-0.13315</td>\n",
       "      <td>-0.032598</td>\n",
       "      <td>-0.753862</td>\n",
       "      <td>1</td>\n",
       "      <td>2101.064038</td>\n",
       "      <td>3539</td>\n",
       "    </tr>\n",
       "    <tr>\n",
       "      <th>1</th>\n",
       "      <td>1</td>\n",
       "      <td>0.619383</td>\n",
       "      <td>-0.13315</td>\n",
       "      <td>-0.032598</td>\n",
       "      <td>-1.241251</td>\n",
       "      <td>1</td>\n",
       "      <td>1681.830454</td>\n",
       "      <td>2784</td>\n",
       "    </tr>\n",
       "    <tr>\n",
       "      <th>2</th>\n",
       "      <td>2</td>\n",
       "      <td>0.561768</td>\n",
       "      <td>-0.13315</td>\n",
       "      <td>-0.032598</td>\n",
       "      <td>-1.241251</td>\n",
       "      <td>1</td>\n",
       "      <td>1443.409194</td>\n",
       "      <td>2361</td>\n",
       "    </tr>\n",
       "    <tr>\n",
       "      <th>3</th>\n",
       "      <td>3</td>\n",
       "      <td>-0.185732</td>\n",
       "      <td>-0.13315</td>\n",
       "      <td>-0.032598</td>\n",
       "      <td>-1.241251</td>\n",
       "      <td>1</td>\n",
       "      <td>1644.814972</td>\n",
       "      <td>2718</td>\n",
       "    </tr>\n",
       "    <tr>\n",
       "      <th>4</th>\n",
       "      <td>4</td>\n",
       "      <td>0.714410</td>\n",
       "      <td>-0.13315</td>\n",
       "      <td>-0.032598</td>\n",
       "      <td>-0.753862</td>\n",
       "      <td>1</td>\n",
       "      <td>2129.680912</td>\n",
       "      <td>3591</td>\n",
       "    </tr>\n",
       "  </tbody>\n",
       "</table>\n",
       "</div>"
      ],
      "text/plain": [
       "   index      temp  rain_1h   snow_1h  clouds_all  weather_main  traffic_box  \\\n",
       "0      0  0.738354 -0.13315 -0.032598   -0.753862             1  2101.064038   \n",
       "1      1  0.619383 -0.13315 -0.032598   -1.241251             1  1681.830454   \n",
       "2      2  0.561768 -0.13315 -0.032598   -1.241251             1  1443.409194   \n",
       "3      3 -0.185732 -0.13315 -0.032598   -1.241251             1  1644.814972   \n",
       "4      4  0.714410 -0.13315 -0.032598   -0.753862             1  2129.680912   \n",
       "\n",
       "   traffic_volume  \n",
       "0            3539  \n",
       "1            2784  \n",
       "2            2361  \n",
       "3            2718  \n",
       "4            3591  "
      ]
     },
     "execution_count": 4,
     "metadata": {},
     "output_type": "execute_result"
    }
   ],
   "source": [
    "df = pd.read_csv('../archivos/metro_4.csv', index_col=0)\n",
    "df.head()"
   ]
  },
  {
   "cell_type": "code",
   "execution_count": 5,
   "metadata": {},
   "outputs": [],
   "source": [
    "df.drop(['index', 'traffic_volume'], axis= 1, inplace=True)"
   ]
  },
  {
   "cell_type": "code",
   "execution_count": 6,
   "metadata": {},
   "outputs": [
    {
     "data": {
      "text/html": [
       "<div>\n",
       "<style scoped>\n",
       "    .dataframe tbody tr th:only-of-type {\n",
       "        vertical-align: middle;\n",
       "    }\n",
       "\n",
       "    .dataframe tbody tr th {\n",
       "        vertical-align: top;\n",
       "    }\n",
       "\n",
       "    .dataframe thead th {\n",
       "        text-align: right;\n",
       "    }\n",
       "</style>\n",
       "<table border=\"1\" class=\"dataframe\">\n",
       "  <thead>\n",
       "    <tr style=\"text-align: right;\">\n",
       "      <th></th>\n",
       "      <th>temp</th>\n",
       "      <th>rain_1h</th>\n",
       "      <th>snow_1h</th>\n",
       "      <th>clouds_all</th>\n",
       "      <th>weather_main</th>\n",
       "      <th>traffic_box</th>\n",
       "    </tr>\n",
       "  </thead>\n",
       "  <tbody>\n",
       "    <tr>\n",
       "      <th>0</th>\n",
       "      <td>0.738354</td>\n",
       "      <td>-0.13315</td>\n",
       "      <td>-0.032598</td>\n",
       "      <td>-0.753862</td>\n",
       "      <td>1</td>\n",
       "      <td>2101.064038</td>\n",
       "    </tr>\n",
       "    <tr>\n",
       "      <th>1</th>\n",
       "      <td>0.619383</td>\n",
       "      <td>-0.13315</td>\n",
       "      <td>-0.032598</td>\n",
       "      <td>-1.241251</td>\n",
       "      <td>1</td>\n",
       "      <td>1681.830454</td>\n",
       "    </tr>\n",
       "    <tr>\n",
       "      <th>2</th>\n",
       "      <td>0.561768</td>\n",
       "      <td>-0.13315</td>\n",
       "      <td>-0.032598</td>\n",
       "      <td>-1.241251</td>\n",
       "      <td>1</td>\n",
       "      <td>1443.409194</td>\n",
       "    </tr>\n",
       "    <tr>\n",
       "      <th>3</th>\n",
       "      <td>-0.185732</td>\n",
       "      <td>-0.13315</td>\n",
       "      <td>-0.032598</td>\n",
       "      <td>-1.241251</td>\n",
       "      <td>1</td>\n",
       "      <td>1644.814972</td>\n",
       "    </tr>\n",
       "    <tr>\n",
       "      <th>4</th>\n",
       "      <td>0.714410</td>\n",
       "      <td>-0.13315</td>\n",
       "      <td>-0.032598</td>\n",
       "      <td>-0.753862</td>\n",
       "      <td>1</td>\n",
       "      <td>2129.680912</td>\n",
       "    </tr>\n",
       "  </tbody>\n",
       "</table>\n",
       "</div>"
      ],
      "text/plain": [
       "       temp  rain_1h   snow_1h  clouds_all  weather_main  traffic_box\n",
       "0  0.738354 -0.13315 -0.032598   -0.753862             1  2101.064038\n",
       "1  0.619383 -0.13315 -0.032598   -1.241251             1  1681.830454\n",
       "2  0.561768 -0.13315 -0.032598   -1.241251             1  1443.409194\n",
       "3 -0.185732 -0.13315 -0.032598   -1.241251             1  1644.814972\n",
       "4  0.714410 -0.13315 -0.032598   -0.753862             1  2129.680912"
      ]
     },
     "execution_count": 6,
     "metadata": {},
     "output_type": "execute_result"
    }
   ],
   "source": [
    "df.head()"
   ]
  },
  {
   "attachments": {},
   "cell_type": "markdown",
   "metadata": {},
   "source": [
    "### 1. Realizamos la regresión lineal."
   ]
  },
  {
   "cell_type": "code",
   "execution_count": 7,
   "metadata": {},
   "outputs": [],
   "source": [
    "X = df.drop('traffic_box', axis=1)\n",
    "y = df['traffic_box']"
   ]
  },
  {
   "cell_type": "code",
   "execution_count": 8,
   "metadata": {},
   "outputs": [
    {
     "data": {
      "text/html": [
       "<div>\n",
       "<style scoped>\n",
       "    .dataframe tbody tr th:only-of-type {\n",
       "        vertical-align: middle;\n",
       "    }\n",
       "\n",
       "    .dataframe tbody tr th {\n",
       "        vertical-align: top;\n",
       "    }\n",
       "\n",
       "    .dataframe thead th {\n",
       "        text-align: right;\n",
       "    }\n",
       "</style>\n",
       "<table border=\"1\" class=\"dataframe\">\n",
       "  <thead>\n",
       "    <tr style=\"text-align: right;\">\n",
       "      <th></th>\n",
       "      <th>temp</th>\n",
       "      <th>rain_1h</th>\n",
       "      <th>snow_1h</th>\n",
       "      <th>clouds_all</th>\n",
       "      <th>weather_main</th>\n",
       "    </tr>\n",
       "  </thead>\n",
       "  <tbody>\n",
       "    <tr>\n",
       "      <th>0</th>\n",
       "      <td>0.738354</td>\n",
       "      <td>-0.13315</td>\n",
       "      <td>-0.032598</td>\n",
       "      <td>-0.753862</td>\n",
       "      <td>1</td>\n",
       "    </tr>\n",
       "    <tr>\n",
       "      <th>1</th>\n",
       "      <td>0.619383</td>\n",
       "      <td>-0.13315</td>\n",
       "      <td>-0.032598</td>\n",
       "      <td>-1.241251</td>\n",
       "      <td>1</td>\n",
       "    </tr>\n",
       "    <tr>\n",
       "      <th>2</th>\n",
       "      <td>0.561768</td>\n",
       "      <td>-0.13315</td>\n",
       "      <td>-0.032598</td>\n",
       "      <td>-1.241251</td>\n",
       "      <td>1</td>\n",
       "    </tr>\n",
       "    <tr>\n",
       "      <th>3</th>\n",
       "      <td>-0.185732</td>\n",
       "      <td>-0.13315</td>\n",
       "      <td>-0.032598</td>\n",
       "      <td>-1.241251</td>\n",
       "      <td>1</td>\n",
       "    </tr>\n",
       "    <tr>\n",
       "      <th>4</th>\n",
       "      <td>0.714410</td>\n",
       "      <td>-0.13315</td>\n",
       "      <td>-0.032598</td>\n",
       "      <td>-0.753862</td>\n",
       "      <td>1</td>\n",
       "    </tr>\n",
       "  </tbody>\n",
       "</table>\n",
       "</div>"
      ],
      "text/plain": [
       "       temp  rain_1h   snow_1h  clouds_all  weather_main\n",
       "0  0.738354 -0.13315 -0.032598   -0.753862             1\n",
       "1  0.619383 -0.13315 -0.032598   -1.241251             1\n",
       "2  0.561768 -0.13315 -0.032598   -1.241251             1\n",
       "3 -0.185732 -0.13315 -0.032598   -1.241251             1\n",
       "4  0.714410 -0.13315 -0.032598   -0.753862             1"
      ]
     },
     "execution_count": 8,
     "metadata": {},
     "output_type": "execute_result"
    }
   ],
   "source": [
    "X.head()"
   ]
  },
  {
   "cell_type": "code",
   "execution_count": 9,
   "metadata": {},
   "outputs": [
    {
     "data": {
      "text/plain": [
       "0    2101.064038\n",
       "1    1681.830454\n",
       "2    1443.409194\n",
       "3    1644.814972\n",
       "4    2129.680912\n",
       "Name: traffic_box, dtype: float64"
      ]
     },
     "execution_count": 9,
     "metadata": {},
     "output_type": "execute_result"
    }
   ],
   "source": [
    "y.head()"
   ]
  },
  {
   "cell_type": "code",
   "execution_count": 10,
   "metadata": {},
   "outputs": [],
   "source": [
    "# Dividimos los datos en datos de entrenamiento y datos de testeo\n",
    "x_train, x_test, y_train, y_test = train_test_split(X, y, test_size = 0.2, random_state = 42)"
   ]
  },
  {
   "cell_type": "code",
   "execution_count": 11,
   "metadata": {},
   "outputs": [],
   "source": [
    "# Iniciamos la regresión lineal\n",
    "lr = LinearRegression(n_jobs=-1)"
   ]
  },
  {
   "cell_type": "code",
   "execution_count": 12,
   "metadata": {},
   "outputs": [
    {
     "data": {
      "text/plain": [
       "LinearRegression(n_jobs=-1)"
      ]
     },
     "execution_count": 12,
     "metadata": {},
     "output_type": "execute_result"
    }
   ],
   "source": [
    "# Le pasamos los datos de entrenamiento\n",
    "lr.fit(x_train, y_train)"
   ]
  },
  {
   "cell_type": "code",
   "execution_count": 13,
   "metadata": {},
   "outputs": [],
   "source": [
    "# Hacemos las predicciones, usando el método predict() de sklearn \n",
    "y_predict_train = lr.predict(x_train) \n",
    "y_predict_test = lr.predict(x_test) "
   ]
  },
  {
   "cell_type": "code",
   "execution_count": 14,
   "metadata": {},
   "outputs": [
    {
     "data": {
      "text/html": [
       "<div>\n",
       "<style scoped>\n",
       "    .dataframe tbody tr th:only-of-type {\n",
       "        vertical-align: middle;\n",
       "    }\n",
       "\n",
       "    .dataframe tbody tr th {\n",
       "        vertical-align: top;\n",
       "    }\n",
       "\n",
       "    .dataframe thead th {\n",
       "        text-align: right;\n",
       "    }\n",
       "</style>\n",
       "<table border=\"1\" class=\"dataframe\">\n",
       "  <thead>\n",
       "    <tr style=\"text-align: right;\">\n",
       "      <th></th>\n",
       "      <th>Real</th>\n",
       "      <th>Predicted</th>\n",
       "      <th>Set</th>\n",
       "    </tr>\n",
       "  </thead>\n",
       "  <tbody>\n",
       "    <tr>\n",
       "      <th>480</th>\n",
       "      <td>1247.791770</td>\n",
       "      <td>1742.752956</td>\n",
       "      <td>Train</td>\n",
       "    </tr>\n",
       "    <tr>\n",
       "      <th>2995</th>\n",
       "      <td>1576.218141</td>\n",
       "      <td>1717.663973</td>\n",
       "      <td>Train</td>\n",
       "    </tr>\n",
       "    <tr>\n",
       "      <th>8483</th>\n",
       "      <td>1980.199934</td>\n",
       "      <td>1777.477622</td>\n",
       "      <td>Train</td>\n",
       "    </tr>\n",
       "    <tr>\n",
       "      <th>4665</th>\n",
       "      <td>1803.647225</td>\n",
       "      <td>1738.199500</td>\n",
       "      <td>Train</td>\n",
       "    </tr>\n",
       "    <tr>\n",
       "      <th>7139</th>\n",
       "      <td>1604.359455</td>\n",
       "      <td>1750.458995</td>\n",
       "      <td>Train</td>\n",
       "    </tr>\n",
       "  </tbody>\n",
       "</table>\n",
       "</div>"
      ],
      "text/plain": [
       "             Real    Predicted    Set\n",
       "480   1247.791770  1742.752956  Train\n",
       "2995  1576.218141  1717.663973  Train\n",
       "8483  1980.199934  1777.477622  Train\n",
       "4665  1803.647225  1738.199500  Train\n",
       "7139  1604.359455  1750.458995  Train"
      ]
     },
     "execution_count": 14,
     "metadata": {},
     "output_type": "execute_result"
    }
   ],
   "source": [
    "# Vemos los resultados\n",
    "train_df = pd.DataFrame({'Real': y_train, 'Predicted': y_predict_train, 'Set': ['Train']*len(y_train)})\n",
    "test_df  = pd.DataFrame({'Real': y_test,  'Predicted': y_predict_test,  'Set': ['Test']*len(y_test)})\n",
    "resultados = pd.concat([train_df,test_df], axis = 0)\n",
    "resultados.head()\n"
   ]
  },
  {
   "cell_type": "code",
   "execution_count": 15,
   "metadata": {},
   "outputs": [
    {
     "data": {
      "text/html": [
       "<div>\n",
       "<style scoped>\n",
       "    .dataframe tbody tr th:only-of-type {\n",
       "        vertical-align: middle;\n",
       "    }\n",
       "\n",
       "    .dataframe tbody tr th {\n",
       "        vertical-align: top;\n",
       "    }\n",
       "\n",
       "    .dataframe thead th {\n",
       "        text-align: right;\n",
       "    }\n",
       "</style>\n",
       "<table border=\"1\" class=\"dataframe\">\n",
       "  <thead>\n",
       "    <tr style=\"text-align: right;\">\n",
       "      <th></th>\n",
       "      <th>Real</th>\n",
       "      <th>Predicted</th>\n",
       "      <th>Set</th>\n",
       "      <th>residuos</th>\n",
       "    </tr>\n",
       "  </thead>\n",
       "  <tbody>\n",
       "    <tr>\n",
       "      <th>480</th>\n",
       "      <td>1247.791770</td>\n",
       "      <td>1742.752956</td>\n",
       "      <td>Train</td>\n",
       "      <td>-494.961186</td>\n",
       "    </tr>\n",
       "    <tr>\n",
       "      <th>2995</th>\n",
       "      <td>1576.218141</td>\n",
       "      <td>1717.663973</td>\n",
       "      <td>Train</td>\n",
       "      <td>-141.445832</td>\n",
       "    </tr>\n",
       "    <tr>\n",
       "      <th>8483</th>\n",
       "      <td>1980.199934</td>\n",
       "      <td>1777.477622</td>\n",
       "      <td>Train</td>\n",
       "      <td>202.722312</td>\n",
       "    </tr>\n",
       "    <tr>\n",
       "      <th>4665</th>\n",
       "      <td>1803.647225</td>\n",
       "      <td>1738.199500</td>\n",
       "      <td>Train</td>\n",
       "      <td>65.447725</td>\n",
       "    </tr>\n",
       "    <tr>\n",
       "      <th>7139</th>\n",
       "      <td>1604.359455</td>\n",
       "      <td>1750.458995</td>\n",
       "      <td>Train</td>\n",
       "      <td>-146.099540</td>\n",
       "    </tr>\n",
       "  </tbody>\n",
       "</table>\n",
       "</div>"
      ],
      "text/plain": [
       "             Real    Predicted    Set    residuos\n",
       "480   1247.791770  1742.752956  Train -494.961186\n",
       "2995  1576.218141  1717.663973  Train -141.445832\n",
       "8483  1980.199934  1777.477622  Train  202.722312\n",
       "4665  1803.647225  1738.199500  Train   65.447725\n",
       "7139  1604.359455  1750.458995  Train -146.099540"
      ]
     },
     "execution_count": 15,
     "metadata": {},
     "output_type": "execute_result"
    }
   ],
   "source": [
    "# Vemos los residuos\n",
    "resultados['residuos'] = resultados['Real'] - resultados['Predicted']\n",
    "resultados.head()"
   ]
  },
  {
   "cell_type": "code",
   "execution_count": 16,
   "metadata": {},
   "outputs": [
    {
     "data": {
      "image/png": "[encoded data removed]",
      "text/plain": [
       "<Figure size 1080x1080 with 4 Axes>"
      ]
     },
     "metadata": {
      "needs_background": "light"
     },
     "output_type": "display_data"
    }
   ],
   "source": [
    "fig, ax = plt.subplots(2,2,figsize=(15,15))\n",
    "\n",
    "# Vemos con gráficas los reales y los predichos\n",
    "sns.regplot(data = resultados[resultados['Set'] == \"Train\"], \n",
    "            x = \"Real\", \n",
    "            y = \"Predicted\", \n",
    "            ax = ax[0,0], \n",
    "            color = \"grey\",\n",
    "            line_kws = {\"color\": \"red\", \"alpha\": 0.7 })\n",
    "\n",
    "\n",
    "sns.regplot(data = resultados[resultados['Set'] == \"Test\"], \n",
    "            x = \"Real\",\n",
    "            y = \"Predicted\", \n",
    "            color = \"gray\",\n",
    "            line_kws = {\"color\": \"red\", \"alpha\": 0.7 }, \n",
    "            ax = ax[1,0])\n",
    "\n",
    "\n",
    "# Vemos con gráficas los residuos\n",
    "sns.histplot(resultados[resultados['Set'] == \"Train\"],\n",
    "             x=\"residuos\",\n",
    "             color =\"grey\",\n",
    "             kde=True, \n",
    "             ax = ax[0,1])\n",
    "\n",
    "\n",
    "sns.histplot(resultados[resultados['Set'] == \"Test\"],\n",
    "             x=\"residuos\",\n",
    "             color = \"grey\",\n",
    "             kde=True, \n",
    "             ax = ax[1,1])\n",
    "\n",
    "ax[0,0].set_title(\"Train reales vs predichos\", fontsize = 15, fontweight = \"bold\")\n",
    "ax[0,1].set_title(\"Train residuos\", fontsize = 15, fontweight = \"bold\")\n",
    "ax[1,0].set_title(\"Test reales vs predichos\", fontsize = 15, fontweight = \"bold\")\n",
    "ax[1,1].set_title(\"Test residuos\", fontsize = 15, fontweight = \"bold\");"
   ]
  },
  {
   "attachments": {},
   "cell_type": "markdown",
   "metadata": {},
   "source": [
    "### 2. Realizamos la regresión lineal con el método Cross-Validation"
   ]
  },
  {
   "cell_type": "code",
   "execution_count": 17,
   "metadata": {},
   "outputs": [
    {
     "name": "stdout",
     "output_type": "stream",
     "text": [
      "Métricas validación cruzada: [-270.78639876 -253.81330662 -265.11757054 -250.98247046 -258.1480852\n",
      " -255.80817683 -267.32353159 -248.08650837 -270.8500602  -250.87253076]\n",
      "Média métricas de validación cruzada: -259.1788639327384\n"
     ]
    }
   ],
   "source": [
    "# Validación cruzada repetida con una única métrica\n",
    "cv_scores = cross_val_score(\n",
    "                estimator = LinearRegression(), #algoritmo\n",
    "                X         = X, \n",
    "                y         = y, \n",
    "                scoring   = 'neg_root_mean_squared_error',  #métrica\n",
    "                cv        = 10 # nº iteraciones\n",
    "             )\n",
    "\n",
    "print(f\"Métricas validación cruzada: {cv_scores}\") # las métricas para cada una de las iteraciones\n",
    "print(f\"Média métricas de validación cruzada: {cv_scores.mean()}\") # la media de todas las iteraciones."
   ]
  },
  {
   "cell_type": "code",
   "execution_count": 18,
   "metadata": {},
   "outputs": [
    {
     "data": {
      "text/html": [
       "<div>\n",
       "<style scoped>\n",
       "    .dataframe tbody tr th:only-of-type {\n",
       "        vertical-align: middle;\n",
       "    }\n",
       "\n",
       "    .dataframe tbody tr th {\n",
       "        vertical-align: top;\n",
       "    }\n",
       "\n",
       "    .dataframe thead th {\n",
       "        text-align: right;\n",
       "    }\n",
       "</style>\n",
       "<table border=\"1\" class=\"dataframe\">\n",
       "  <thead>\n",
       "    <tr style=\"text-align: right;\">\n",
       "      <th></th>\n",
       "      <th>fit_time</th>\n",
       "      <th>score_time</th>\n",
       "      <th>test_r2</th>\n",
       "      <th>test_neg_root_mean_squared_error</th>\n",
       "    </tr>\n",
       "  </thead>\n",
       "  <tbody>\n",
       "    <tr>\n",
       "      <th>0</th>\n",
       "      <td>0.008883</td>\n",
       "      <td>0.004340</td>\n",
       "      <td>-0.008688</td>\n",
       "      <td>-270.786399</td>\n",
       "    </tr>\n",
       "    <tr>\n",
       "      <th>1</th>\n",
       "      <td>0.004484</td>\n",
       "      <td>0.002830</td>\n",
       "      <td>0.005385</td>\n",
       "      <td>-253.813307</td>\n",
       "    </tr>\n",
       "    <tr>\n",
       "      <th>2</th>\n",
       "      <td>0.010888</td>\n",
       "      <td>0.006951</td>\n",
       "      <td>-0.008539</td>\n",
       "      <td>-265.117571</td>\n",
       "    </tr>\n",
       "    <tr>\n",
       "      <th>3</th>\n",
       "      <td>0.003718</td>\n",
       "      <td>0.002468</td>\n",
       "      <td>0.031928</td>\n",
       "      <td>-250.982470</td>\n",
       "    </tr>\n",
       "    <tr>\n",
       "      <th>4</th>\n",
       "      <td>0.007710</td>\n",
       "      <td>0.001941</td>\n",
       "      <td>0.008383</td>\n",
       "      <td>-258.148085</td>\n",
       "    </tr>\n",
       "    <tr>\n",
       "      <th>5</th>\n",
       "      <td>0.002554</td>\n",
       "      <td>0.001431</td>\n",
       "      <td>-0.025007</td>\n",
       "      <td>-255.808177</td>\n",
       "    </tr>\n",
       "    <tr>\n",
       "      <th>6</th>\n",
       "      <td>0.002312</td>\n",
       "      <td>0.006676</td>\n",
       "      <td>0.009410</td>\n",
       "      <td>-267.323532</td>\n",
       "    </tr>\n",
       "    <tr>\n",
       "      <th>7</th>\n",
       "      <td>0.009343</td>\n",
       "      <td>0.015582</td>\n",
       "      <td>0.007660</td>\n",
       "      <td>-248.086508</td>\n",
       "    </tr>\n",
       "    <tr>\n",
       "      <th>8</th>\n",
       "      <td>0.008955</td>\n",
       "      <td>0.002415</td>\n",
       "      <td>-0.057284</td>\n",
       "      <td>-270.850060</td>\n",
       "    </tr>\n",
       "    <tr>\n",
       "      <th>9</th>\n",
       "      <td>0.003626</td>\n",
       "      <td>0.003051</td>\n",
       "      <td>0.028771</td>\n",
       "      <td>-250.872531</td>\n",
       "    </tr>\n",
       "  </tbody>\n",
       "</table>\n",
       "</div>"
      ],
      "text/plain": [
       "   fit_time  score_time   test_r2  test_neg_root_mean_squared_error\n",
       "0  0.008883    0.004340 -0.008688                       -270.786399\n",
       "1  0.004484    0.002830  0.005385                       -253.813307\n",
       "2  0.010888    0.006951 -0.008539                       -265.117571\n",
       "3  0.003718    0.002468  0.031928                       -250.982470\n",
       "4  0.007710    0.001941  0.008383                       -258.148085\n",
       "5  0.002554    0.001431 -0.025007                       -255.808177\n",
       "6  0.002312    0.006676  0.009410                       -267.323532\n",
       "7  0.009343    0.015582  0.007660                       -248.086508\n",
       "8  0.008955    0.002415 -0.057284                       -270.850060\n",
       "9  0.003626    0.003051  0.028771                       -250.872531"
      ]
     },
     "execution_count": 18,
     "metadata": {},
     "output_type": "execute_result"
    }
   ],
   "source": [
    "# Validación cruzada repetida con múltiples métricas\n",
    "cv_scores = cross_validate(\n",
    "                estimator = LinearRegression(),\n",
    "                X         = X,\n",
    "                y         = y,\n",
    "                scoring   = ('r2', 'neg_root_mean_squared_error'),\n",
    "                cv        = 10)\n",
    "\n",
    "cv_scores = pd.DataFrame(cv_scores)\n",
    "cv_scores"
   ]
  },
  {
   "cell_type": "code",
   "execution_count": 19,
   "metadata": {},
   "outputs": [
    {
     "name": "stdout",
     "output_type": "stream",
     "text": [
      "la media para el r2 es -0.0\n",
      "la media para el RMSE es 259.18\n"
     ]
    }
   ],
   "source": [
    "# calculamos la media para cada una de las métricas\n",
    "\n",
    "print(f'la media para el r2 es {cv_scores[\"test_r2\"].mean().round(2)}')\n",
    "print(f'la media para el RMSE es {abs(cv_scores[\"test_neg_root_mean_squared_error\"].mean()).round(2)}')"
   ]
  },
  {
   "attachments": {},
   "cell_type": "markdown",
   "metadata": {},
   "source": [
    "### 3. Cálculo de métricas. \n",
    "### Pair programming 10 - Regresión lineal métricas"
   ]
  },
  {
   "attachments": {},
   "cell_type": "markdown",
   "metadata": {},
   "source": [
    "En el pair programming anterior creastéis vuestro primer modelo de machine learning usando la regresion Lineal. Es el momento, que con vuestros datos evaluéis si es bueno haciendo predicciones. Los objetivo de este pairprogramming son:\n",
    "\n",
    "- Calculéis las métricas para vuestro modelo\n",
    "- Discutid los resultados de las métricas y extraed conclusiones\n",
    "- Guardad los resultados de las métricas en un csv para usarlo más adelante."
   ]
  },
  {
   "cell_type": "code",
   "execution_count": 20,
   "metadata": {},
   "outputs": [
    {
     "data": {
      "text/html": [
       "<div>\n",
       "<style scoped>\n",
       "    .dataframe tbody tr th:only-of-type {\n",
       "        vertical-align: middle;\n",
       "    }\n",
       "\n",
       "    .dataframe tbody tr th {\n",
       "        vertical-align: top;\n",
       "    }\n",
       "\n",
       "    .dataframe thead th {\n",
       "        text-align: right;\n",
       "    }\n",
       "</style>\n",
       "<table border=\"1\" class=\"dataframe\">\n",
       "  <thead>\n",
       "    <tr style=\"text-align: right;\">\n",
       "      <th></th>\n",
       "      <th>MAE</th>\n",
       "      <th>MSE</th>\n",
       "      <th>RMSE</th>\n",
       "      <th>R2</th>\n",
       "      <th>set</th>\n",
       "      <th>modelo</th>\n",
       "    </tr>\n",
       "  </thead>\n",
       "  <tbody>\n",
       "    <tr>\n",
       "      <th>0</th>\n",
       "      <td>210.518843</td>\n",
       "      <td>65706.105082</td>\n",
       "      <td>256.332021</td>\n",
       "      <td>0.015172</td>\n",
       "      <td>test</td>\n",
       "      <td>Linear Regresion</td>\n",
       "    </tr>\n",
       "    <tr>\n",
       "      <th>1</th>\n",
       "      <td>214.320206</td>\n",
       "      <td>66978.132259</td>\n",
       "      <td>258.801337</td>\n",
       "      <td>0.014838</td>\n",
       "      <td>train</td>\n",
       "      <td>Linear Regression</td>\n",
       "    </tr>\n",
       "  </tbody>\n",
       "</table>\n",
       "</div>"
      ],
      "text/plain": [
       "          MAE           MSE        RMSE        R2    set             modelo\n",
       "0  210.518843  65706.105082  256.332021  0.015172   test   Linear Regresion\n",
       "1  214.320206  66978.132259  258.801337  0.014838  train  Linear Regression"
      ]
     },
     "execution_count": 20,
     "metadata": {},
     "output_type": "execute_result"
    }
   ],
   "source": [
    "resultados_metricas = {'MAE': [mean_absolute_error(y_test, y_predict_test), mean_absolute_error(y_train, y_predict_train)],\n",
    "                'MSE': [mean_squared_error(y_test, y_predict_test), mean_squared_error(y_train, y_predict_train)],\n",
    "                'RMSE': [np.sqrt(mean_squared_error(y_test, y_predict_test)), np.sqrt(mean_squared_error(y_train, y_predict_train))],\n",
    "                'R2':  [r2_score(y_test, y_predict_test), r2_score(y_train, y_predict_train)],\n",
    "                 \"set\": [\"test\", \"train\"], \n",
    "                 \"modelo\": [\"Linear Regresion\", \"Linear Regression\"]}\n",
    "\n",
    "df_resultados = pd.DataFrame(resultados_metricas)\n",
    "\n",
    "df_resultados"
   ]
  },
  {
   "cell_type": "code",
   "execution_count": 21,
   "metadata": {},
   "outputs": [],
   "source": [
    "\n",
    "df_resultados.to_csv(\"../archivos/resultados_metro_LR.csv\")"
   ]
  },
  {
   "cell_type": "code",
   "execution_count": 22,
   "metadata": {},
   "outputs": [
    {
     "data": {
      "text/html": [
       "<div>\n",
       "<style scoped>\n",
       "    .dataframe tbody tr th:only-of-type {\n",
       "        vertical-align: middle;\n",
       "    }\n",
       "\n",
       "    .dataframe tbody tr th {\n",
       "        vertical-align: top;\n",
       "    }\n",
       "\n",
       "    .dataframe thead th {\n",
       "        text-align: right;\n",
       "    }\n",
       "</style>\n",
       "<table border=\"1\" class=\"dataframe\">\n",
       "  <thead>\n",
       "    <tr style=\"text-align: right;\">\n",
       "      <th></th>\n",
       "      <th>Real</th>\n",
       "      <th>Predicted</th>\n",
       "      <th>Set</th>\n",
       "      <th>residuos</th>\n",
       "    </tr>\n",
       "  </thead>\n",
       "  <tbody>\n",
       "    <tr>\n",
       "      <th>480</th>\n",
       "      <td>1247.791770</td>\n",
       "      <td>1742.752956</td>\n",
       "      <td>Train</td>\n",
       "      <td>-494.961186</td>\n",
       "    </tr>\n",
       "    <tr>\n",
       "      <th>2995</th>\n",
       "      <td>1576.218141</td>\n",
       "      <td>1717.663973</td>\n",
       "      <td>Train</td>\n",
       "      <td>-141.445832</td>\n",
       "    </tr>\n",
       "    <tr>\n",
       "      <th>8483</th>\n",
       "      <td>1980.199934</td>\n",
       "      <td>1777.477622</td>\n",
       "      <td>Train</td>\n",
       "      <td>202.722312</td>\n",
       "    </tr>\n",
       "    <tr>\n",
       "      <th>4665</th>\n",
       "      <td>1803.647225</td>\n",
       "      <td>1738.199500</td>\n",
       "      <td>Train</td>\n",
       "      <td>65.447725</td>\n",
       "    </tr>\n",
       "    <tr>\n",
       "      <th>7139</th>\n",
       "      <td>1604.359455</td>\n",
       "      <td>1750.458995</td>\n",
       "      <td>Train</td>\n",
       "      <td>-146.099540</td>\n",
       "    </tr>\n",
       "    <tr>\n",
       "      <th>...</th>\n",
       "      <td>...</td>\n",
       "      <td>...</td>\n",
       "      <td>...</td>\n",
       "      <td>...</td>\n",
       "    </tr>\n",
       "    <tr>\n",
       "      <th>474</th>\n",
       "      <td>1343.884447</td>\n",
       "      <td>1742.857884</td>\n",
       "      <td>Test</td>\n",
       "      <td>-398.973436</td>\n",
       "    </tr>\n",
       "    <tr>\n",
       "      <th>4863</th>\n",
       "      <td>1436.602301</td>\n",
       "      <td>1696.131888</td>\n",
       "      <td>Test</td>\n",
       "      <td>-259.529587</td>\n",
       "    </tr>\n",
       "    <tr>\n",
       "      <th>6681</th>\n",
       "      <td>2102.165252</td>\n",
       "      <td>1727.019378</td>\n",
       "      <td>Test</td>\n",
       "      <td>375.145873</td>\n",
       "    </tr>\n",
       "    <tr>\n",
       "      <th>10216</th>\n",
       "      <td>1822.586774</td>\n",
       "      <td>1792.969556</td>\n",
       "      <td>Test</td>\n",
       "      <td>29.617219</td>\n",
       "    </tr>\n",
       "    <tr>\n",
       "      <th>6372</th>\n",
       "      <td>1810.333551</td>\n",
       "      <td>1748.851022</td>\n",
       "      <td>Test</td>\n",
       "      <td>61.482530</td>\n",
       "    </tr>\n",
       "  </tbody>\n",
       "</table>\n",
       "<p>11064 rows × 4 columns</p>\n",
       "</div>"
      ],
      "text/plain": [
       "              Real    Predicted    Set    residuos\n",
       "480    1247.791770  1742.752956  Train -494.961186\n",
       "2995   1576.218141  1717.663973  Train -141.445832\n",
       "8483   1980.199934  1777.477622  Train  202.722312\n",
       "4665   1803.647225  1738.199500  Train   65.447725\n",
       "7139   1604.359455  1750.458995  Train -146.099540\n",
       "...            ...          ...    ...         ...\n",
       "474    1343.884447  1742.857884   Test -398.973436\n",
       "4863   1436.602301  1696.131888   Test -259.529587\n",
       "6681   2102.165252  1727.019378   Test  375.145873\n",
       "10216  1822.586774  1792.969556   Test   29.617219\n",
       "6372   1810.333551  1748.851022   Test   61.482530\n",
       "\n",
       "[11064 rows x 4 columns]"
      ]
     },
     "execution_count": 22,
     "metadata": {},
     "output_type": "execute_result"
    }
   ],
   "source": [
    "resultados"
   ]
  },
  {
   "attachments": {},
   "cell_type": "markdown",
   "metadata": {},
   "source": [
    "**Conclusiones**\n",
    "\n",
    "Viendo los resultados:\n",
    "- El R2 es muy bajo, por tanto nuestras variables predictoras no dan los suficientes datos como para hacer una predicción de la variable respuesta correcta o dentro de unos márgenes aceptables.\n",
    "- El RMSE es muy alto y llegamos a la conclusión de que con los datos que tenemos el tiempo influya en la volumen del tráfico en el metro.\n",
    "\n",
    "Probaremos a realizar otro modelo que incluya otras variables y de probar a no normalizar la variable respuesta.\n"
   ]
  }
 ],
 "metadata": {
  "kernelspec": {
   "display_name": "base",
   "language": "python",
   "name": "python3"
  },
  "language_info": {
   "codemirror_mode": {
    "name": "ipython",
    "version": 3
   },
   "file_extension": ".py",
   "mimetype": "text/x-python",
   "name": "python",
   "nbconvert_exporter": "python",
   "pygments_lexer": "ipython3",
   "version": "3.9.7"
  },
  "orig_nbformat": 4,
  "vscode": {
   "interpreter": {
    "hash": "819a5c43c1fad9e35c5b1180124e231b422fc24c453463d400a90e0aae1b9c8c"
   }
  }
 },
 "nbformat": 4,
 "nbformat_minor": 2
}
