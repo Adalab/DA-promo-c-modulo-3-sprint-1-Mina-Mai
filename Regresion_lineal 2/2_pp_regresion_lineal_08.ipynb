{
 "cells": [
  {
   "attachments": {},
   "cell_type": "markdown",
   "metadata": {},
   "source": [
    "## Pair Programming - Regresión lineal 8\n",
    "\n",
    "### Encoding\n",
    "\n",
    "---"
   ]
  },
  {
   "cell_type": "code",
   "execution_count": 1,
   "metadata": {},
   "outputs": [],
   "source": [
    "import pandas as pd\n",
    "import numpy as np\n",
    "\n",
    "from sklearn.preprocessing import LabelEncoder \n",
    "from sklearn.preprocessing import OneHotEncoder \n",
    "\n",
    "import warnings\n",
    "warnings.filterwarnings('ignore')"
   ]
  },
  {
   "cell_type": "code",
   "execution_count": 2,
   "metadata": {},
   "outputs": [],
   "source": [
    "df= pd.read_csv('../archivos/metro_3.csv', index_col=0)"
   ]
  },
  {
   "cell_type": "code",
   "execution_count": 4,
   "metadata": {},
   "outputs": [
    {
     "data": {
      "text/plain": [
       "array(['Clouds', 'Clear', 'Drizzle', 'Mist', 'Haze', 'Fog', 'Rain',\n",
       "       'Thunderstorm', 'Snow', 'Squall', 'Smoke'], dtype=object)"
      ]
     },
     "execution_count": 4,
     "metadata": {},
     "output_type": "execute_result"
    }
   ],
   "source": [
    "df[\"weather_main\"].unique()"
   ]
  },
  {
   "attachments": {},
   "cell_type": "markdown",
   "metadata": {},
   "source": [
    "En el pair programming de hoy usaremos el set de datos que guardastéis en el pair programming de normalización y estandarización.\n",
    "\n",
    "Vuestro set de datos debería tener al menos una variable categórica, el objetivo del pair programming de hoy:"
   ]
  },
  {
   "attachments": {},
   "cell_type": "markdown",
   "metadata": {},
   "source": [
    "- Hacer una códificación de la/las variables categóricas que tengáis en vuestro set de datos.\n",
    "- Recordad que lo primero que deberéis hacer es decidir su vuestras variables tienen o no orden, para que en función de esto uséis una aproximación u otra.\n"
   ]
  },
  {
   "attachments": {},
   "cell_type": "markdown",
   "metadata": {},
   "source": [
    "Discutimos sobre la importancia de nuestra variable categórica y llegamos a la conclusión de que no es tanto la exactitud del clima como el cocnocimineto general de este. Por tanto crearemos nuevas categorías en base de mejor a peor clima, dándoles más peso a los días peores que a los despejados.\n"
   ]
  },
  {
   "attachments": {},
   "cell_type": "markdown",
   "metadata": {},
   "source": [
    "Drizzle ------ Llovizna -------------- 2\n",
    "\n",
    "Mist --------- Neblina --------------- 2\n",
    "\n",
    "Haze --------- Neblina --------------- 2\n",
    "\n",
    "Fog ---------- Niebla ---------------- 3\n",
    "\n",
    "Rain --------- Lluvia ---------------- 2\n",
    "\n",
    "Squall ------- Borrasca/chubasco ----- 3\n",
    "\n",
    "Smoke -------- Humo ------------------ 3\n",
    "\n",
    "Snow --------- Nieve ----------------- 3\n",
    "\n",
    "Clear -------- Despejado ------------- 1\n",
    "\n",
    "Clouds ------- Nuboso ---------------- 1\n",
    "\n",
    "Thunderstorm-- Tormenta -------------- 3\n"
   ]
  },
  {
   "cell_type": "code",
   "execution_count": 5,
   "metadata": {},
   "outputs": [],
   "source": [
    "mapa_tiempo = {'Clouds' : 1, 'Clear': 1, 'Drizzle': 2, 'Mist': 2, 'Haze': 2, 'Fog': 3, 'Rain': 2,\n",
    "                'Thunderstorm': 3, 'Snow': 3, 'Squall': 3, 'Smoke': 3}"
   ]
  },
  {
   "cell_type": "code",
   "execution_count": 6,
   "metadata": {},
   "outputs": [],
   "source": [
    "df[\"weather_main\"] = df[\"weather_main\"].map(mapa_tiempo)"
   ]
  },
  {
   "cell_type": "code",
   "execution_count": 9,
   "metadata": {},
   "outputs": [
    {
     "data": {
      "text/plain": [
       "1    6740\n",
       "2    3183\n",
       "3    1141\n",
       "Name: weather_main, dtype: int64"
      ]
     },
     "execution_count": 9,
     "metadata": {},
     "output_type": "execute_result"
    }
   ],
   "source": [
    "df[\"weather_main\"].value_counts()"
   ]
  },
  {
   "attachments": {},
   "cell_type": "markdown",
   "metadata": {},
   "source": [
    "_________"
   ]
  },
  {
   "attachments": {},
   "cell_type": "markdown",
   "metadata": {},
   "source": [
    "- Guardad el dataframe, donde deberíais tener las variables estadandarizas, normalizadas y codificadas en un csv para usarlo en el próximo pairprogramming"
   ]
  },
  {
   "cell_type": "code",
   "execution_count": 10,
   "metadata": {},
   "outputs": [],
   "source": [
    "df.to_csv('../archivos/metro_4.csv')"
   ]
  }
 ],
 "metadata": {
  "kernelspec": {
   "display_name": "base",
   "language": "python",
   "name": "python3"
  },
  "language_info": {
   "codemirror_mode": {
    "name": "ipython",
    "version": 3
   },
   "file_extension": ".py",
   "mimetype": "text/x-python",
   "name": "python",
   "nbconvert_exporter": "python",
   "pygments_lexer": "ipython3",
   "version": "3.9.7"
  },
  "orig_nbformat": 4,
  "vscode": {
   "interpreter": {
    "hash": "b3191f930eabfdf0eb39086a24df618ea48425015dbb471465fb2c793fed20fd"
   }
  }
 },
 "nbformat": 4,
 "nbformat_minor": 2
}
