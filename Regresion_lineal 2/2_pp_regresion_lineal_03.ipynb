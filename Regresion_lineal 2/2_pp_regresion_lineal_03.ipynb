{
 "cells": [
  {
   "attachments": {},
   "cell_type": "markdown",
   "metadata": {},
   "source": [
    "## Pair Programming - Regresión lineal 3\n",
    "\n",
    "### Asunciones\n",
    "\n",
    "---"
   ]
  },
  {
   "attachments": {},
   "cell_type": "markdown",
   "metadata": {},
   "source": [
    "### 1. Importamos las librerías necesarias."
   ]
  },
  {
   "cell_type": "code",
   "execution_count": 3,
   "metadata": {},
   "outputs": [],
   "source": [
    "# Tratamiento de datos\n",
    "import numpy as np\n",
    "import pandas as pd\n",
    "\n",
    "# Gráficas\n",
    "import matplotlib.pyplot as plt\n",
    "import seaborn as sns\n",
    "\n",
    "# Estadísticos\n",
    "from scipy import stats\n",
    "import researchpy as rp\n",
    "from scipy.stats import levene\n",
    "\n",
    "# Configuración warnings\n",
    "import warnings\n",
    "warnings.filterwarnings('ignore')"
   ]
  },
  {
   "attachments": {},
   "cell_type": "markdown",
   "metadata": {},
   "source": [
    "### 2. Abrimos el archivo con el que vamos a trabajar."
   ]
  },
  {
   "cell_type": "code",
   "execution_count": 4,
   "metadata": {},
   "outputs": [],
   "source": [
    "df = pd.read_csv(\"../archivos/metro_A.csv\", index_col=0)"
   ]
  },
  {
   "cell_type": "code",
   "execution_count": 5,
   "metadata": {},
   "outputs": [
    {
     "name": "stdout",
     "output_type": "stream",
     "text": [
      "<class 'pandas.core.frame.DataFrame'>\n",
      "Int64Index: 48187 entries, 0 to 48203\n",
      "Data columns (total 7 columns):\n",
      " #   Column          Non-Null Count  Dtype  \n",
      "---  ------          --------------  -----  \n",
      " 0   date            48187 non-null  object \n",
      " 1   weekday         48187 non-null  object \n",
      " 2   time            48187 non-null  object \n",
      " 3   holiday_cat     48187 non-null  object \n",
      " 4   temp_c          48187 non-null  float64\n",
      " 5   snow_1h         48187 non-null  float64\n",
      " 6   traffic_volume  48187 non-null  int64  \n",
      "dtypes: float64(2), int64(1), object(4)\n",
      "memory usage: 2.9+ MB\n"
     ]
    }
   ],
   "source": [
    "df.info()"
   ]
  },
  {
   "cell_type": "code",
   "execution_count": 6,
   "metadata": {},
   "outputs": [
    {
     "data": {
      "text/html": [
       "<div>\n",
       "<style scoped>\n",
       "    .dataframe tbody tr th:only-of-type {\n",
       "        vertical-align: middle;\n",
       "    }\n",
       "\n",
       "    .dataframe tbody tr th {\n",
       "        vertical-align: top;\n",
       "    }\n",
       "\n",
       "    .dataframe thead th {\n",
       "        text-align: right;\n",
       "    }\n",
       "</style>\n",
       "<table border=\"1\" class=\"dataframe\">\n",
       "  <thead>\n",
       "    <tr style=\"text-align: right;\">\n",
       "      <th></th>\n",
       "      <th>date</th>\n",
       "      <th>weekday</th>\n",
       "      <th>time</th>\n",
       "      <th>holiday_cat</th>\n",
       "      <th>temp_c</th>\n",
       "      <th>snow_1h</th>\n",
       "      <th>traffic_volume</th>\n",
       "    </tr>\n",
       "  </thead>\n",
       "  <tbody>\n",
       "    <tr>\n",
       "      <th>0</th>\n",
       "      <td>2012-10-02</td>\n",
       "      <td>martes</td>\n",
       "      <td>09:00:00</td>\n",
       "      <td>no</td>\n",
       "      <td>15.13</td>\n",
       "      <td>0.0</td>\n",
       "      <td>5545</td>\n",
       "    </tr>\n",
       "    <tr>\n",
       "      <th>1</th>\n",
       "      <td>2012-10-02</td>\n",
       "      <td>martes</td>\n",
       "      <td>10:00:00</td>\n",
       "      <td>no</td>\n",
       "      <td>16.21</td>\n",
       "      <td>0.0</td>\n",
       "      <td>4516</td>\n",
       "    </tr>\n",
       "  </tbody>\n",
       "</table>\n",
       "</div>"
      ],
      "text/plain": [
       "         date weekday      time holiday_cat  temp_c  snow_1h  traffic_volume\n",
       "0  2012-10-02  martes  09:00:00          no   15.13      0.0            5545\n",
       "1  2012-10-02  martes  10:00:00          no   16.21      0.0            4516"
      ]
     },
     "execution_count": 6,
     "metadata": {},
     "output_type": "execute_result"
    }
   ],
   "source": [
    "df.head(2)"
   ]
  },
  {
   "attachments": {},
   "cell_type": "markdown",
   "metadata": {},
   "source": [
    "\n",
    "### 3. Evaluamos la Asunción de Normalidad de la variable respuesta."
   ]
  },
  {
   "attachments": {},
   "cell_type": "markdown",
   "metadata": {},
   "source": [
    "Esta asunción fue evaluada visual y analíticamente en el notebook anterior y nos indica que no hay normalidad en los datos, aceptando la H0."
   ]
  },
  {
   "attachments": {},
   "cell_type": "markdown",
   "metadata": {},
   "source": [
    "### 4. Evaluamos la Asunción de Homocedasticidad de varianzas.\n"
   ]
  },
  {
   "attachments": {},
   "cell_type": "markdown",
   "metadata": {},
   "source": [
    "#### 4.1. Gráficas para variables categóricas."
   ]
  },
  {
   "attachments": {},
   "cell_type": "markdown",
   "metadata": {},
   "source": [
    "Empezamos con las gráficas para ver la homogeneidad, la columna \"date_time\" la obviaremos, dado que no tiene mucho sentido, ya que aunque es de tipo object tiene más de 40000 registros únicos."
   ]
  },
  {
   "cell_type": "code",
   "execution_count": 7,
   "metadata": {},
   "outputs": [
    {
     "data": {
      "image/png": "[encoded data removed]",
      "text/plain": [
       "<Figure size 2160x360 with 1 Axes>"
      ]
     },
     "metadata": {
      "needs_background": "light"
     },
     "output_type": "display_data"
    }
   ],
   "source": [
    "plt.figure( figsize=(30,5))\n",
    "\n",
    "sns.violinplot(x= \"time\", y= \"traffic_volume\", data=df, palette=\"Paired\")\n",
    "plt.ylabel(\"Volumen de Gente\")\n",
    "plt.xlabel(\"Hora\");\n"
   ]
  },
  {
   "attachments": {},
   "cell_type": "markdown",
   "metadata": {},
   "source": [
    "### 4.2. Gráficas para variables numéricas."
   ]
  },
  {
   "cell_type": "code",
   "execution_count": 38,
   "metadata": {},
   "outputs": [
    {
     "data": {
      "image/png": "[encoded data removed]",
      "text/plain": [
       "<Figure size 1080x360 with 2 Axes>"
      ]
     },
     "metadata": {
      "needs_background": "light"
     },
     "output_type": "display_data"
    }
   ],
   "source": [
    "fig, axes = plt.subplots(nrows = 1, ncols = 2, figsize = (15, 5))\n",
    "\n",
    "lista_colores = [\"pink\", \"blue\"]\n",
    "\n",
    "axes = axes.flat\n",
    "\n",
    "columnas_numeric = df.select_dtypes(include = np.number).drop('traffic_volume', axis=1)\n",
    "columnas_numeric = columnas_numeric.columns\n",
    "\n",
    "\n",
    "for i, colum in enumerate(columnas_numeric): \n",
    "    sns.regplot(data = df, x = colum, y = 'traffic_volume', color = lista_colores[i], line_kws = {\"color\": \"black\", \"alpha\": 0.7 }, ax = axes[i])\n",
    "    \n",
    "   \n",
    "    axes[i].set_title(colum, fontsize = 15, fontweight = \"bold\")\n",
    "\n",
    "    axes[i].tick_params(labelsize = 10)\n",
    "\n",
    "    axes[i].set_xlabel(\"\")\n",
    "\n",
    "fig.tight_layout();"
   ]
  },
  {
   "attachments": {},
   "cell_type": "markdown",
   "metadata": {},
   "source": [
    "Son heterocedásticas, por lo que no cumplen la asunción de homocedasticidad."
   ]
  },
  {
   "attachments": {},
   "cell_type": "markdown",
   "metadata": {},
   "source": [
    "### 4.3. Test de Levene"
   ]
  },
  {
   "cell_type": "code",
   "execution_count": 25,
   "metadata": {},
   "outputs": [],
   "source": [
    "#Variable predictora \"holiday_cat\"\n",
    "festivo = df[df[\"holiday_cat\"]== 'si'][\"traffic_volume\"]\n",
    "no_festivo =df[df[\"holiday_cat\"]== 'no'][\"traffic_volume\"]"
   ]
  },
  {
   "cell_type": "code",
   "execution_count": 26,
   "metadata": {},
   "outputs": [
    {
     "data": {
      "text/plain": [
       "LeveneResult(statistic=149.92684277246298, pvalue=2.0237966542201124e-34)"
      ]
     },
     "execution_count": 26,
     "metadata": {},
     "output_type": "execute_result"
    }
   ],
   "source": [
    "levene_test = stats.levene(festivo, no_festivo)\n",
    "levene_test"
   ]
  },
  {
   "attachments": {},
   "cell_type": "markdown",
   "metadata": {},
   "source": [
    "El p-valor es < 0.05, rechazamos la H0, por tanto nuestra varianza en la variable \"holiday_cat\" es heterocedática."
   ]
  },
  {
   "cell_type": "code",
   "execution_count": 27,
   "metadata": {},
   "outputs": [],
   "source": [
    "#Variable predictora \"weekday\"\n",
    "lunes = df[df[\"weekday\"]== 'lunes'][\"traffic_volume\"]\n",
    "martes = df[df[\"weekday\"]== 'martes'][\"traffic_volume\"]\n",
    "miercoles = df[df[\"weekday\"]== 'miercoles'][\"traffic_volume\"]\n",
    "jueves = df[df[\"weekday\"]== 'jueves'][\"traffic_volume\"]\n",
    "viernes = df[df[\"weekday\"]== 'viernes'][\"traffic_volume\"]\n",
    "sabado = df[df[\"weekday\"]== 'sabado'][\"traffic_volume\"]\n",
    "domingo = df[df[\"weekday\"]== 'domingo'][\"traffic_volume\"]\n"
   ]
  },
  {
   "cell_type": "code",
   "execution_count": 28,
   "metadata": {},
   "outputs": [
    {
     "data": {
      "text/plain": [
       "LeveneResult(statistic=318.2927542402672, pvalue=0.0)"
      ]
     },
     "execution_count": 28,
     "metadata": {},
     "output_type": "execute_result"
    }
   ],
   "source": [
    "levene_test = stats.levene(lunes,martes,miercoles,jueves,viernes,sabado,domingo)\n",
    "levene_test"
   ]
  },
  {
   "cell_type": "markdown",
   "metadata": {},
   "source": [
    "El p-valor es < 0.05, rechazamos la H0, por tanto nuestra varianza en la variable \"weekday\" es heterocedática."
   ]
  },
  {
   "attachments": {},
   "cell_type": "markdown",
   "metadata": {},
   "source": [
    "### 5. Evaluamos la Asunción de Independencia entre las variables predictoras.\n"
   ]
  },
  {
   "cell_type": "code",
   "execution_count": 29,
   "metadata": {},
   "outputs": [],
   "source": [
    "crosstab, test_results, expected = rp.crosstab(df[\"holiday_cat\"], df[\"weekday\"], test= \"chi-square\", expected_freqs= True, prop= \"cell\")\n"
   ]
  },
  {
   "cell_type": "code",
   "execution_count": 30,
   "metadata": {},
   "outputs": [
    {
     "data": {
      "text/html": [
       "<div>\n",
       "<style scoped>\n",
       "    .dataframe tbody tr th:only-of-type {\n",
       "        vertical-align: middle;\n",
       "    }\n",
       "\n",
       "    .dataframe tbody tr th {\n",
       "        vertical-align: top;\n",
       "    }\n",
       "\n",
       "    .dataframe thead tr th {\n",
       "        text-align: left;\n",
       "    }\n",
       "\n",
       "    .dataframe thead tr:last-of-type th {\n",
       "        text-align: right;\n",
       "    }\n",
       "</style>\n",
       "<table border=\"1\" class=\"dataframe\">\n",
       "  <thead>\n",
       "    <tr>\n",
       "      <th></th>\n",
       "      <th colspan=\"8\" halign=\"left\">weekday</th>\n",
       "    </tr>\n",
       "    <tr>\n",
       "      <th>weekday</th>\n",
       "      <th>domingo</th>\n",
       "      <th>jueves</th>\n",
       "      <th>lunes</th>\n",
       "      <th>martes</th>\n",
       "      <th>miercoles</th>\n",
       "      <th>sabado</th>\n",
       "      <th>viernes</th>\n",
       "      <th>All</th>\n",
       "    </tr>\n",
       "    <tr>\n",
       "      <th>holiday_cat</th>\n",
       "      <th></th>\n",
       "      <th></th>\n",
       "      <th></th>\n",
       "      <th></th>\n",
       "      <th></th>\n",
       "      <th></th>\n",
       "      <th></th>\n",
       "      <th></th>\n",
       "    </tr>\n",
       "  </thead>\n",
       "  <tbody>\n",
       "    <tr>\n",
       "      <th>no</th>\n",
       "      <td>14.26</td>\n",
       "      <td>14.12</td>\n",
       "      <td>14.60</td>\n",
       "      <td>14.20</td>\n",
       "      <td>14.36</td>\n",
       "      <td>14.17</td>\n",
       "      <td>14.16</td>\n",
       "      <td>99.87</td>\n",
       "    </tr>\n",
       "    <tr>\n",
       "      <th>si</th>\n",
       "      <td>0.00</td>\n",
       "      <td>0.02</td>\n",
       "      <td>0.07</td>\n",
       "      <td>0.01</td>\n",
       "      <td>0.01</td>\n",
       "      <td>0.00</td>\n",
       "      <td>0.01</td>\n",
       "      <td>0.13</td>\n",
       "    </tr>\n",
       "    <tr>\n",
       "      <th>All</th>\n",
       "      <td>14.26</td>\n",
       "      <td>14.14</td>\n",
       "      <td>14.67</td>\n",
       "      <td>14.20</td>\n",
       "      <td>14.37</td>\n",
       "      <td>14.17</td>\n",
       "      <td>14.17</td>\n",
       "      <td>100.00</td>\n",
       "    </tr>\n",
       "  </tbody>\n",
       "</table>\n",
       "</div>"
      ],
      "text/plain": [
       "            weekday                                                      \n",
       "weekday     domingo jueves  lunes martes miercoles sabado viernes     All\n",
       "holiday_cat                                                              \n",
       "no            14.26  14.12  14.60  14.20     14.36  14.17   14.16   99.87\n",
       "si             0.00   0.02   0.07   0.01      0.01   0.00    0.01    0.13\n",
       "All           14.26  14.14  14.67  14.20     14.37  14.17   14.17  100.00"
      ]
     },
     "execution_count": 30,
     "metadata": {},
     "output_type": "execute_result"
    }
   ],
   "source": [
    "crosstab.head()"
   ]
  },
  {
   "cell_type": "code",
   "execution_count": 31,
   "metadata": {},
   "outputs": [
    {
     "data": {
      "text/html": [
       "<div>\n",
       "<style scoped>\n",
       "    .dataframe tbody tr th:only-of-type {\n",
       "        vertical-align: middle;\n",
       "    }\n",
       "\n",
       "    .dataframe tbody tr th {\n",
       "        vertical-align: top;\n",
       "    }\n",
       "\n",
       "    .dataframe thead tr th {\n",
       "        text-align: left;\n",
       "    }\n",
       "\n",
       "    .dataframe thead tr:last-of-type th {\n",
       "        text-align: right;\n",
       "    }\n",
       "</style>\n",
       "<table border=\"1\" class=\"dataframe\">\n",
       "  <thead>\n",
       "    <tr>\n",
       "      <th></th>\n",
       "      <th colspan=\"7\" halign=\"left\">weekday</th>\n",
       "    </tr>\n",
       "    <tr>\n",
       "      <th>weekday</th>\n",
       "      <th>domingo</th>\n",
       "      <th>jueves</th>\n",
       "      <th>lunes</th>\n",
       "      <th>martes</th>\n",
       "      <th>miercoles</th>\n",
       "      <th>sabado</th>\n",
       "      <th>viernes</th>\n",
       "    </tr>\n",
       "    <tr>\n",
       "      <th>holiday_cat</th>\n",
       "      <th></th>\n",
       "      <th></th>\n",
       "      <th></th>\n",
       "      <th></th>\n",
       "      <th></th>\n",
       "      <th></th>\n",
       "      <th></th>\n",
       "    </tr>\n",
       "  </thead>\n",
       "  <tbody>\n",
       "    <tr>\n",
       "      <th>no</th>\n",
       "      <td>6861.303256</td>\n",
       "      <td>6807.371615</td>\n",
       "      <td>7062.04881</td>\n",
       "      <td>6835.33617</td>\n",
       "      <td>6917.232366</td>\n",
       "      <td>6821.353892</td>\n",
       "      <td>6821.353892</td>\n",
       "    </tr>\n",
       "    <tr>\n",
       "      <th>si</th>\n",
       "      <td>8.696744</td>\n",
       "      <td>8.628385</td>\n",
       "      <td>8.95119</td>\n",
       "      <td>8.66383</td>\n",
       "      <td>8.767634</td>\n",
       "      <td>8.646108</td>\n",
       "      <td>8.646108</td>\n",
       "    </tr>\n",
       "  </tbody>\n",
       "</table>\n",
       "</div>"
      ],
      "text/plain": [
       "                 weekday                                                    \\\n",
       "weekday          domingo       jueves       lunes      martes    miercoles   \n",
       "holiday_cat                                                                  \n",
       "no           6861.303256  6807.371615  7062.04881  6835.33617  6917.232366   \n",
       "si              8.696744     8.628385     8.95119     8.66383     8.767634   \n",
       "\n",
       "                                       \n",
       "weekday           sabado      viernes  \n",
       "holiday_cat                            \n",
       "no           6821.353892  6821.353892  \n",
       "si              8.646108     8.646108  "
      ]
     },
     "execution_count": 31,
     "metadata": {},
     "output_type": "execute_result"
    }
   ],
   "source": [
    "expected"
   ]
  },
  {
   "cell_type": "code",
   "execution_count": 32,
   "metadata": {},
   "outputs": [
    {
     "data": {
      "text/html": [
       "<div>\n",
       "<style scoped>\n",
       "    .dataframe tbody tr th:only-of-type {\n",
       "        vertical-align: middle;\n",
       "    }\n",
       "\n",
       "    .dataframe tbody tr th {\n",
       "        vertical-align: top;\n",
       "    }\n",
       "\n",
       "    .dataframe thead th {\n",
       "        text-align: right;\n",
       "    }\n",
       "</style>\n",
       "<table border=\"1\" class=\"dataframe\">\n",
       "  <thead>\n",
       "    <tr style=\"text-align: right;\">\n",
       "      <th></th>\n",
       "      <th>Chi-square test</th>\n",
       "      <th>results</th>\n",
       "    </tr>\n",
       "  </thead>\n",
       "  <tbody>\n",
       "    <tr>\n",
       "      <th>0</th>\n",
       "      <td>Pearson Chi-square ( 6.0) =</td>\n",
       "      <td>107.6380</td>\n",
       "    </tr>\n",
       "    <tr>\n",
       "      <th>1</th>\n",
       "      <td>p-value =</td>\n",
       "      <td>0.0000</td>\n",
       "    </tr>\n",
       "    <tr>\n",
       "      <th>2</th>\n",
       "      <td>Cramer's V =</td>\n",
       "      <td>0.0473</td>\n",
       "    </tr>\n",
       "  </tbody>\n",
       "</table>\n",
       "</div>"
      ],
      "text/plain": [
       "                Chi-square test   results\n",
       "0  Pearson Chi-square ( 6.0) =   107.6380\n",
       "1                    p-value =     0.0000\n",
       "2                 Cramer's V =     0.0473"
      ]
     },
     "execution_count": 32,
     "metadata": {},
     "output_type": "execute_result"
    }
   ],
   "source": [
    "test_results"
   ]
  },
  {
   "attachments": {},
   "cell_type": "markdown",
   "metadata": {},
   "source": [
    "Dado que el p-valor es menor de 0.05 , las variables comparadas son dependientes ya que rechazamos la H0"
   ]
  },
  {
   "cell_type": "code",
   "execution_count": 33,
   "metadata": {},
   "outputs": [],
   "source": [
    "crosstab, test_results, expected = rp.crosstab(df[\"holiday_cat\"], df[\"temp_c\"], test= \"chi-square\", expected_freqs= True, prop= \"cell\")"
   ]
  },
  {
   "cell_type": "code",
   "execution_count": 34,
   "metadata": {},
   "outputs": [
    {
     "data": {
      "text/html": [
       "<div>\n",
       "<style scoped>\n",
       "    .dataframe tbody tr th:only-of-type {\n",
       "        vertical-align: middle;\n",
       "    }\n",
       "\n",
       "    .dataframe tbody tr th {\n",
       "        vertical-align: top;\n",
       "    }\n",
       "\n",
       "    .dataframe thead tr th {\n",
       "        text-align: left;\n",
       "    }\n",
       "\n",
       "    .dataframe thead tr:last-of-type th {\n",
       "        text-align: right;\n",
       "    }\n",
       "</style>\n",
       "<table border=\"1\" class=\"dataframe\">\n",
       "  <thead>\n",
       "    <tr>\n",
       "      <th></th>\n",
       "      <th colspan=\"21\" halign=\"left\">temp_c</th>\n",
       "    </tr>\n",
       "    <tr>\n",
       "      <th>temp_c</th>\n",
       "      <th>-29.75999999999999</th>\n",
       "      <th>-29.529999999999973</th>\n",
       "      <th>-28.92999999999998</th>\n",
       "      <th>-28.329999999999984</th>\n",
       "      <th>-28.25999999999999</th>\n",
       "      <th>-27.529999999999973</th>\n",
       "      <th>-27.44999999999999</th>\n",
       "      <th>-27.109999999999985</th>\n",
       "      <th>-26.99999999999997</th>\n",
       "      <th>-26.889999999999983</th>\n",
       "      <th>...</th>\n",
       "      <th>34.54000000000002</th>\n",
       "      <th>34.72000000000003</th>\n",
       "      <th>35.09000000000003</th>\n",
       "      <th>35.28000000000003</th>\n",
       "      <th>35.72000000000003</th>\n",
       "      <th>35.80000000000001</th>\n",
       "      <th>35.93000000000001</th>\n",
       "      <th>36.14000000000004</th>\n",
       "      <th>36.920000000000016</th>\n",
       "      <th>All</th>\n",
       "    </tr>\n",
       "    <tr>\n",
       "      <th>holiday_cat</th>\n",
       "      <th></th>\n",
       "      <th></th>\n",
       "      <th></th>\n",
       "      <th></th>\n",
       "      <th></th>\n",
       "      <th></th>\n",
       "      <th></th>\n",
       "      <th></th>\n",
       "      <th></th>\n",
       "      <th></th>\n",
       "      <th></th>\n",
       "      <th></th>\n",
       "      <th></th>\n",
       "      <th></th>\n",
       "      <th></th>\n",
       "      <th></th>\n",
       "      <th></th>\n",
       "      <th></th>\n",
       "      <th></th>\n",
       "      <th></th>\n",
       "      <th></th>\n",
       "    </tr>\n",
       "  </thead>\n",
       "  <tbody>\n",
       "    <tr>\n",
       "      <th>no</th>\n",
       "      <td>0.0</td>\n",
       "      <td>0.0</td>\n",
       "      <td>0.0</td>\n",
       "      <td>0.01</td>\n",
       "      <td>0.0</td>\n",
       "      <td>0.0</td>\n",
       "      <td>0.01</td>\n",
       "      <td>0.0</td>\n",
       "      <td>0.0</td>\n",
       "      <td>0.0</td>\n",
       "      <td>...</td>\n",
       "      <td>0.0</td>\n",
       "      <td>0.0</td>\n",
       "      <td>0.0</td>\n",
       "      <td>0.0</td>\n",
       "      <td>0.0</td>\n",
       "      <td>0.0</td>\n",
       "      <td>0.0</td>\n",
       "      <td>0.0</td>\n",
       "      <td>0.0</td>\n",
       "      <td>99.87</td>\n",
       "    </tr>\n",
       "    <tr>\n",
       "      <th>si</th>\n",
       "      <td>0.0</td>\n",
       "      <td>0.0</td>\n",
       "      <td>0.0</td>\n",
       "      <td>0.00</td>\n",
       "      <td>0.0</td>\n",
       "      <td>0.0</td>\n",
       "      <td>0.00</td>\n",
       "      <td>0.0</td>\n",
       "      <td>0.0</td>\n",
       "      <td>0.0</td>\n",
       "      <td>...</td>\n",
       "      <td>0.0</td>\n",
       "      <td>0.0</td>\n",
       "      <td>0.0</td>\n",
       "      <td>0.0</td>\n",
       "      <td>0.0</td>\n",
       "      <td>0.0</td>\n",
       "      <td>0.0</td>\n",
       "      <td>0.0</td>\n",
       "      <td>0.0</td>\n",
       "      <td>0.13</td>\n",
       "    </tr>\n",
       "    <tr>\n",
       "      <th>All</th>\n",
       "      <td>0.0</td>\n",
       "      <td>0.0</td>\n",
       "      <td>0.0</td>\n",
       "      <td>0.01</td>\n",
       "      <td>0.0</td>\n",
       "      <td>0.0</td>\n",
       "      <td>0.01</td>\n",
       "      <td>0.0</td>\n",
       "      <td>0.0</td>\n",
       "      <td>0.0</td>\n",
       "      <td>...</td>\n",
       "      <td>0.0</td>\n",
       "      <td>0.0</td>\n",
       "      <td>0.0</td>\n",
       "      <td>0.0</td>\n",
       "      <td>0.0</td>\n",
       "      <td>0.0</td>\n",
       "      <td>0.0</td>\n",
       "      <td>0.0</td>\n",
       "      <td>0.0</td>\n",
       "      <td>100.00</td>\n",
       "    </tr>\n",
       "  </tbody>\n",
       "</table>\n",
       "<p>3 rows × 5843 columns</p>\n",
       "</div>"
      ],
      "text/plain": [
       "                        temp_c                                         \\\n",
       "temp_c      -29.75999999999999 -29.529999999999973 -28.92999999999998   \n",
       "holiday_cat                                                             \n",
       "no                         0.0                 0.0                0.0   \n",
       "si                         0.0                 0.0                0.0   \n",
       "All                        0.0                 0.0                0.0   \n",
       "\n",
       "                                                                        \\\n",
       "temp_c      -28.329999999999984 -28.25999999999999 -27.529999999999973   \n",
       "holiday_cat                                                              \n",
       "no                         0.01                0.0                 0.0   \n",
       "si                         0.00                0.0                 0.0   \n",
       "All                        0.01                0.0                 0.0   \n",
       "\n",
       "                                                                       \\\n",
       "temp_c      -27.44999999999999 -27.109999999999985 -26.99999999999997   \n",
       "holiday_cat                                                             \n",
       "no                        0.01                 0.0                0.0   \n",
       "si                        0.00                 0.0                0.0   \n",
       "All                       0.01                 0.0                0.0   \n",
       "\n",
       "                                 ...                                      \\\n",
       "temp_c      -26.889999999999983  ... 34.54000000000002 34.72000000000003   \n",
       "holiday_cat                      ...                                       \n",
       "no                          0.0  ...               0.0               0.0   \n",
       "si                          0.0  ...               0.0               0.0   \n",
       "All                         0.0  ...               0.0               0.0   \n",
       "\n",
       "                                                                   \\\n",
       "temp_c      35.09000000000003 35.28000000000003 35.72000000000003   \n",
       "holiday_cat                                                         \n",
       "no                        0.0               0.0               0.0   \n",
       "si                        0.0               0.0               0.0   \n",
       "All                       0.0               0.0               0.0   \n",
       "\n",
       "                                                                   \\\n",
       "temp_c      35.80000000000001 35.93000000000001 36.14000000000004   \n",
       "holiday_cat                                                         \n",
       "no                        0.0               0.0               0.0   \n",
       "si                        0.0               0.0               0.0   \n",
       "All                       0.0               0.0               0.0   \n",
       "\n",
       "                                        \n",
       "temp_c      36.920000000000016     All  \n",
       "holiday_cat                             \n",
       "no                         0.0   99.87  \n",
       "si                         0.0    0.13  \n",
       "All                        0.0  100.00  \n",
       "\n",
       "[3 rows x 5843 columns]"
      ]
     },
     "execution_count": 34,
     "metadata": {},
     "output_type": "execute_result"
    }
   ],
   "source": [
    "crosstab"
   ]
  },
  {
   "cell_type": "code",
   "execution_count": 35,
   "metadata": {},
   "outputs": [
    {
     "data": {
      "text/html": [
       "<div>\n",
       "<style scoped>\n",
       "    .dataframe tbody tr th:only-of-type {\n",
       "        vertical-align: middle;\n",
       "    }\n",
       "\n",
       "    .dataframe tbody tr th {\n",
       "        vertical-align: top;\n",
       "    }\n",
       "\n",
       "    .dataframe thead tr th {\n",
       "        text-align: left;\n",
       "    }\n",
       "\n",
       "    .dataframe thead tr:last-of-type th {\n",
       "        text-align: right;\n",
       "    }\n",
       "</style>\n",
       "<table border=\"1\" class=\"dataframe\">\n",
       "  <thead>\n",
       "    <tr>\n",
       "      <th></th>\n",
       "      <th colspan=\"21\" halign=\"left\">temp_c</th>\n",
       "    </tr>\n",
       "    <tr>\n",
       "      <th>temp_c</th>\n",
       "      <th>-29.76</th>\n",
       "      <th>-29.53</th>\n",
       "      <th>-28.93</th>\n",
       "      <th>-28.33</th>\n",
       "      <th>-28.26</th>\n",
       "      <th>-27.53</th>\n",
       "      <th>-27.45</th>\n",
       "      <th>-27.11</th>\n",
       "      <th>-27.00</th>\n",
       "      <th>-26.89</th>\n",
       "      <th>...</th>\n",
       "      <th>34.53</th>\n",
       "      <th>34.54</th>\n",
       "      <th>34.72</th>\n",
       "      <th>35.09</th>\n",
       "      <th>35.28</th>\n",
       "      <th>35.72</th>\n",
       "      <th>35.80</th>\n",
       "      <th>35.93</th>\n",
       "      <th>36.14</th>\n",
       "      <th>36.92</th>\n",
       "    </tr>\n",
       "    <tr>\n",
       "      <th>holiday_cat</th>\n",
       "      <th></th>\n",
       "      <th></th>\n",
       "      <th></th>\n",
       "      <th></th>\n",
       "      <th></th>\n",
       "      <th></th>\n",
       "      <th></th>\n",
       "      <th></th>\n",
       "      <th></th>\n",
       "      <th></th>\n",
       "      <th></th>\n",
       "      <th></th>\n",
       "      <th></th>\n",
       "      <th></th>\n",
       "      <th></th>\n",
       "      <th></th>\n",
       "      <th></th>\n",
       "      <th></th>\n",
       "      <th></th>\n",
       "      <th></th>\n",
       "      <th></th>\n",
       "    </tr>\n",
       "  </thead>\n",
       "  <tbody>\n",
       "    <tr>\n",
       "      <th>no</th>\n",
       "      <td>0.998734</td>\n",
       "      <td>0.998734</td>\n",
       "      <td>0.998734</td>\n",
       "      <td>2.996202</td>\n",
       "      <td>0.998734</td>\n",
       "      <td>0.998734</td>\n",
       "      <td>2.996202</td>\n",
       "      <td>0.998734</td>\n",
       "      <td>1.997468</td>\n",
       "      <td>0.998734</td>\n",
       "      <td>...</td>\n",
       "      <td>0.998734</td>\n",
       "      <td>0.998734</td>\n",
       "      <td>0.998734</td>\n",
       "      <td>0.998734</td>\n",
       "      <td>0.998734</td>\n",
       "      <td>0.998734</td>\n",
       "      <td>0.998734</td>\n",
       "      <td>0.998734</td>\n",
       "      <td>0.998734</td>\n",
       "      <td>0.998734</td>\n",
       "    </tr>\n",
       "    <tr>\n",
       "      <th>si</th>\n",
       "      <td>0.001266</td>\n",
       "      <td>0.001266</td>\n",
       "      <td>0.001266</td>\n",
       "      <td>0.003798</td>\n",
       "      <td>0.001266</td>\n",
       "      <td>0.001266</td>\n",
       "      <td>0.003798</td>\n",
       "      <td>0.001266</td>\n",
       "      <td>0.002532</td>\n",
       "      <td>0.001266</td>\n",
       "      <td>...</td>\n",
       "      <td>0.001266</td>\n",
       "      <td>0.001266</td>\n",
       "      <td>0.001266</td>\n",
       "      <td>0.001266</td>\n",
       "      <td>0.001266</td>\n",
       "      <td>0.001266</td>\n",
       "      <td>0.001266</td>\n",
       "      <td>0.001266</td>\n",
       "      <td>0.001266</td>\n",
       "      <td>0.001266</td>\n",
       "    </tr>\n",
       "  </tbody>\n",
       "</table>\n",
       "<p>2 rows × 5842 columns</p>\n",
       "</div>"
      ],
      "text/plain": [
       "               temp_c                                                    \\\n",
       "temp_c         -29.76    -29.53    -28.93    -28.33    -28.26    -27.53   \n",
       "holiday_cat                                                               \n",
       "no           0.998734  0.998734  0.998734  2.996202  0.998734  0.998734   \n",
       "si           0.001266  0.001266  0.001266  0.003798  0.001266  0.001266   \n",
       "\n",
       "                                                     ...                      \\\n",
       "temp_c         -27.45    -27.11    -27.00    -26.89  ...     34.53     34.54   \n",
       "holiday_cat                                          ...                       \n",
       "no           2.996202  0.998734  1.997468  0.998734  ...  0.998734  0.998734   \n",
       "si           0.003798  0.001266  0.002532  0.001266  ...  0.001266  0.001266   \n",
       "\n",
       "                                                                         \\\n",
       "temp_c          34.72     35.09     35.28     35.72     35.80     35.93   \n",
       "holiday_cat                                                               \n",
       "no           0.998734  0.998734  0.998734  0.998734  0.998734  0.998734   \n",
       "si           0.001266  0.001266  0.001266  0.001266  0.001266  0.001266   \n",
       "\n",
       "                                 \n",
       "temp_c          36.14     36.92  \n",
       "holiday_cat                      \n",
       "no           0.998734  0.998734  \n",
       "si           0.001266  0.001266  \n",
       "\n",
       "[2 rows x 5842 columns]"
      ]
     },
     "execution_count": 35,
     "metadata": {},
     "output_type": "execute_result"
    }
   ],
   "source": [
    "expected"
   ]
  },
  {
   "cell_type": "code",
   "execution_count": 36,
   "metadata": {},
   "outputs": [
    {
     "data": {
      "text/html": [
       "<div>\n",
       "<style scoped>\n",
       "    .dataframe tbody tr th:only-of-type {\n",
       "        vertical-align: middle;\n",
       "    }\n",
       "\n",
       "    .dataframe tbody tr th {\n",
       "        vertical-align: top;\n",
       "    }\n",
       "\n",
       "    .dataframe thead th {\n",
       "        text-align: right;\n",
       "    }\n",
       "</style>\n",
       "<table border=\"1\" class=\"dataframe\">\n",
       "  <thead>\n",
       "    <tr style=\"text-align: right;\">\n",
       "      <th></th>\n",
       "      <th>Chi-square test</th>\n",
       "      <th>results</th>\n",
       "    </tr>\n",
       "  </thead>\n",
       "  <tbody>\n",
       "    <tr>\n",
       "      <th>0</th>\n",
       "      <td>Pearson Chi-square ( 5841.0) =</td>\n",
       "      <td>6082.5258</td>\n",
       "    </tr>\n",
       "    <tr>\n",
       "      <th>1</th>\n",
       "      <td>p-value =</td>\n",
       "      <td>0.0135</td>\n",
       "    </tr>\n",
       "    <tr>\n",
       "      <th>2</th>\n",
       "      <td>Cramer's V =</td>\n",
       "      <td>0.3553</td>\n",
       "    </tr>\n",
       "  </tbody>\n",
       "</table>\n",
       "</div>"
      ],
      "text/plain": [
       "                   Chi-square test    results\n",
       "0  Pearson Chi-square ( 5841.0) =   6082.5258\n",
       "1                       p-value =      0.0135\n",
       "2                    Cramer's V =      0.3553"
      ]
     },
     "execution_count": 36,
     "metadata": {},
     "output_type": "execute_result"
    }
   ],
   "source": [
    "test_results"
   ]
  },
  {
   "attachments": {},
   "cell_type": "markdown",
   "metadata": {},
   "source": [
    "Obviamente el p-valor es menor de 0.05 y por tanto rechazamos H0, lo que quiere decir que las variables de \"holiday_cat\" y \"temp_c\" son dependientes."
   ]
  }
 ],
 "metadata": {
  "kernelspec": {
   "display_name": "base",
   "language": "python",
   "name": "python3"
  },
  "language_info": {
   "codemirror_mode": {
    "name": "ipython",
    "version": 3
   },
   "file_extension": ".py",
   "mimetype": "text/x-python",
   "name": "python",
   "nbconvert_exporter": "python",
   "pygments_lexer": "ipython3",
   "version": "3.9.7"
  },
  "orig_nbformat": 4,
  "vscode": {
   "interpreter": {
    "hash": "819a5c43c1fad9e35c5b1180124e231b422fc24c453463d400a90e0aae1b9c8c"
   }
  }
 },
 "nbformat": 4,
 "nbformat_minor": 2
}
